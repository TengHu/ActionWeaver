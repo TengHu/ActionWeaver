{
 "cells": [
  {
   "cell_type": "markdown",
   "id": "02433815-7bb9-4e61-be67-db4854f0c403",
   "metadata": {},
   "source": [
    "# Quickstart\n",
    "\n",
    "This demonstration illustrates a straightforward way to utilize any Python function in your OpenAI calls as a function."
   ]
  },
  {
   "cell_type": "code",
   "execution_count": 1,
   "id": "70c94281-1d38-4e34-bbd0-92ff70227482",
   "metadata": {},
   "outputs": [],
   "source": [
    "import logging\n",
    "import os\n",
    "import openai\n",
    "import itertools\n",
    "\n",
    "\n",
    "from actionweaver.llms.openai.chat import OpenAIChatCompletion\n",
    "from actionweaver.llms.openai.tokens import TokenUsageTracker\n",
    "from actionweaver import action\n",
    "\n",
    "openai.api_key = os.getenv(\"OPENAI_API_KEY\")"
   ]
  },
  {
   "cell_type": "code",
   "execution_count": null,
   "id": "b06236b9-2fb7-4ab8-bb27-a9dde5492eb6",
   "metadata": {},
   "outputs": [],
   "source": []
  },
  {
   "cell_type": "code",
   "execution_count": 2,
   "id": "08caafb5-37ca-4c69-a893-58e3313ef9f9",
   "metadata": {},
   "outputs": [],
   "source": [
    "logging.basicConfig(\n",
    "    filename='agent.log',\n",
    "    filemode='a',\n",
    "    format='%(asctime)s.%(msecs)04d %(levelname)s {%(module)s} [%(funcName)s] %(message)s',\n",
    "    level=logging.INFO,\n",
    "    datefmt='%Y-%m-%d %H:%M:%S'\n",
    ")\n",
    "\n",
    "logger = logging.getLogger(__name__)\n",
    "logger.setLevel(logging.DEBUG)"
   ]
  },
  {
   "cell_type": "code",
   "execution_count": 3,
   "id": "c5022c13-955b-4518-b8f0-85c2f2480ff2",
   "metadata": {},
   "outputs": [],
   "source": [
    "@action(name=\"GetCurrentTime\")\n",
    "def get_current_time() -> str:\n",
    "    \"\"\"\n",
    "    Use this for getting the current time in the specified time zone.\n",
    "    \n",
    "    :return: A string representing the current time in the specified time zone.\n",
    "    \"\"\"\n",
    "    import datetime\n",
    "    current_time = datetime.datetime.now()\n",
    "    \n",
    "    return f\"The current time is {current_time}\"\n",
    "\n",
    "\n",
    "@action(name=\"Sleep\")\n",
    "def sleep(seconds: int) -> str:\n",
    "    \"\"\"\n",
    "    Introduces a sleep delay of the specified seconds and returns a message.\n",
    "\n",
    "    Args:\n",
    "        seconds (int): The duration to sleep in seconds.\n",
    "\n",
    "    Returns:\n",
    "        str: A message indicating the completion of the sleep.\n",
    "    \"\"\"\n",
    "    import time\n",
    "    time.sleep(seconds)\n",
    "    return f\"Now I wake up after sleep {seconds} seconds.\"\n"
   ]
  },
  {
   "cell_type": "code",
   "execution_count": 4,
   "id": "c49de535-ed6d-451c-9949-6ecf92fba5da",
   "metadata": {},
   "outputs": [],
   "source": [
    "chat = OpenAIChatCompletion(\"gpt-3.5-turbo\", token_usage_tracker = TokenUsageTracker(budget=2000, logger=logger), logger=logger)"
   ]
  },
  {
   "cell_type": "code",
   "execution_count": 9,
   "id": "e7235fd4-52ba-4909-8bed-63aac279b0b7",
   "metadata": {},
   "outputs": [
    {
     "name": "stdout",
     "output_type": "stream",
     "text": [
      "The current time is 10:28 AM.\n"
     ]
    }
   ],
   "source": [
    "def print_output(output):\n",
    "    if type(output) == itertools._tee:\n",
    "        for chunk in output:\n",
    "            content = chunk.choices[0].delta.content\n",
    "            if content is not None:\n",
    "                print(content, end='')\n",
    "    else:\n",
    "        print (output)\n",
    "\n",
    "\n",
    "\n",
    "print_output(chat.create([{\"role\": \"user\", \"content\": \"what time is it ? \"}], actions = [sleep, get_current_time], stream=True))"
   ]
  },
  {
   "cell_type": "code",
   "execution_count": null,
   "id": "765f6cae-4045-4064-a7e8-79b5ebc4237c",
   "metadata": {},
   "outputs": [],
   "source": []
  },
  {
   "cell_type": "code",
   "execution_count": null,
   "id": "4c73436f-9c8e-4a1a-8428-02cf3ad8a3b4",
   "metadata": {},
   "outputs": [],
   "source": []
  },
  {
   "cell_type": "code",
   "execution_count": null,
   "id": "772b9536-837e-4ba1-9501-d19a6b5e23c5",
   "metadata": {},
   "outputs": [],
   "source": []
  }
 ],
 "metadata": {
  "kernelspec": {
   "display_name": "Python 3 (ipykernel)",
   "language": "python",
   "name": "python3"
  },
  "language_info": {
   "codemirror_mode": {
    "name": "ipython",
    "version": 3
   },
   "file_extension": ".py",
   "mimetype": "text/x-python",
   "name": "python",
   "nbconvert_exporter": "python",
   "pygments_lexer": "ipython3",
   "version": "3.9.2"
  }
 },
 "nbformat": 4,
 "nbformat_minor": 5
}
