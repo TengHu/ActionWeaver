{
 "cells": [
  {
   "cell_type": "markdown",
   "id": "9d339680-9875-4563-bf24-124d5a2cfc37",
   "metadata": {},
   "source": [
    "# Use Cases\n",
    "\n",
    "\n",
    "- [Quickstart](quickstart.ipynb)"
   ]
  }
 ],
 "metadata": {
  "kernelspec": {
   "display_name": "Python 3 (ipykernel)",
   "language": "python",
   "name": "python3"
  },
  "language_info": {
   "codemirror_mode": {
    "name": "ipython",
    "version": 3
   },
   "file_extension": ".py",
   "mimetype": "text/x-python",
   "name": "python",
   "nbconvert_exporter": "python",
   "pygments_lexer": "ipython3",
   "version": "3.9.2"
  }
 },
 "nbformat": 4,
 "nbformat_minor": 5
}
