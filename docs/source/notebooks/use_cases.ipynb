{
 "cells": [
  {
   "cell_type": "markdown",
   "id": "9d339680-9875-4563-bf24-124d5a2cfc37",
   "metadata": {},
   "source": [
    "# Use Cases\n",
    "\n",
    "\n",
    "- [Quickstart](quickstart.ipynb)\n",
    "- [Stateful Agent](stateful_agent.ipynb)\n",
    "- [ReAct/Planning Agent](planning_agent.ipynb)\n",
    "- [Azure OpenAI service](azure.ipynb)\n",
    "- [Parallel Function Calling](parallel_tools.ipynb)"
   ]
  },
  {
   "cell_type": "code",
   "execution_count": null,
   "id": "97ea7a30-2362-42ed-a29c-b1e79b21881b",
   "metadata": {},
   "outputs": [],
   "source": []
  }
 ],
 "metadata": {
  "kernelspec": {
   "display_name": "Python 3 (ipykernel)",
   "language": "python",
   "name": "python3"
  },
  "language_info": {
   "codemirror_mode": {
    "name": "ipython",
    "version": 3
   },
   "file_extension": ".py",
   "mimetype": "text/x-python",
   "name": "python",
   "nbconvert_exporter": "python",
   "pygments_lexer": "ipython3",
   "version": "3.9.18"
  }
 },
 "nbformat": 4,
 "nbformat_minor": 5
}
