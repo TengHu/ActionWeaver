{
 "cells": [
  {
   "cell_type": "code",
   "execution_count": 2,
   "id": "22ae3974-52c2-46a9-ba7e-7dff1349013b",
   "metadata": {},
   "outputs": [],
   "source": [
    "import os\n",
    "# import openai\n",
    "from actionweaver.llms.openai.functions.chat import OpenAIChatCompletion\n",
    "from actionweaver import action\n",
    "from actionweaver.utils.pydantic_utils import create_pydantic_model_from_func\n",
    "\n",
    "\n",
    "\n",
    "\n",
    "# openai.api_key = os.getenv(\"OPENAI_API_KEY\")"
   ]
  },
  {
   "cell_type": "code",
   "execution_count": 3,
   "id": "e272137d-543b-4812-9b2e-a2b8d63fa4f0",
   "metadata": {},
   "outputs": [],
   "source": [
    "chat = OpenAIChatCompletion(\"gpt-3.5-turbo\")\n",
    "\n",
    "\n",
    "\n"
   ]
  },
  {
   "cell_type": "code",
   "execution_count": 4,
   "id": "f776b931-fcc8-4a36-99ed-4189eb9663a4",
   "metadata": {},
   "outputs": [],
   "source": [
    "from actionweaver.llms.azure.chat import ChatCompletion\n",
    "azure_chat = ChatCompletion(\n",
    "    model=\"gpt-35-turbo-0613-16k\", \n",
    "    azure_endpoint = os.getenv(\"AZURE_OPENAI_ENDPOINT\"), \n",
    "    api_key=os.getenv(\"AZURE_OPENAI_KEY\"),  \n",
    "    api_version=\"2023-10-01-preview\")"
   ]
  },
  {
   "cell_type": "code",
   "execution_count": null,
   "id": "630aa223-bbb8-43ee-851e-146063b93a6a",
   "metadata": {},
   "outputs": [],
   "source": []
  },
  {
   "cell_type": "code",
   "execution_count": 8,
   "id": "ee7192b7-9361-4398-9b55-3a6b51e82e14",
   "metadata": {},
   "outputs": [
    {
     "data": {
      "text/plain": [
       "User(name='Tom', age=31)"
      ]
     },
     "execution_count": 8,
     "metadata": {},
     "output_type": "execute_result"
    }
   ],
   "source": [
    "from pydantic import BaseModel\n",
    "from actionweaver.actions.factories.pydantic_model_to_action import action_from_model\n",
    "\n",
    "class User(BaseModel):\n",
    "    name: str\n",
    "    age: int\n",
    "\n",
    "action_from_model(User).invoke(azure_chat, [{\"role\": \"user\", \"content\": \"Tom is 31 years old\"}])"
   ]
  },
  {
   "cell_type": "code",
   "execution_count": null,
   "id": "22b32185-98da-445c-a1ef-003f59451703",
   "metadata": {},
   "outputs": [],
   "source": []
  },
  {
   "cell_type": "code",
   "execution_count": null,
   "id": "36b94159-f64a-4d58-9654-b52f8b9a11a3",
   "metadata": {},
   "outputs": [],
   "source": []
  },
  {
   "cell_type": "code",
   "execution_count": null,
   "id": "81df5223-7978-4bda-9f82-f42cec5b9fbc",
   "metadata": {},
   "outputs": [],
   "source": []
  }
 ],
 "metadata": {
  "kernelspec": {
   "display_name": "Python 3 (ipykernel)",
   "language": "python",
   "name": "python3"
  },
  "language_info": {
   "codemirror_mode": {
    "name": "ipython",
    "version": 3
   },
   "file_extension": ".py",
   "mimetype": "text/x-python",
   "name": "python",
   "nbconvert_exporter": "python",
   "pygments_lexer": "ipython3",
   "version": "3.9.18"
  }
 },
 "nbformat": 4,
 "nbformat_minor": 5
}
