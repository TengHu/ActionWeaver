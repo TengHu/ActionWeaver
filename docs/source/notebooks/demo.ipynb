{
 "cells": [
  {
   "cell_type": "markdown",
   "id": "e3bde95e-10a1-4911-ab3a-7ed7134a50b4",
   "metadata": {},
   "source": [
    "# Demo\n",
    "\n",
    "\n",
    "[a link](tutorial.ipynb)"
   ]
  }
 ],
 "metadata": {
  "kernelspec": {
   "display_name": "Python 3 (ipykernel)",
   "language": "python",
   "name": "python3"
  },
  "language_info": {
   "codemirror_mode": {
    "name": "ipython",
    "version": 3
   },
   "file_extension": ".py",
   "mimetype": "text/x-python",
   "name": "python",
   "nbconvert_exporter": "python",
   "pygments_lexer": "ipython3",
   "version": "3.9.2"
  }
 },
 "nbformat": 4,
 "nbformat_minor": 5
}
