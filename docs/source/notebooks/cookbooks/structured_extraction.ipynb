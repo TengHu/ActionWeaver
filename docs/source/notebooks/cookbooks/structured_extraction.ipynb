{
 "cells": [
  {
   "cell_type": "markdown",
   "id": "8e469c96-d2b3-459c-afd5-182e9717257e",
   "metadata": {},
   "source": [
    "# Structured Data Extraction: Utilizing Pydantic and ActionWeaver\n",
    "\n",
    "This guide is designed to demonstrate the process of using Pydantic along with ActionWeaver for structured data extraction.\n"
   ]
  },
  {
   "cell_type": "markdown",
   "id": "4fec464c-f265-4e77-b75b-d01b853b56ec",
   "metadata": {},
   "source": [
    "**Step 1**: Patch OpenAI client"
   ]
  },
  {
   "cell_type": "code",
   "execution_count": 5,
   "id": "7bac7b1d-6119-4434-afd7-310ff720fcc2",
   "metadata": {},
   "outputs": [],
   "source": [
    "from pydantic import BaseModel\n",
    "from actionweaver.actions.factories.pydantic_model_to_action import action_from_model\n",
    "import os\n",
    "from openai import OpenAI\n",
    "from actionweaver.llms import patch\n",
    "\n",
    "\n",
    "client = patch(OpenAI())"
   ]
  },
  {
   "cell_type": "markdown",
   "id": "8e41e0d2-1d3b-49bb-be2a-9e9bebd52db3",
   "metadata": {},
   "source": [
    "**Step 2**: Define function you want model to invoke"
   ]
  },
  {
   "cell_type": "code",
   "execution_count": 7,
   "id": "e27716ae-f4f6-4908-92b3-ba81911ac8d2",
   "metadata": {},
   "outputs": [],
   "source": [
    "from typing import List\n",
    "from actionweaver import action\n",
    "\n",
    "@action(name=\"GetCurrentTime\")\n",
    "def get_current_time() -> str:\n",
    "    \"\"\"\n",
    "    Use this for getting the current time in the specified time zone.\n",
    "    \n",
    "    :return: A string representing the current time in the specified time zone.\n",
    "    \"\"\"\n",
    "    print (\"Getting current time...\")\n",
    "    import datetime\n",
    "    current_time = datetime.datetime.now()\n",
    "    \n",
    "    return f\"The current time is {current_time}\"\n",
    "\n",
    "\n",
    "class User(BaseModel):\n",
    "    name: str\n",
    "    age: int\n",
    "\n",
    "class Users(BaseModel):\n",
    "    users: List[User]\n",
    "\n"
   ]
  },
  {
   "cell_type": "code",
   "execution_count": 8,
   "id": "d023ef2e-6fed-4841-aae1-0a9b3e990d23",
   "metadata": {},
   "outputs": [
    {
     "data": {
      "text/plain": [
       "Users(users=[User(name='Tom', age=31), User(name='James', age=25)])"
      ]
     },
     "execution_count": 8,
     "metadata": {},
     "output_type": "execute_result"
    }
   ],
   "source": [
    "action_from_model(Users, stop=True).invoke(client, messages=[{\"role\": \"user\", \"content\": \"Tom is 31 years old, James is 25 years old\"}], model=\"gpt-3.5-turbo\", stream=False, force=False)"
   ]
  },
  {
   "cell_type": "code",
   "execution_count": null,
   "id": "859caacf-1e9f-4049-82e6-2ccccc49392a",
   "metadata": {},
   "outputs": [],
   "source": []
  }
 ],
 "metadata": {
  "kernelspec": {
   "display_name": "Python 3 (ipykernel)",
   "language": "python",
   "name": "python3"
  },
  "language_info": {
   "codemirror_mode": {
    "name": "ipython",
    "version": 3
   },
   "file_extension": ".py",
   "mimetype": "text/x-python",
   "name": "python",
   "nbconvert_exporter": "python",
   "pygments_lexer": "ipython3",
   "version": "3.11.0"
  }
 },
 "nbformat": 4,
 "nbformat_minor": 5
}
