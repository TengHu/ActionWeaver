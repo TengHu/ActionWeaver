{
 "cells": [
  {
   "cell_type": "code",
   "execution_count": 18,
   "id": "9e64b1c9-8a61-4a04-82a5-8ba14dbe8817",
   "metadata": {},
   "outputs": [
    {
     "name": "stdout",
     "output_type": "stream",
     "text": [
      "The autoreload extension is already loaded. To reload it, use:\n",
      "  %reload_ext autoreload\n"
     ]
    }
   ],
   "source": [
    "%load_ext autoreload\n",
    "%autoreload 2"
   ]
  },
  {
   "cell_type": "markdown",
   "id": "8e469c96-d2b3-459c-afd5-182e9717257e",
   "metadata": {},
   "source": [
    "# Structured Data Extraction: Utilizing Pydantic and ActionWeaver\n",
    "\n",
    "This guide is designed to demonstrate the process of using Pydantic along with ActionWeaver for structured data extraction.\n"
   ]
  },
  {
   "cell_type": "markdown",
   "id": "4fec464c-f265-4e77-b75b-d01b853b56ec",
   "metadata": {},
   "source": [
    "**Step 1**: Patch OpenAI client"
   ]
  },
  {
   "cell_type": "code",
   "execution_count": 28,
   "id": "7bac7b1d-6119-4434-afd7-310ff720fcc2",
   "metadata": {},
   "outputs": [],
   "source": [
    "from pydantic import BaseModel\n",
    "from actionweaver.actions.factories.pydantic_model_to_action import  action_from_model\n",
    "import os\n",
    "from openai import OpenAI\n",
    "from actionweaver.llms import patch\n",
    "\n",
    "\n",
    "client = patch(OpenAI())"
   ]
  },
  {
   "cell_type": "markdown",
   "id": "8e41e0d2-1d3b-49bb-be2a-9e9bebd52db3",
   "metadata": {},
   "source": [
    "**Step 2**: Define function you want model to invoke"
   ]
  },
  {
   "cell_type": "code",
   "execution_count": 26,
   "id": "e27716ae-f4f6-4908-92b3-ba81911ac8d2",
   "metadata": {},
   "outputs": [],
   "source": [
    "from typing import List\n",
    "from actionweaver import action\n",
    "\n",
    "@action(name=\"GetCurrentTime\")\n",
    "def get_current_time() -> str:\n",
    "    \"\"\"\n",
    "    Use this for getting the current time in the specified time zone.\n",
    "    \n",
    "    :return: A string representing the current time in the specified time zone.\n",
    "    \"\"\"\n",
    "    print (\"Getting current time...\")\n",
    "    import datetime\n",
    "    current_time = datetime.datetime.now()\n",
    "    \n",
    "    return f\"The current time is {current_time}\"\n",
    "\n",
    "\n",
    "class User(BaseModel):\n",
    "    name: str\n",
    "    age: int\n",
    "\n",
    "class Users(BaseModel):\n",
    "    users: List[User]\n",
    "\n"
   ]
  },
  {
   "cell_type": "code",
   "execution_count": 29,
   "id": "d023ef2e-6fed-4841-aae1-0a9b3e990d23",
   "metadata": {},
   "outputs": [
    {
     "name": "stdout",
     "output_type": "stream",
     "text": [
      "> \u001b[0;32m/Users/tenghu/Code/actiontools/actionweaver/actions/factories/pydantic_model_to_action.py\u001b[0m(88)\u001b[0;36mfunc\u001b[0;34m()\u001b[0m\n",
      "\u001b[0;32m     86 \u001b[0;31m\u001b[0;34m\u001b[0m\u001b[0m\n",
      "\u001b[0m\u001b[0;32m     87 \u001b[0;31m        \u001b[0mpdb\u001b[0m\u001b[0;34m.\u001b[0m\u001b[0mset_trace\u001b[0m\u001b[0;34m(\u001b[0m\u001b[0;34m)\u001b[0m\u001b[0;34m\u001b[0m\u001b[0;34m\u001b[0m\u001b[0m\n",
      "\u001b[0m\u001b[0;32m---> 88 \u001b[0;31m        \u001b[0;32mreturn\u001b[0m \u001b[0mmodel\u001b[0m\u001b[0;34m.\u001b[0m\u001b[0mmodel_validate\u001b[0m\u001b[0;34m(\u001b[0m\u001b[0mkwargs\u001b[0m\u001b[0;34m)\u001b[0m\u001b[0;34m\u001b[0m\u001b[0;34m\u001b[0m\u001b[0m\n",
      "\u001b[0m\u001b[0;32m     89 \u001b[0;31m\u001b[0;34m\u001b[0m\u001b[0m\n",
      "\u001b[0m\u001b[0;32m     90 \u001b[0;31m    \u001b[0;32mif\u001b[0m \u001b[0mname\u001b[0m \u001b[0;32mis\u001b[0m \u001b[0;32mNone\u001b[0m\u001b[0;34m:\u001b[0m\u001b[0;34m\u001b[0m\u001b[0;34m\u001b[0m\u001b[0m\n",
      "\u001b[0m\n"
     ]
    },
    {
     "name": "stdin",
     "output_type": "stream",
     "text": [
      "ipdb>  kwargs\n"
     ]
    },
    {
     "name": "stdout",
     "output_type": "stream",
     "text": [
      "{'users': [{'name': 'Tom', 'age': 31}, {'name': 'James', 'age': 25}]}\n"
     ]
    },
    {
     "name": "stdin",
     "output_type": "stream",
     "text": [
      "ipdb>  q\n"
     ]
    }
   ],
   "source": [
    "action_from_model(Users, stop=True).invoke(client, messages=[{\"role\": \"user\", \"content\": \"Tom is 31 years old, James is 25 years old\"}], model=\"gpt-3.5-turbo\", stream=False, force=False)"
   ]
  },
  {
   "cell_type": "code",
   "execution_count": null,
   "id": "859caacf-1e9f-4049-82e6-2ccccc49392a",
   "metadata": {},
   "outputs": [],
   "source": []
  },
  {
   "cell_type": "code",
   "execution_count": null,
   "id": "d748bde5-b04c-48c1-b697-3248fc23756e",
   "metadata": {},
   "outputs": [],
   "source": []
  }
 ],
 "metadata": {
  "kernelspec": {
   "display_name": "Python 3 (ipykernel)",
   "language": "python",
   "name": "python3"
  },
  "language_info": {
   "codemirror_mode": {
    "name": "ipython",
    "version": 3
   },
   "file_extension": ".py",
   "mimetype": "text/x-python",
   "name": "python",
   "nbconvert_exporter": "python",
   "pygments_lexer": "ipython3",
   "version": "3.11.0"
  }
 },
 "nbformat": 4,
 "nbformat_minor": 5
}
