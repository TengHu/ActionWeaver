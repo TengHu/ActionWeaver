{
 "cells": [
  {
   "cell_type": "markdown",
   "id": "8e469c96-d2b3-459c-afd5-182e9717257e",
   "metadata": {},
   "source": [
    "# Structured Extraction\n",
    "\n",
    "In this example, we will demonstrate how to use Pydantic and ActionWeaver for structured data extraction"
   ]
  },
  {
   "cell_type": "code",
   "execution_count": 1,
   "id": "7bac7b1d-6119-4434-afd7-310ff720fcc2",
   "metadata": {},
   "outputs": [],
   "source": [
    "import logging\n",
    "from pydantic import BaseModel\n",
    "from actionweaver.llms.openai.tools.chat import OpenAIChatCompletion\n",
    "from actionweaver.actions.factories.pydantic_model_to_action import action_from_model\n",
    "\n",
    "logging.basicConfig(\n",
    "    filename='structured_extraction.log',\n",
    "    filemode='a',\n",
    "    format='%(asctime)s.%(msecs)04d %(levelname)s {%(module)s} [%(funcName)s] %(message)s',\n",
    "    level=logging.INFO,\n",
    "    datefmt='%Y-%m-%d %H:%M:%S'\n",
    ")\n",
    "\n",
    "logger = logging.getLogger(__name__)\n",
    "logger.setLevel(logging.DEBUG)"
   ]
  },
  {
   "cell_type": "code",
   "execution_count": 2,
   "id": "e27716ae-f4f6-4908-92b3-ba81911ac8d2",
   "metadata": {},
   "outputs": [
    {
     "data": {
      "text/plain": [
       "'Tom is 31 years old and James is 25 years old.'"
      ]
     },
     "execution_count": 2,
     "metadata": {},
     "output_type": "execute_result"
    }
   ],
   "source": [
    "from typing import List\n",
    "from actionweaver import action\n",
    "\n",
    "@action(name=\"GetCurrentTime\")\n",
    "def get_current_time() -> str:\n",
    "    \"\"\"\n",
    "    Use this for getting the current time in the specified time zone.\n",
    "    \n",
    "    :return: A string representing the current time in the specified time zone.\n",
    "    \"\"\"\n",
    "    print (\"Getting current time...\")\n",
    "    import datetime\n",
    "    current_time = datetime.datetime.now()\n",
    "    \n",
    "    return f\"The current time is {current_time}\"\n",
    "\n",
    "\n",
    "class User(BaseModel):\n",
    "    name: str\n",
    "    age: int\n",
    "\n",
    "class Users(BaseModel):\n",
    "    users: List[User]\n",
    "\n",
    "chat = OpenAIChatCompletion(\"gpt-3.5-turbo\", logger=logger)\n",
    "\n",
    "action_from_model(User, stop=False).invoke(chat, [{\"role\": \"user\", \"content\": \"Tom is 31 years old, James is 25 years old\"}], force=False)"
   ]
  }
 ],
 "metadata": {
  "kernelspec": {
   "display_name": "Python 3 (ipykernel)",
   "language": "python",
   "name": "python3"
  },
  "language_info": {
   "codemirror_mode": {
    "name": "ipython",
    "version": 3
   },
   "file_extension": ".py",
   "mimetype": "text/x-python",
   "name": "python",
   "nbconvert_exporter": "python",
   "pygments_lexer": "ipython3",
   "version": "3.11.0"
  }
 },
 "nbformat": 4,
 "nbformat_minor": 5
}
