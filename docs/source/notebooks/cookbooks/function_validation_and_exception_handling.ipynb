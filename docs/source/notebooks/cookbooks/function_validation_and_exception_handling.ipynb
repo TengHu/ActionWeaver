{
 "cells": [
  {
   "cell_type": "markdown",
   "id": "1467108e-e20b-4395-a7f3-b78ae8ae93a3",
   "metadata": {},
   "source": [
    "# Enhancing Robustness: Leveraging Pydantic Validation Decorator with ActionWeaver\n",
    "\n",
    "The Pydantic [@validate_call decorator](https://docs.pydantic.dev/latest/concepts/validation_decorator/) enables the validation of function arguments based on the function's annotations before the function is executed.\n",
    "\n",
    "ActionWeaver, as a framework centered on function calls, oversees the function calling process for users. Specifically, it includes an ExceptionHandler, empowering users to specify behaviors to exceptions. Together, these components form a powerful combination for developing robust LLM applications."
   ]
  },
  {
   "cell_type": "code",
   "execution_count": 1,
   "id": "89dd8129-1eea-4044-a9e1-cadc3d11dfc3",
   "metadata": {},
   "outputs": [],
   "source": [
    "%load_ext autoreload\n",
    "%autoreload 2"
   ]
  },
  {
   "cell_type": "code",
   "execution_count": 2,
   "id": "56b83922-07fd-4238-aae7-0d94f129cded",
   "metadata": {},
   "outputs": [],
   "source": [
    "import os\n",
    "\n",
    "from typing import List\n",
    "from uuid import UUID, uuid4\n",
    "\n",
    "from actionweaver import action\n",
    "from actionweaver.utils.tokens import TokenUsageTracker\n",
    "from actionweaver.llms import wrap, ExceptionHandler, ExceptionAction, ChatLoopInfo, Continue, Return\n",
    "from actionweaver.actions.factories.pydantic_model_to_action import  action_from_model\n",
    "\n",
    "from pydantic import BaseModel, Field, PrivateAttr, validate_call, field_validator\n",
    "\n",
    "from openai import OpenAI\n",
    "\n",
    "from datetime import datetime\n",
    "\n",
    "from openai import AzureOpenAI, OpenAI"
   ]
  },
  {
   "cell_type": "markdown",
   "id": "1620a3c7-fc7c-4648-8f5d-ce82e3a0b684",
   "metadata": {},
   "source": [
    "Let's instantiate an OpenAI client and then encapsulate it within an ActionWeaver wrapper. ActionWeaver will handle the function calling loop."
   ]
  },
  {
   "cell_type": "code",
   "execution_count": 3,
   "id": "34e94485-7f80-437c-b8ca-a40ba8ab85be",
   "metadata": {},
   "outputs": [],
   "source": [
    "# Azure OpenAI\n",
    "# MODEL=\"gpt-4-32k\"\n",
    "# llm = AzureOpenAI(\n",
    "#     azure_endpoint = os.getenv(\"AZURE_OPENAI_ENDPOINT\"), \n",
    "#     api_key=os.getenv(\"AZURE_OPENAI_KEY\"),  \n",
    "#     api_version=\"2023-10-01-preview\"\n",
    "# )\n",
    "\n",
    "# OpenAI\n",
    "MODEL = \"gpt-4\"\n",
    "llm = wrap(OpenAI())"
   ]
  },
  {
   "cell_type": "markdown",
   "id": "eaafbc2a-ae45-4f06-8080-1e17512591f0",
   "metadata": {},
   "source": [
    "Here, we'll ask LLM to use the `ingest_user_info` function, which accepts Pydantic model `UserModel` as arguments. We aim for the LLM to extract user information from natural language and trigger `ingest_user_info`, which will then store the validated user information into `user_db`.\n",
    "\n",
    "Within the Pydantic model `UserModel`, we've specified certain `field_validator`s to ensure that both the `name` and `phone_number` adhere to specific formats."
   ]
  },
  {
   "cell_type": "code",
   "execution_count": 4,
   "id": "4499bc9e-4722-4c63-84f8-94907636d87c",
   "metadata": {},
   "outputs": [],
   "source": [
    "import re\n",
    "from pydantic import BaseModel, ValidationError, validator\n",
    "\n",
    "class UserModel(BaseModel):\n",
    "    _uid: UUID = PrivateAttr(default_factory=uuid4)\n",
    "    _created_at: datetime = PrivateAttr(default_factory=datetime.now)\n",
    "    name: str\n",
    "    phone_number: str\n",
    "\n",
    "    @field_validator('name')\n",
    "    @classmethod\n",
    "    def validate_name(cls, v: str) -> str:\n",
    "        # Split the input string into first and last names\n",
    "        names = v.split()\n",
    "        \n",
    "        # Check if both first and last names are present\n",
    "        if len(names) != 2:\n",
    "            raise ValueError('Name must contain a first name and a last name separated by a space')\n",
    "        \n",
    "        # Check if the formatted name is not in uppercase\n",
    "        if v != v.upper():\n",
    "            raise ValueError('Name must be in uppercase')\n",
    "        \n",
    "        return v\n",
    "\n",
    "    @field_validator('phone_number')\n",
    "    @classmethod\n",
    "    def validate_phone_number(cls, v: str) -> str:\n",
    "        # Define a regular expression pattern for a phone number with country code\n",
    "        pattern = r'^\\+\\d{1,3}\\s*\\(\\d{3}\\)\\s*\\d{3}-\\d{4}$'  # Example: +1 (XXX) XXX-XXXX\n",
    "\n",
    "        # Check if the phone number matches the pattern\n",
    "        if not re.match(pattern, v):\n",
    "            raise ValueError('phone number must be in the format +1 (XXX) XXX-XXXX')\n",
    "        return v\n",
    "\n",
    "user_db = []\n",
    "\n",
    "@action(name=\"SaveUserInfo\", stop=True)\n",
    "@validate_call\n",
    "def ingest_user_info(users: List[UserModel]):\n",
    "    \"\"\"Save user info to database\"\"\"\n",
    "    user_db.append(users)\n",
    "    return \"success\""
   ]
  },
  {
   "cell_type": "markdown",
   "id": "672ae6c5-1a4a-4e43-9fe5-27c264af2df9",
   "metadata": {},
   "source": [
    "Now, let's attempt to prompt the LLM to call `ingest_user_info`. We use the following syntax to force the LLM to call function:\n",
    "```python\n",
    "ingest_user_info.invoke(\n",
    "    llm, \n",
    "    messages=messages,\n",
    "    model=MODEL,\n",
    "    stream=False, \n",
    "    temperature=1,\n",
    "    exception_handler = ExceptionRetryHandler(3)\n",
    ")\n",
    "```\n",
    "For further information about this syntax, refer to the documentation at: https://github.com/TengHu/ActionWeaver?tab=readme-ov-file#force-execution-of-an-action\n",
    "\n",
    "-------\n",
    "As you'll notice, the input text has a different format and may not pass the field validation.\n",
    "\n",
    "To enable the LLM to handle this, we'll define an `ExceptionRetryHandler` and pass it as argument. This handler will take the exception message as input to the LLM and allow for a maximum number of retries. It empowers the LLM to \"self-heal\" using the error message and return the desired result."
   ]
  },
  {
   "cell_type": "code",
   "execution_count": 5,
   "id": "fd04625a-25ea-4d0d-927e-9c295bfd1c4b",
   "metadata": {},
   "outputs": [
    {
     "name": "stdout",
     "output_type": "stream",
     "text": [
      "\n",
      "Retrying. Retries left: 2\n",
      "Exception raised: ValidationError: 6 validation errors for ingest_user_info\n",
      "users.0.name\n",
      "  Value error, Name must contain a first name and a last name separated by a space [type=value_error, input_value='Dr. Danielle King', input_type=str]\n",
      "    For further information visit https://errors.pydantic.dev/2.6/v/value_error\n",
      "users.0.phone_number\n",
      "  Value error, phone number must be in the format +1 (XXX) XXX-XXXX [type=value_error, input_value='(844)055-3780', input_type=str]\n",
      "    For further information visit https://errors.pydantic.dev/2.6/v/value_error\n",
      "users.1.name\n",
      "  Value error, Name must be in uppercase [type=value_error, input_value='John Miller', input_type=str]\n",
      "    For further information visit https://errors.pydantic.dev/2.6/v/value_error\n",
      "users.1.phone_number\n",
      "  Value error, phone number must be in the format +1 (XXX) XXX-XXXX [type=value_error, input_value='+1-268-920-5475x5', input_type=str]\n",
      "    For further information visit https://errors.pydantic.dev/2.6/v/value_error\n",
      "users.2.name\n",
      "  Value error, Name must be in uppercase [type=value_error, input_value='Michael Johnson', input_type=str]\n",
      "    For further information visit https://errors.pydantic.dev/2.6/v/value_error\n",
      "users.2.phone_number\n",
      "  Value error, phone number must be in the format +1 (XXX) XXX-XXXX [type=value_error, input_value='+1-758-232-6153x8', input_type=str]\n",
      "    For further information visit https://errors.pydantic.dev/2.6/v/value_error\n"
     ]
    }
   ],
   "source": [
    "class ExceptionRetryHandler(ExceptionHandler):\n",
    "    def __init__(self, max_retry=2):\n",
    "        self.max_retry = max_retry\n",
    "\n",
    "    def handle_exception(self, e: Exception, info: ChatLoopInfo) -> ExceptionAction:\n",
    "        if self.max_retry:\n",
    "            self.max_retry -= 1\n",
    "            \n",
    "            print(f\"\\nRetrying. Retries left: {self.max_retry}\")\n",
    "            print(f\"Exception raised: {type(e).__name__}: {str(e)}\")\n",
    "            \n",
    "            response = info.context['response']\n",
    "            messages = info.context['messages']\n",
    "            messages.append(\n",
    "                    {\n",
    "                        \"role\": \"tool\",\n",
    "                        \"tool_call_id\": response.choices[0].message.tool_calls[0].id,\n",
    "                        \"name\": response.choices[0].message.tool_calls[0].function.name,\n",
    "                        \"content\": f\"Exceptions raised: \\n{e}\",\n",
    "                    }\n",
    "                )\n",
    "\n",
    "            return Continue(functions=info.context['tools'])\n",
    "        raise e\n",
    "\n",
    "input = \"\"\"                Name       Phone Number\n",
    "0  Dr. Danielle King      (844)055-3780\n",
    "1        John Miller  +1-268-920-5475x5\n",
    "2    Michael Johnson  +1-758-232-6153x8\n",
    "\"\"\"\n",
    "\n",
    "messages = [\n",
    "    {\"role\": \"user\", \"content\": input}\n",
    "]\n",
    "\n",
    "response = ingest_user_info.invoke(\n",
    "    llm, \n",
    "    messages=messages,\n",
    "    model=MODEL,\n",
    "    stream=False, \n",
    "    temperature=1,\n",
    "    exception_handler = ExceptionRetryHandler(3)\n",
    ")"
   ]
  },
  {
   "cell_type": "code",
   "execution_count": 6,
   "id": "803ae3f7-a6f9-409d-8ba3-ee847e264798",
   "metadata": {},
   "outputs": [
    {
     "data": {
      "text/plain": [
       "[[UserModel(name='DANIELLE KING', phone_number='+1 (844) 055-3780'),\n",
       "  UserModel(name='JOHN MILLER', phone_number='+1 (268) 920-5475'),\n",
       "  UserModel(name='MICHAEL JOHNSON', phone_number='+1 (758) 232-6153')]]"
      ]
     },
     "execution_count": 6,
     "metadata": {},
     "output_type": "execute_result"
    }
   ],
   "source": [
    "user_db"
   ]
  }
 ],
 "metadata": {
  "kernelspec": {
   "display_name": "Python 3 (ipykernel)",
   "language": "python",
   "name": "python3"
  },
  "language_info": {
   "codemirror_mode": {
    "name": "ipython",
    "version": 3
   },
   "file_extension": ".py",
   "mimetype": "text/x-python",
   "name": "python",
   "nbconvert_exporter": "python",
   "pygments_lexer": "ipython3",
   "version": "3.9.18"
  }
 },
 "nbformat": 4,
 "nbformat_minor": 5
}
