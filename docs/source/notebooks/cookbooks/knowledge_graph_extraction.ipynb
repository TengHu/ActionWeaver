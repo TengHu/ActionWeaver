{
 "cells": [
  {
   "cell_type": "markdown",
   "id": "936668bd-c426-49fa-af00-d56b34b07a1c",
   "metadata": {
    "editable": true,
    "slideshow": {
     "slide_type": ""
    },
    "tags": []
   },
   "source": [
    "## Extracting Knowledge Graph from Unstructured Text\n",
    "\n",
    "Inspired by example https://jxnl.github.io/instructor/examples/knowledge_graph/, this example will show how to use ActionWeaver to create a knowledge graph from unstructured text by making use of OpenAI function calls."
   ]
  },
  {
   "cell_type": "markdown",
   "id": "fce0f390-74dc-4c39-93a4-620bd6c137ee",
   "metadata": {},
   "source": [
    "**Step 1** Let's set up an Azure OpenAI Client and then use ActionWeaver patch to enhance its API"
   ]
  },
  {
   "cell_type": "code",
   "execution_count": 1,
   "id": "9515a58a-e0b8-4f9c-b12e-0160fca6e795",
   "metadata": {
    "editable": true,
    "slideshow": {
     "slide_type": ""
    },
    "tags": []
   },
   "outputs": [],
   "source": [
    "from openai import OpenAI\n",
    "import os\n",
    "from openai import AzureOpenAI\n",
    "import actionweaver.llms as llms\n",
    "\n",
    "\n",
    "# Azure OpenAI\n",
    "model=\"gpt-35-turbo-0613-16k\"\n",
    "client = llms.wrap(AzureOpenAI(\n",
    "    azure_endpoint = os.getenv(\"AZURE_OPENAI_ENDPOINT\"), \n",
    "    api_key=os.getenv(\"AZURE_OPENAI_KEY\"),  \n",
    "    api_version=\"2023-10-01-preview\"\n",
    "))\n",
    "\n",
    "# If you want to use OpenAI endpoint\n",
    "# from openai import OpenAI\n",
    "# client = llms.patch(OpenAI())"
   ]
  },
  {
   "cell_type": "markdown",
   "id": "637b89cb-0f39-463f-9100-f284e9da0ec6",
   "metadata": {},
   "source": [
    "**Step 2** We will use Pydantic Model to define structures (knowledge graph) we want to extract from the raw text."
   ]
  },
  {
   "cell_type": "code",
   "execution_count": 2,
   "id": "342e6378-5d7b-4f28-8316-a431c6d63b0b",
   "metadata": {},
   "outputs": [],
   "source": [
    "from pydantic import BaseModel, Field\n",
    "from typing import List\n",
    "\n",
    "class Node(BaseModel):\n",
    "    id: int\n",
    "    label: str\n",
    "    color: str\n",
    "\n",
    "class Edge(BaseModel):\n",
    "    source: int\n",
    "    target: int\n",
    "    label: str\n",
    "    color: str = \"black\"\n",
    "\n",
    "class KnowledgeGraph(BaseModel):\n",
    "    nodes: List[Node] = Field(..., default_factory=list)\n",
    "    edges: List[Edge] = Field(..., default_factory=list)\n"
   ]
  },
  {
   "cell_type": "markdown",
   "id": "1f917ee7-3a34-4904-b12c-507c164beed4",
   "metadata": {},
   "source": [
    "**Step 3**: Utilize the **action_from_model** function to convert the PyDantic model into an ActionWeaver action. Then, employ the `invoke` method to evaluate an example. By using `force=True`, you compel the LLM to execute the action."
   ]
  },
  {
   "cell_type": "code",
   "execution_count": 17,
   "id": "d6f42fdc-97a9-44da-b718-3b0731fce490",
   "metadata": {},
   "outputs": [],
   "source": [
    "from actionweaver.actions.factories.pydantic_model_to_action import action_from_model\n",
    "\n",
    "query = \"Everything about jiu jitsu\"\n",
    "\n",
    "messages=[\n",
    "        {\n",
    "            \"role\": \"user\",\n",
    "            \"content\": f\"Help me understand the following by describing it as a detailed knowledge graph: {query}\",\n",
    "        }\n",
    "    ]\n",
    "kg = action_from_model(KnowledgeGraph, stop=True).invoke(client, model=model, messages=messages, force=True)"
   ]
  },
  {
   "cell_type": "code",
   "execution_count": 18,
   "id": "c304cb66-9a81-4347-89cb-9d3340ee3ee0",
   "metadata": {},
   "outputs": [
    {
     "data": {
      "text/plain": [
       "KnowledgeGraph(nodes=[Node(id=1, label='Jiu Jitsu', color='blue'), Node(id=2, label='Origin', color='yellow'), Node(id=3, label='Techniques', color='yellow'), Node(id=4, label='Gi', color='yellow'), Node(id=5, label='No-Gi', color='yellow'), Node(id=6, label='Brazilian Jiu Jitsu', color='green'), Node(id=7, label='Japanese Jiu Jitsu', color='green'), Node(id=8, label='Positions', color='yellow'), Node(id=9, label='Mount', color='yellow'), Node(id=10, label='Guard', color='yellow'), Node(id=11, label='Side Control', color='yellow'), Node(id=12, label='Back Control', color='yellow'), Node(id=13, label='Submissions', color='yellow'), Node(id=14, label='Chokes', color='yellow'), Node(id=15, label='Joint Locks', color='yellow')], edges=[Edge(source=1, target=2, label='Origin', color='black'), Edge(source=1, target=3, label='Includes', color='black'), Edge(source=3, target=4, label='Includes', color='black'), Edge(source=3, target=5, label='Includes', color='black'), Edge(source=1, target=6, label='Type', color='black'), Edge(source=1, target=7, label='Type', color='black'), Edge(source=1, target=8, label='Includes', color='black'), Edge(source=8, target=9, label='Includes', color='black'), Edge(source=8, target=10, label='Includes', color='black'), Edge(source=8, target=11, label='Includes', color='black'), Edge(source=8, target=12, label='Includes', color='black'), Edge(source=1, target=13, label='Includes', color='black'), Edge(source=13, target=14, label='Includes', color='black'), Edge(source=13, target=15, label='Includes', color='black')])"
      ]
     },
     "execution_count": 18,
     "metadata": {},
     "output_type": "execute_result"
    }
   ],
   "source": [
    "kg"
   ]
  },
  {
   "cell_type": "code",
   "execution_count": 19,
   "id": "1cf97544-201d-4d46-8387-faabbe86bfec",
   "metadata": {},
   "outputs": [],
   "source": [
    "# Copied from https://jxnl.github.io/instructor/examples/knowledge_graph/\n",
    "\n",
    "from graphviz import Digraph\n",
    "\n",
    "def visualize_knowledge_graph(kg: KnowledgeGraph):\n",
    "    dot = Digraph(comment=\"Knowledge Graph\")\n",
    "\n",
    "    # Add nodes\n",
    "    for node in kg.nodes:\n",
    "        dot.node(str(node.id), node.label, color=node.color)\n",
    "\n",
    "    # Add edges\n",
    "    for edge in kg.edges:\n",
    "        dot.edge(str(edge.source), str(edge.target), label=edge.label, color=edge.color)\n",
    "\n",
    "    # Render the graph\n",
    "    dot.render(\"knowledge_graph.gv\", view=True)"
   ]
  },
  {
   "cell_type": "code",
   "execution_count": 20,
   "id": "e75dca7f-4637-4615-a43a-47ab8e1a137d",
   "metadata": {},
   "outputs": [],
   "source": [
    "visualize_knowledge_graph(kg)"
   ]
  },
  {
   "cell_type": "markdown",
   "id": "9ccc0e36-f17e-4112-919b-8c031057ae4d",
   "metadata": {},
   "source": [
    "<img src=\"./figures/knowledge_graph.png\">\n"
   ]
  }
 ],
 "metadata": {
  "kernelspec": {
   "display_name": "Python 3 (ipykernel)",
   "language": "python",
   "name": "python3"
  },
  "language_info": {
   "codemirror_mode": {
    "name": "ipython",
    "version": 3
   },
   "file_extension": ".py",
   "mimetype": "text/x-python",
   "name": "python",
   "nbconvert_exporter": "python",
   "pygments_lexer": "ipython3",
   "version": "3.9.18"
  }
 },
 "nbformat": 4,
 "nbformat_minor": 5
}
