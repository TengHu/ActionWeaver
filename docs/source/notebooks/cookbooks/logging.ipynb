{
 "cells": [
  {
   "cell_type": "markdown",
   "id": "1b6533b3-44e4-4369-a4db-1d709721d322",
   "metadata": {},
   "source": []
  },
  {
   "cell_type": "code",
   "execution_count": 1,
   "id": "a2df6e35-6e58-4232-bfa9-9e61022059e1",
   "metadata": {},
   "outputs": [],
   "source": [
    "from actionweaver.llms.openai.tools.tokens import TokenUsageTracker\n",
    "from actionweaver.llms import patch\n",
    "from openai import OpenAI\n",
    "\n",
    "openai_client = patch(OpenAI())"
   ]
  },
  {
   "cell_type": "code",
   "execution_count": 2,
   "id": "373908f0-87cc-458a-a153-7e6fef571cf9",
   "metadata": {},
   "outputs": [],
   "source": [
    "import logging\n",
    "import json\n",
    "from pythonjsonlogger import jsonlogger\n",
    "\n",
    "# Initialize logging\n",
    "logger = logging.getLogger(__name__)\n",
    "logger.setLevel(logging.DEBUG)\n",
    "\n",
    "# Create a StreamHandler for logging to the console\n",
    "console_handler = logging.StreamHandler()\n",
    "logger.addHandler(console_handler)\n",
    "\n",
    "# Define JSON format\n",
    "log_format = jsonlogger.JsonFormatter(\n",
    "    '%(asctime)s.%(msecs)04d %(levelname)s %(module)s %(funcName)s %(message)s %(lineno)d',\n",
    "    datefmt='%Y-%m-%d %H:%M:%S'\n",
    ")\n",
    "\n",
    "console_handler.setFormatter(log_format)\n"
   ]
  },
  {
   "cell_type": "code",
   "execution_count": 3,
   "id": "4f36d771-ece1-4596-9b4c-e5bb879e0d74",
   "metadata": {},
   "outputs": [
    {
     "name": "stdout",
     "output_type": "stream",
     "text": [
      "> \u001b[0;32m/Users/tenghu/Code/actiontools/actionweaver/actions/action.py\u001b[0m(92)\u001b[0;36m__init__\u001b[0;34m()\u001b[0m\n",
      "\u001b[0;32m     90 \u001b[0;31m\u001b[0;34m\u001b[0m\u001b[0m\n",
      "\u001b[0m\u001b[0;32m     91 \u001b[0;31m            \u001b[0mpdb\u001b[0m\u001b[0;34m.\u001b[0m\u001b[0mset_trace\u001b[0m\u001b[0;34m(\u001b[0m\u001b[0;34m)\u001b[0m\u001b[0;34m\u001b[0m\u001b[0;34m\u001b[0m\u001b[0m\n",
      "\u001b[0m\u001b[0;32m---> 92 \u001b[0;31m            self.user_method = traceable(\n",
      "\u001b[0m\u001b[0;32m     93 \u001b[0;31m                \u001b[0mself\u001b[0m\u001b[0;34m.\u001b[0m\u001b[0mname\u001b[0m\u001b[0;34m,\u001b[0m\u001b[0;34m\u001b[0m\u001b[0;34m\u001b[0m\u001b[0m\n",
      "\u001b[0m\u001b[0;32m     94 \u001b[0;31m                \u001b[0mself\u001b[0m\u001b[0;34m.\u001b[0m\u001b[0mlogger\u001b[0m\u001b[0;34m,\u001b[0m\u001b[0;34m\u001b[0m\u001b[0;34m\u001b[0m\u001b[0m\n",
      "\u001b[0m\n"
     ]
    },
    {
     "name": "stdin",
     "output_type": "stream",
     "text": [
      "ipdb>  c\n"
     ]
    },
    {
     "name": "stdout",
     "output_type": "stream",
     "text": [
      "> \u001b[0;32m/Users/tenghu/Code/actiontools/actionweaver/actions/action.py\u001b[0m(92)\u001b[0;36m__init__\u001b[0;34m()\u001b[0m\n",
      "\u001b[0;32m     90 \u001b[0;31m\u001b[0;34m\u001b[0m\u001b[0m\n",
      "\u001b[0m\u001b[0;32m     91 \u001b[0;31m            \u001b[0mpdb\u001b[0m\u001b[0;34m.\u001b[0m\u001b[0mset_trace\u001b[0m\u001b[0;34m(\u001b[0m\u001b[0;34m)\u001b[0m\u001b[0;34m\u001b[0m\u001b[0;34m\u001b[0m\u001b[0m\n",
      "\u001b[0m\u001b[0;32m---> 92 \u001b[0;31m            self.user_method = traceable(\n",
      "\u001b[0m\u001b[0;32m     93 \u001b[0;31m                \u001b[0mself\u001b[0m\u001b[0;34m.\u001b[0m\u001b[0mname\u001b[0m\u001b[0;34m,\u001b[0m\u001b[0;34m\u001b[0m\u001b[0;34m\u001b[0m\u001b[0m\n",
      "\u001b[0m\u001b[0;32m     94 \u001b[0;31m                \u001b[0mself\u001b[0m\u001b[0;34m.\u001b[0m\u001b[0mlogger\u001b[0m\u001b[0;34m,\u001b[0m\u001b[0;34m\u001b[0m\u001b[0;34m\u001b[0m\u001b[0m\n",
      "\u001b[0m\n"
     ]
    },
    {
     "name": "stdin",
     "output_type": "stream",
     "text": [
      "ipdb>  \n",
      "ipdb>  c\n"
     ]
    }
   ],
   "source": [
    "from actionweaver import action\n",
    "\n",
    "@action(name=\"GetCurrentTime\", logger=logger)\n",
    "def get_current_time() -> str:\n",
    "    \"\"\"\n",
    "    Use this for getting the current time in the specified time zone.\n",
    "    \n",
    "    :return: A string representing the current time in the specified time zone.\n",
    "    \"\"\"\n",
    "    print (\"Getting current time...\")\n",
    "    import datetime\n",
    "    current_time = datetime.datetime.now()\n",
    "    \n",
    "    return f\"The current time is {current_time}\"\n",
    "\n",
    "\n",
    "@action(name=\"GetWeather\", stop=False, logger=logger)\n",
    "def get_current_weather(location, unit=\"fahrenheit\"):\n",
    "    \"\"\"Get the current weather in a given location\"\"\"\n",
    "    print (\"Getting current weather\")\n",
    "    \n",
    "    import json\n",
    "    if \"tokyo\" in location.lower():\n",
    "        return json.dumps({\"location\": \"Tokyo\", \"temperature\": \"10\", \"unit\": \"celsius\"})\n",
    "    elif \"san francisco\" in location.lower():\n",
    "        return json.dumps({\"location\": \"San Francisco\", \"temperature\": \"72\", \"unit\": \"fahrenheit\"})\n",
    "    elif \"paris\" in location.lower():\n",
    "        return json.dumps({\"location\": \"Paris\", \"temperature\": \"22\", \"unit\": \"celsius\"})\n",
    "    else:\n",
    "        return json.dumps({\"location\": location, \"temperature\": \"unknown\"})\n"
   ]
  },
  {
   "cell_type": "code",
   "execution_count": 13,
   "id": "b9611cc7-218f-4ed0-9e1c-96734e0aa86f",
   "metadata": {},
   "outputs": [
    {
     "data": {
      "text/plain": [
       "<Logger __main__ (DEBUG)>"
      ]
     },
     "execution_count": 13,
     "metadata": {},
     "output_type": "execute_result"
    }
   ],
   "source": [
    "get_current_time.logger"
   ]
  },
  {
   "cell_type": "code",
   "execution_count": 4,
   "id": "191eb720-a9fa-4d57-90f2-a7a2b595a056",
   "metadata": {},
   "outputs": [
    {
     "name": "stderr",
     "output_type": "stream",
     "text": [
      "{\"asctime\": \"2023-12-29 18:28:01\", \"msecs\": 291.0, \"levelname\": \"INFO\", \"module\": \"helpers\", \"funcName\": \"wrapper\", \"message\": \"\", \"lineno\": 67, \"name\": \"actionwever_initial_chat_completion.chat.completions.create\", \"inputs\": {\"messages\": [{\"role\": \"system\", \"content\": \"You are a helpful assistant.\"}, {\"role\": \"user\", \"content\": \"what's the weather in San Francisco and Beijing ?\"}], \"model\": \"gpt-3.5-turbo\", \"frequency_penalty\": \"NOT_GIVEN\", \"function_call\": \"NOT_GIVEN\", \"functions\": \"NOT_GIVEN\", \"logit_bias\": \"NOT_GIVEN\", \"logprobs\": \"NOT_GIVEN\", \"max_tokens\": \"NOT_GIVEN\", \"n\": \"NOT_GIVEN\", \"presence_penalty\": \"NOT_GIVEN\", \"response_format\": \"NOT_GIVEN\", \"seed\": \"NOT_GIVEN\", \"stop\": \"NOT_GIVEN\", \"stream\": false, \"temperature\": \"NOT_GIVEN\", \"tool_choice\": \"auto\", \"tools\": [{\"type\": \"function\", \"function\": {\"name\": \"GetWeather\", \"description\": \"Get the current weather in a given location\", \"parameters\": {\"properties\": {\"location\": {\"title\": \"Location\"}, \"unit\": {\"default\": \"fahrenheit\", \"title\": \"Unit\"}}, \"required\": [\"location\"], \"title\": \"Get_Current_Weather\", \"type\": \"object\"}}}], \"top_logprobs\": \"NOT_GIVEN\", \"top_p\": \"NOT_GIVEN\", \"user\": \"NOT_GIVEN\", \"extra_headers\": null, \"extra_query\": null, \"extra_body\": null, \"timeout\": \"NOT_GIVEN\"}, \"outputs\": \"ChatCompletion(id='chatcmpl-8bGYjiOstA7Yc619MNbov1xKRCYTE', choices=[Choice(finish_reason='tool_calls', index=0, logprobs=None, message=ChatCompletionMessage(content=None, role='assistant', function_call=None, tool_calls=[ChatCompletionMessageToolCall(id='call_t5jODIwR3KX3W8aEGhTvD7mk', function=Function(arguments='{\\\\n  \\\"location\\\": \\\"San Francisco\\\"\\\\n}', name='GetWeather'), type='function')]))], created=1703892481, model='gpt-3.5-turbo-0613', object='chat.completion', system_fingerprint=None, usage=CompletionUsage(completion_tokens=16, prompt_tokens=74, total_tokens=90))\", \"parent_run_id\": \"85774125-5db7-4752-a700-da33add4fbb8\", \"run_id\": \"d79db7fd-a363-4f00-9a5d-fe3a0ab98da4\", \"timestamp\": 1703892481.291021}\n",
      "{\"asctime\": \"2023-12-29 18:28:01\", \"msecs\": 292.0, \"levelname\": \"INFO\", \"module\": \"helpers\", \"funcName\": \"wrapper\", \"message\": \"\", \"lineno\": 67, \"name\": \"GetWeather\", \"inputs\": {\"location\": \"San Francisco\", \"unit\": \"fahrenheit\"}, \"outputs\": \"{\\\"location\\\": \\\"San Francisco\\\", \\\"temperature\\\": \\\"72\\\", \\\"unit\\\": \\\"fahrenheit\\\"}\", \"parent_run_id\": \"85774125-5db7-4752-a700-da33add4fbb8\", \"run_id\": \"3f607f8f-16f3-455c-bbca-e0ec547699d1\", \"timestamp\": 1703892481.2927349}\n"
     ]
    },
    {
     "name": "stdout",
     "output_type": "stream",
     "text": [
      "Getting current weather\n"
     ]
    },
    {
     "name": "stderr",
     "output_type": "stream",
     "text": [
      "{\"asctime\": \"2023-12-29 18:28:02\", \"msecs\": 310.0, \"levelname\": \"INFO\", \"module\": \"helpers\", \"funcName\": \"wrapper\", \"message\": \"\", \"lineno\": 67, \"name\": \"actionwever_initial_chat_completion.chat.completions.create\", \"inputs\": {\"messages\": [{\"role\": \"system\", \"content\": \"You are a helpful assistant.\"}, {\"role\": \"user\", \"content\": \"what's the weather in San Francisco and Beijing ?\"}, \"ChatCompletionMessage(content=None, role='assistant', function_call=None, tool_calls=[ChatCompletionMessageToolCall(id='call_t5jODIwR3KX3W8aEGhTvD7mk', function=Function(arguments='{\\\\n  \\\"location\\\": \\\"San Francisco\\\"\\\\n}', name='GetWeather'), type='function')])\", {\"tool_call_id\": \"call_t5jODIwR3KX3W8aEGhTvD7mk\", \"role\": \"tool\", \"name\": \"GetWeather\", \"content\": \"{\\\"location\\\": \\\"San Francisco\\\", \\\"temperature\\\": \\\"72\\\", \\\"unit\\\": \\\"fahrenheit\\\"}\"}], \"model\": \"gpt-3.5-turbo\", \"frequency_penalty\": \"NOT_GIVEN\", \"function_call\": \"NOT_GIVEN\", \"functions\": \"NOT_GIVEN\", \"logit_bias\": \"NOT_GIVEN\", \"logprobs\": \"NOT_GIVEN\", \"max_tokens\": \"NOT_GIVEN\", \"n\": \"NOT_GIVEN\", \"presence_penalty\": \"NOT_GIVEN\", \"response_format\": \"NOT_GIVEN\", \"seed\": \"NOT_GIVEN\", \"stop\": \"NOT_GIVEN\", \"stream\": false, \"temperature\": \"NOT_GIVEN\", \"tool_choice\": \"auto\", \"tools\": [{\"type\": \"function\", \"function\": {\"name\": \"GetWeather\", \"description\": \"Get the current weather in a given location\", \"parameters\": {\"properties\": {\"location\": {\"title\": \"Location\"}, \"unit\": {\"default\": \"fahrenheit\", \"title\": \"Unit\"}}, \"required\": [\"location\"], \"title\": \"Get_Current_Weather\", \"type\": \"object\"}}}], \"top_logprobs\": \"NOT_GIVEN\", \"top_p\": \"NOT_GIVEN\", \"user\": \"NOT_GIVEN\", \"extra_headers\": null, \"extra_query\": null, \"extra_body\": null, \"timeout\": \"NOT_GIVEN\"}, \"outputs\": \"ChatCompletion(id='chatcmpl-8bGYjK0ZDr6AQHMajfmtO1g6Tw8Sb', choices=[Choice(finish_reason='tool_calls', index=0, logprobs=None, message=ChatCompletionMessage(content=None, role='assistant', function_call=None, tool_calls=[ChatCompletionMessageToolCall(id='call_4FQxtN78fwqujY3EqsFNLZ1N', function=Function(arguments='{\\\\n  \\\"location\\\": \\\"Beijing\\\"\\\\n}', name='GetWeather'), type='function')]))], created=1703892481, model='gpt-3.5-turbo-0613', object='chat.completion', system_fingerprint=None, usage=CompletionUsage(completion_tokens=16, prompt_tokens=118, total_tokens=134))\", \"parent_run_id\": \"85774125-5db7-4752-a700-da33add4fbb8\", \"run_id\": \"d5e1058a-703b-4f09-98df-8bc805ff14ce\", \"timestamp\": 1703892482.310637}\n",
      "{\"asctime\": \"2023-12-29 18:28:02\", \"msecs\": 311.0, \"levelname\": \"INFO\", \"module\": \"helpers\", \"funcName\": \"wrapper\", \"message\": \"\", \"lineno\": 67, \"name\": \"GetWeather\", \"inputs\": {\"location\": \"Beijing\", \"unit\": \"fahrenheit\"}, \"outputs\": \"{\\\"location\\\": \\\"Beijing\\\", \\\"temperature\\\": \\\"unknown\\\"}\", \"parent_run_id\": \"85774125-5db7-4752-a700-da33add4fbb8\", \"run_id\": \"7dec0011-1dca-4173-a43b-2048b5d05417\", \"timestamp\": 1703892482.311763}\n"
     ]
    },
    {
     "name": "stdout",
     "output_type": "stream",
     "text": [
      "Getting current weather\n"
     ]
    },
    {
     "name": "stderr",
     "output_type": "stream",
     "text": [
      "{\"asctime\": \"2023-12-29 18:28:03\", \"msecs\": 27.0, \"levelname\": \"INFO\", \"module\": \"helpers\", \"funcName\": \"wrapper\", \"message\": \"\", \"lineno\": 67, \"name\": \"actionwever_initial_chat_completion.chat.completions.create\", \"inputs\": {\"messages\": [{\"role\": \"system\", \"content\": \"You are a helpful assistant.\"}, {\"role\": \"user\", \"content\": \"what's the weather in San Francisco and Beijing ?\"}, \"ChatCompletionMessage(content=None, role='assistant', function_call=None, tool_calls=[ChatCompletionMessageToolCall(id='call_t5jODIwR3KX3W8aEGhTvD7mk', function=Function(arguments='{\\\\n  \\\"location\\\": \\\"San Francisco\\\"\\\\n}', name='GetWeather'), type='function')])\", {\"tool_call_id\": \"call_t5jODIwR3KX3W8aEGhTvD7mk\", \"role\": \"tool\", \"name\": \"GetWeather\", \"content\": \"{\\\"location\\\": \\\"San Francisco\\\", \\\"temperature\\\": \\\"72\\\", \\\"unit\\\": \\\"fahrenheit\\\"}\"}, \"ChatCompletionMessage(content=None, role='assistant', function_call=None, tool_calls=[ChatCompletionMessageToolCall(id='call_4FQxtN78fwqujY3EqsFNLZ1N', function=Function(arguments='{\\\\n  \\\"location\\\": \\\"Beijing\\\"\\\\n}', name='GetWeather'), type='function')])\", {\"tool_call_id\": \"call_4FQxtN78fwqujY3EqsFNLZ1N\", \"role\": \"tool\", \"name\": \"GetWeather\", \"content\": \"{\\\"location\\\": \\\"Beijing\\\", \\\"temperature\\\": \\\"unknown\\\"}\"}], \"model\": \"gpt-3.5-turbo\", \"frequency_penalty\": \"NOT_GIVEN\", \"function_call\": \"NOT_GIVEN\", \"functions\": \"NOT_GIVEN\", \"logit_bias\": \"NOT_GIVEN\", \"logprobs\": \"NOT_GIVEN\", \"max_tokens\": \"NOT_GIVEN\", \"n\": \"NOT_GIVEN\", \"presence_penalty\": \"NOT_GIVEN\", \"response_format\": \"NOT_GIVEN\", \"seed\": \"NOT_GIVEN\", \"stop\": \"NOT_GIVEN\", \"stream\": false, \"temperature\": \"NOT_GIVEN\", \"tool_choice\": \"auto\", \"tools\": [{\"type\": \"function\", \"function\": {\"name\": \"GetWeather\", \"description\": \"Get the current weather in a given location\", \"parameters\": {\"properties\": {\"location\": {\"title\": \"Location\"}, \"unit\": {\"default\": \"fahrenheit\", \"title\": \"Unit\"}}, \"required\": [\"location\"], \"title\": \"Get_Current_Weather\", \"type\": \"object\"}}}], \"top_logprobs\": \"NOT_GIVEN\", \"top_p\": \"NOT_GIVEN\", \"user\": \"NOT_GIVEN\", \"extra_headers\": null, \"extra_query\": null, \"extra_body\": null, \"timeout\": \"NOT_GIVEN\"}, \"outputs\": \"ChatCompletion(id='chatcmpl-8bGYkMlWmKMiJHan2v7jjPzL8Rg2s', choices=[Choice(finish_reason='stop', index=0, logprobs=None, message=ChatCompletionMessage(content=\\\"The current weather in San Francisco is 72\\u00b0F. I'm sorry, but I couldn't retrieve the current weather for Beijing.\\\", role='assistant', function_call=None, tool_calls=None))], created=1703892482, model='gpt-3.5-turbo-0613', object='chat.completion', system_fingerprint=None, usage=CompletionUsage(completion_tokens=27, prompt_tokens=155, total_tokens=182))\", \"parent_run_id\": \"85774125-5db7-4752-a700-da33add4fbb8\", \"run_id\": \"f9f0bc68-201e-42b9-878d-7977defc5043\", \"timestamp\": 1703892483.02719}\n",
      "{\"asctime\": \"2023-12-29 18:28:03\", \"msecs\": 28.0, \"levelname\": \"INFO\", \"module\": \"helpers\", \"funcName\": \"wrapper\", \"message\": \"\", \"lineno\": 67, \"name\": \"actionwever_initial_chat_completion\", \"inputs\": {\"actions\": [\"GetWeather\"], \"orch\": null, \"token_usage_tracker\": \"<actionweaver.llms.openai.tools.tokens.TokenUsageTracker object at 0x10981c350>\", \"args\": [], \"model\": \"gpt-3.5-turbo\", \"messages\": [{\"role\": \"system\", \"content\": \"You are a helpful assistant.\"}, {\"role\": \"user\", \"content\": \"what's the weather in San Francisco and Beijing ?\"}, \"ChatCompletionMessage(content=None, role='assistant', function_call=None, tool_calls=[ChatCompletionMessageToolCall(id='call_t5jODIwR3KX3W8aEGhTvD7mk', function=Function(arguments='{\\\\n  \\\"location\\\": \\\"San Francisco\\\"\\\\n}', name='GetWeather'), type='function')])\", {\"tool_call_id\": \"call_t5jODIwR3KX3W8aEGhTvD7mk\", \"role\": \"tool\", \"name\": \"GetWeather\", \"content\": \"{\\\"location\\\": \\\"San Francisco\\\", \\\"temperature\\\": \\\"72\\\", \\\"unit\\\": \\\"fahrenheit\\\"}\"}, \"ChatCompletionMessage(content=None, role='assistant', function_call=None, tool_calls=[ChatCompletionMessageToolCall(id='call_4FQxtN78fwqujY3EqsFNLZ1N', function=Function(arguments='{\\\\n  \\\"location\\\": \\\"Beijing\\\"\\\\n}', name='GetWeather'), type='function')])\", {\"tool_call_id\": \"call_4FQxtN78fwqujY3EqsFNLZ1N\", \"role\": \"tool\", \"name\": \"GetWeather\", \"content\": \"{\\\"location\\\": \\\"Beijing\\\", \\\"temperature\\\": \\\"unknown\\\"}\"}], \"stream\": false}, \"outputs\": \"ChatCompletion(id='chatcmpl-8bGYkMlWmKMiJHan2v7jjPzL8Rg2s', choices=[Choice(finish_reason='stop', index=0, logprobs=None, message=ChatCompletionMessage(content=\\\"The current weather in San Francisco is 72\\u00b0F. I'm sorry, but I couldn't retrieve the current weather for Beijing.\\\", role='assistant', function_call=None, tool_calls=None))], created=1703892482, model='gpt-3.5-turbo-0613', object='chat.completion', system_fingerprint=None, usage=CompletionUsage(completion_tokens=27, prompt_tokens=155, total_tokens=182))\", \"parent_run_id\": null, \"run_id\": \"85774125-5db7-4752-a700-da33add4fbb8\", \"timestamp\": 1703892483.028147}\n"
     ]
    },
    {
     "data": {
      "text/plain": [
       "ChatCompletion(id='chatcmpl-8bGYkMlWmKMiJHan2v7jjPzL8Rg2s', choices=[Choice(finish_reason='stop', index=0, logprobs=None, message=ChatCompletionMessage(content=\"The current weather in San Francisco is 72°F. I'm sorry, but I couldn't retrieve the current weather for Beijing.\", role='assistant', function_call=None, tool_calls=None))], created=1703892482, model='gpt-3.5-turbo-0613', object='chat.completion', system_fingerprint=None, usage=CompletionUsage(completion_tokens=27, prompt_tokens=155, total_tokens=182))"
      ]
     },
     "execution_count": 4,
     "metadata": {},
     "output_type": "execute_result"
    }
   ],
   "source": [
    "messages = [\n",
    "    {\"role\": \"system\", \"content\": \"You are a helpful assistant.\"},\n",
    "    {\"role\": \"user\", \"content\": \"what's the weather in San Francisco and Beijing ?\"}\n",
    "  ]\n",
    "\n",
    "\n",
    "response = openai_client.chat.completions.create(\n",
    "  model=\"gpt-3.5-turbo\",\n",
    "  messages=messages,\n",
    "    actions = [get_current_weather],\n",
    "    stream=False, \n",
    "    token_usage_tracker = TokenUsageTracker(5000),\n",
    "    logger=logger,\n",
    ")\n",
    "\n",
    "response"
   ]
  },
  {
   "cell_type": "code",
   "execution_count": null,
   "id": "d4216e47-dca6-423f-a591-6c3be0868843",
   "metadata": {},
   "outputs": [],
   "source": []
  },
  {
   "cell_type": "code",
   "execution_count": null,
   "id": "933fffe7-7ad7-452e-9786-1f993be3b071",
   "metadata": {},
   "outputs": [],
   "source": []
  },
  {
   "cell_type": "code",
   "execution_count": null,
   "id": "79a6906e-b004-4d81-8416-ada4d1a9ebc3",
   "metadata": {},
   "outputs": [],
   "source": []
  }
 ],
 "metadata": {
  "kernelspec": {
   "display_name": "Python 3 (ipykernel)",
   "language": "python",
   "name": "python3"
  },
  "language_info": {
   "codemirror_mode": {
    "name": "ipython",
    "version": 3
   },
   "file_extension": ".py",
   "mimetype": "text/x-python",
   "name": "python",
   "nbconvert_exporter": "python",
   "pygments_lexer": "ipython3",
   "version": "3.11.0"
  }
 },
 "nbformat": 4,
 "nbformat_minor": 5
}
