{
 "cells": [
  {
   "cell_type": "markdown",
   "id": "1b6533b3-44e4-4369-a4db-1d709721d322",
   "metadata": {},
   "source": [
    "# Tracing with structured logging\n",
    "\n",
    "This walkthrough guides you through creating a simple agent, and use structured logging to produce traces for easier debugging.\n"
   ]
  },
  {
   "cell_type": "code",
   "execution_count": 8,
   "id": "a2df6e35-6e58-4232-bfa9-9e61022059e1",
   "metadata": {},
   "outputs": [],
   "source": [
    "import os\n",
    "from openai import AzureOpenAI\n",
    "from actionweaver.llms import patch\n",
    "from actionweaver.llms.azure.tokens import TokenUsageTracker\n",
    "\n",
    "\n",
    "\n",
    "client = patch(AzureOpenAI(\n",
    "    azure_endpoint = os.getenv(\"AZURE_OPENAI_ENDPOINT\"), \n",
    "    api_key=os.getenv(\"AZURE_OPENAI_KEY\"),  \n",
    "    api_version=\"2023-10-01-preview\"\n",
    "))"
   ]
  },
  {
   "cell_type": "markdown",
   "id": "137dca7c-f2c6-4004-af37-6ca17bb78f6c",
   "metadata": {},
   "source": []
  },
  {
   "cell_type": "code",
   "execution_count": 9,
   "id": "373908f0-87cc-458a-a153-7e6fef571cf9",
   "metadata": {},
   "outputs": [],
   "source": [
    "import logging\n",
    "from pythonjsonlogger import jsonlogger\n",
    "\n",
    "# Initialize logging\n",
    "logger = logging.getLogger(__name__)\n",
    "logger.setLevel(logging.DEBUG)\n",
    "\n",
    "\n",
    "# Create a FileHandler for logging to the file 'tracing.log'\n",
    "file_handler = logging.FileHandler('tracing.log')\n",
    "logger.addHandler(file_handler)\n",
    "\n",
    "# Define JSON format\n",
    "log_format = jsonlogger.JsonFormatter(\n",
    "    '%(asctime)s.%(msecs)04d %(levelname)s %(module)s %(funcName)s %(message)s %(lineno)d',\n",
    "    datefmt='%Y-%m-%d %H:%M:%S'\n",
    ")\n",
    "\n",
    "# Set the JSON formatter for handlers\n",
    "file_handler.setFormatter(log_format)\n"
   ]
  },
  {
   "cell_type": "markdown",
   "id": "15dec9c0-8e6c-48fc-b2d5-6b58b6771aa2",
   "metadata": {},
   "source": []
  },
  {
   "cell_type": "code",
   "execution_count": 10,
   "id": "4f36d771-ece1-4596-9b4c-e5bb879e0d74",
   "metadata": {},
   "outputs": [],
   "source": [
    "from actionweaver import action\n",
    "\n",
    "@action(name=\"GetCurrentTime\", logger=logger)\n",
    "def get_current_time() -> str:\n",
    "    \"\"\"\n",
    "    Use this for getting the current time in the specified time zone.\n",
    "    \n",
    "    :return: A string representing the current time in the specified time zone.\n",
    "    \"\"\"\n",
    "    print (\"Getting current time...\")\n",
    "    import datetime\n",
    "    current_time = datetime.datetime.now()\n",
    "    \n",
    "    return f\"The current time is {current_time}\"\n",
    "\n",
    "\n",
    "@action(name=\"GetWeather\", stop=False, logger=logger)\n",
    "def get_current_weather(location, unit=\"fahrenheit\"):\n",
    "    \"\"\"Get the current weather in a given location\"\"\"\n",
    "    print (\"Getting current weather\")\n",
    "    \n",
    "    import json\n",
    "    if \"tokyo\" in location.lower():\n",
    "        return json.dumps({\"location\": \"Tokyo\", \"temperature\": \"10\", \"unit\": \"celsius\"})\n",
    "    elif \"san francisco\" in location.lower():\n",
    "        return json.dumps({\"location\": \"San Francisco\", \"temperature\": \"72\", \"unit\": \"fahrenheit\"})\n",
    "    elif \"paris\" in location.lower():\n",
    "        return json.dumps({\"location\": \"Paris\", \"temperature\": \"22\", \"unit\": \"celsius\"})\n",
    "    else:\n",
    "        return json.dumps({\"location\": location, \"temperature\": \"unknown\"})\n"
   ]
  },
  {
   "cell_type": "code",
   "execution_count": 11,
   "id": "191eb720-a9fa-4d57-90f2-a7a2b595a056",
   "metadata": {},
   "outputs": [
    {
     "name": "stdout",
     "output_type": "stream",
     "text": [
      "Getting current time...\n",
      "Getting current weather\n",
      "Getting current weather\n"
     ]
    },
    {
     "data": {
      "text/plain": [
       "ChatCompletion(id='chatcmpl-8bIPaEOsveApjS9dnOKVqRCLHNC3F', choices=[Choice(finish_reason='stop', index=0, logprobs=None, message=ChatCompletionMessage(content='The current time is 20:26:42.135028. \\n\\nIn San Francisco, the weather is currently 72°F.\\n\\nIn Tokyo, the weather is currently 10°C.', role='assistant', function_call=None, tool_calls=None), content_filter_results={'hate': {'filtered': False, 'severity': 'safe'}, 'self_harm': {'filtered': False, 'severity': 'safe'}, 'sexual': {'filtered': False, 'severity': 'safe'}, 'violence': {'filtered': False, 'severity': 'safe'}})], created=1703899602, model='gpt-35-turbo-16k', object='chat.completion', system_fingerprint=None, usage=CompletionUsage(completion_tokens=39, prompt_tokens=240, total_tokens=279), prompt_filter_results=[{'prompt_index': 0, 'content_filter_results': {'hate': {'filtered': False, 'severity': 'safe'}, 'self_harm': {'filtered': False, 'severity': 'safe'}, 'sexual': {'filtered': False, 'severity': 'safe'}, 'violence': {'filtered': False, 'severity': 'safe'}}}])"
      ]
     },
     "execution_count": 11,
     "metadata": {},
     "output_type": "execute_result"
    }
   ],
   "source": [
    "messages = [\n",
    "    {\"role\": \"system\", \"content\": \"You are a helpful assistant.\"},\n",
    "    {\"role\": \"user\", \"content\": \"what time is it and what's the weather in San Francisco and Tokyo ?\"}\n",
    "  ]\n",
    "\n",
    "\n",
    "response = client.chat.completions.create(\n",
    "  model=\"gpt-35-turbo-0613-16k\",\n",
    "  messages=messages,\n",
    "    actions = [get_current_time, get_current_weather],\n",
    "    stream=False, \n",
    "    token_usage_tracker = TokenUsageTracker(5000),\n",
    "    logger=logger,\n",
    "    logging_name=\"conversation_start\",\n",
    ")\n",
    "\n",
    "response"
   ]
  },
  {
   "cell_type": "markdown",
   "id": "93848fa2-a61c-4b44-9c63-57066247d2cb",
   "metadata": {},
   "source": [
    "**Visualize traces**"
   ]
  },
  {
   "cell_type": "code",
   "execution_count": null,
   "id": "d4216e47-dca6-423f-a591-6c3be0868843",
   "metadata": {},
   "outputs": [],
   "source": [
    "%pip install pyvis==0.3.1"
   ]
  },
  {
   "cell_type": "code",
   "execution_count": 12,
   "id": "933fffe7-7ad7-452e-9786-1f993be3b071",
   "metadata": {},
   "outputs": [],
   "source": [
    "import json\n",
    "from pyvis.network import Network\n",
    "import datetime\n",
    "\n",
    "\n",
    "# Replace this with the actual path to your log file\n",
    "log_file_path = 'tracing.log'\n",
    "\n",
    "# Initialize a network graph\n",
    "net = Network(height=\"750px\", width=\"100%\", directed=True)\n",
    "\n",
    "# Read the log file and parse it\n",
    "with open(log_file_path, 'r') as file:\n",
    "    logs = [json.loads(line.strip()) for line in file]\n",
    "    logs.sort(key=lambda x: x['timestamp'])\n",
    "    \n",
    "    for log_entry in logs:\n",
    "        run_id = log_entry.get(\"run_id\")\n",
    "        # Add the current log entry as a node\n",
    "        net.add_node(run_id, label=log_entry['name'] + \" at \" + str(datetime.datetime.fromtimestamp(log_entry['timestamp'])))\n",
    "\n",
    "\n",
    "    for log_entry in logs:\n",
    "        run_id = log_entry.get(\"run_id\")\n",
    "        parent_run_id = log_entry.get(\"parent_run_id\")\n",
    "        if parent_run_id:\n",
    "            net.add_edge(parent_run_id, run_id)\n",
    "\n",
    "# Set some options for better visualization (optional)\n",
    "net.set_options(\"\"\"\n",
    "var options = {\n",
    "  \"nodes\": {\n",
    "    \"shape\": \"dot\",\n",
    "    \"scaling\": {\n",
    "      \"min\": 10,\n",
    "      \"max\": 30\n",
    "    }\n",
    "  },\n",
    "  \"edges\": {\n",
    "    \"color\": {\n",
    "      \"inherit\": true\n",
    "    },\n",
    "    \"smooth\": false\n",
    "  },\n",
    "  \"physics\": {\n",
    "    \"forceAtlas2Based\": {\n",
    "      \"gravitationalConstant\": -100,\n",
    "      \"centralGravity\": 0.01,\n",
    "      \"springLength\": 200,\n",
    "      \"springConstant\": 0.08\n",
    "    },\n",
    "    \"maxVelocity\": 50,\n",
    "    \"minVelocity\": 0.1,\n",
    "    \"solver\": \"forceAtlas2Based\"\n",
    "  }\n",
    "}\n",
    "\"\"\")\n",
    "\n",
    "# Save and show the network\n",
    "net.show('network.html')\n"
   ]
  },
  {
   "cell_type": "code",
   "execution_count": null,
   "id": "1a185812-f553-435f-b43e-3f15056c7e16",
   "metadata": {},
   "outputs": [],
   "source": [
    "# explain inital_conversation mean"
   ]
  },
  {
   "cell_type": "code",
   "execution_count": null,
   "id": "633bc84f-735d-47ad-a26d-fafc5b189857",
   "metadata": {},
   "outputs": [],
   "source": []
  },
  {
   "cell_type": "code",
   "execution_count": null,
   "id": "9f59bbf8-bb94-4550-8bc2-dae2d292b35b",
   "metadata": {},
   "outputs": [],
   "source": []
  }
 ],
 "metadata": {
  "kernelspec": {
   "display_name": "Python 3 (ipykernel)",
   "language": "python",
   "name": "python3"
  },
  "language_info": {
   "codemirror_mode": {
    "name": "ipython",
    "version": 3
   },
   "file_extension": ".py",
   "mimetype": "text/x-python",
   "name": "python",
   "nbconvert_exporter": "python",
   "pygments_lexer": "ipython3",
   "version": "3.11.0"
  }
 },
 "nbformat": 4,
 "nbformat_minor": 5
}
