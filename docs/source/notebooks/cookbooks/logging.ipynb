{
 "cells": [
  {
   "cell_type": "markdown",
   "id": "1b6533b3-44e4-4369-a4db-1d709721d322",
   "metadata": {},
   "source": [
    "# Structured logging & Tracing\n",
    "\n",
    "This walkthrough guides you through borrowing the simple agent from  [quickstart](quickstart.ipynb), and enhancing it with a structured logger. This addition makes it easier to debug, evaluate, and monitor the agent's performance. \n",
    "\n",
    "It's important to note that the only code required in addition to quickstart is the introduction of the Python logging library and the passing of the logger as an argument in to actions.\n",
    "\n",
    "\n",
    "At a high level, ActionWeaver simplifies the process of creating functions, orchestrating them, and handling the invocation loop. An \"action\" in this context serves as an abstraction of functions or tools that users want the Language Model (LLM) to handle.\n",
    "\n",
    "<img src=\"../../../figures/function_loop.png\">\n",
    "\n",
    "Inspired by langsmith，a JSON event is emitted when a LLM action is invoked. In the plot above, you can expect to see five events emitted. Each event contains essential details such as name, ID, inputs, outputs, and a parent_run_id for tracing lineage. Additionally, users have the flexibility to incorporate custom fields into these events as needed.\n"
   ]
  },
  {
   "cell_type": "markdown",
   "id": "137dca7c-f2c6-4004-af37-6ca17bb78f6c",
   "metadata": {},
   "source": [
    "**Step 1: Use ActionWeaver patch the AzureOpenAI client**"
   ]
  },
  {
   "cell_type": "code",
   "execution_count": 23,
   "id": "a2df6e35-6e58-4232-bfa9-9e61022059e1",
   "metadata": {},
   "outputs": [],
   "source": [
    "import os\n",
    "from openai import AzureOpenAI\n",
    "from actionweaver.llms import patch\n",
    "from actionweaver.llms.azure.tokens import TokenUsageTracker\n",
    "\n",
    "\n",
    "client = patch(AzureOpenAI(\n",
    "    azure_endpoint = os.getenv(\"AZURE_OPENAI_ENDPOINT\"), \n",
    "    api_key=os.getenv(\"AZURE_OPENAI_KEY\"),  \n",
    "    api_version=\"2023-10-01-preview\"\n",
    "))\n"
   ]
  },
  {
   "cell_type": "markdown",
   "id": "74eefd5c-4dc3-43b1-85ce-65aaaf7c5c14",
   "metadata": {},
   "source": [
    "**Step 2: In this section, we set up a logger to record messages in a well-structured JSON format and save them in a file named 'tracing.log'.**"
   ]
  },
  {
   "cell_type": "code",
   "execution_count": 24,
   "id": "373908f0-87cc-458a-a153-7e6fef571cf9",
   "metadata": {},
   "outputs": [],
   "source": [
    "import logging\n",
    "from pythonjsonlogger import jsonlogger\n",
    "\n",
    "# Initialize logging\n",
    "logger = logging.getLogger(__name__)\n",
    "logger.setLevel(logging.DEBUG)\n",
    "\n",
    "\n",
    "# Create a FileHandler for logging to the file 'tracing.log'\n",
    "file_handler = logging.FileHandler('tracing.log')\n",
    "logger.addHandler(file_handler)\n",
    "\n",
    "# Define JSON format\n",
    "log_format = jsonlogger.JsonFormatter(\n",
    "    '%(asctime)s.%(msecs)04d %(levelname)s %(module)s %(funcName)s %(message)s %(lineno)d',\n",
    "    datefmt='%Y-%m-%d %H:%M:%S'\n",
    ")\n",
    "\n",
    "# Set the JSON formatter for handlers\n",
    "file_handler.setFormatter(log_format)"
   ]
  },
  {
   "cell_type": "markdown",
   "id": "15dec9c0-8e6c-48fc-b2d5-6b58b6771aa2",
   "metadata": {},
   "source": [
    "**Step 3: Just like in the Quickstart, we've defined two actions, with the only distinction being that we pass the logger as an argument into the action decorators.**"
   ]
  },
  {
   "cell_type": "code",
   "execution_count": 25,
   "id": "4f36d771-ece1-4596-9b4c-e5bb879e0d74",
   "metadata": {},
   "outputs": [],
   "source": [
    "from actionweaver import action\n",
    "\n",
    "@action(name=\"GetCurrentTime\", logger=logger)\n",
    "def get_current_time() -> str:\n",
    "    \"\"\"\n",
    "    Use this for getting the current time in the specified time zone.\n",
    "    \n",
    "    :return: A string representing the current time in the specified time zone.\n",
    "    \"\"\"\n",
    "    print (\"Getting current time...\")\n",
    "    import datetime\n",
    "    current_time = datetime.datetime.now()\n",
    "    \n",
    "    return f\"The current time is {current_time}\"\n",
    "\n",
    "\n",
    "@action(name=\"GetWeather\", stop=False, logger=logger)\n",
    "def get_current_weather(location, unit=\"fahrenheit\"):\n",
    "    \"\"\"Get the current weather in a given location\"\"\"\n",
    "    print (\"Getting current weather\")\n",
    "    \n",
    "    import json\n",
    "    if \"tokyo\" in location.lower():\n",
    "        return json.dumps({\"location\": \"Tokyo\", \"temperature\": \"10\", \"unit\": \"celsius\"})\n",
    "    elif \"san francisco\" in location.lower():\n",
    "        return json.dumps({\"location\": \"San Francisco\", \"temperature\": \"72\", \"unit\": \"fahrenheit\"})\n",
    "    elif \"paris\" in location.lower():\n",
    "        return json.dumps({\"location\": \"Paris\", \"temperature\": \"22\", \"unit\": \"celsius\"})\n",
    "    else:\n",
    "        return json.dumps({\"location\": location, \"temperature\": \"unknown\"})\n",
    "\n"
   ]
  },
  {
   "cell_type": "markdown",
   "id": "292db3d1-0d8e-450a-a38e-da58fa8ae904",
   "metadata": {},
   "source": [
    "**Step 4** Invoke the chat completion API while including the logger as an argument. Additionally:\n",
    "- The `logging_name` for the event is generated when the API is invoked.\n",
    "- This invocation will initiate a sequence of API calls and events emitted, which include:\n",
    "  - The event is named `{logging_name}.chat.completions.create`, and it corresponds to making an original OpenAI chat API call.\n",
    "  - Actions such as `GetWeather` and `GetCurrentTime` will be triggered during this process."
   ]
  },
  {
   "cell_type": "code",
   "execution_count": 26,
   "id": "191eb720-a9fa-4d57-90f2-a7a2b595a056",
   "metadata": {},
   "outputs": [
    {
     "name": "stdout",
     "output_type": "stream",
     "text": [
      "Getting current time...\n",
      "Getting current weather\n",
      "Getting current weather\n"
     ]
    }
   ],
   "source": [
    "messages = [\n",
    "    {\"role\": \"system\", \"content\": \"You are a helpful assistant.\"},\n",
    "    {\"role\": \"user\", \"content\": \"what time is it and what's the weather in San Francisco and Tokyo ?\"}\n",
    "  ]\n",
    "\n",
    "from actionweaver.utils.tokens import TokenUsageTracker\n",
    "response = client.chat.completions.create(\n",
    "  model=\"gpt-35-turbo-0613-16k\",\n",
    "  messages=messages,\n",
    "  actions = [get_current_time, get_current_weather],\n",
    "  stream=False, \n",
    "  logger=logger,\n",
    "  logging_name=\"conversation_start\",\n",
    "  token_usage_tracker = TokenUsageTracker(5000),\n",
    ")\n"
   ]
  },
  {
   "cell_type": "markdown",
   "id": "93848fa2-a61c-4b44-9c63-57066247d2cb",
   "metadata": {},
   "source": [
    "**Step 5**\n",
    "\n",
    "Use your favorite visualization or log analytics tool to analyze the log. "
   ]
  },
  {
   "cell_type": "code",
   "execution_count": 29,
   "id": "0f469aab-fe0a-4b37-9254-e2953096490b",
   "metadata": {},
   "outputs": [
    {
     "data": {
      "text/plain": [
       "[{'asctime': '2023-12-30 11:33:20',\n",
       "  'msecs': 817.0,\n",
       "  'levelname': 'INFO',\n",
       "  'module': 'helpers',\n",
       "  'funcName': 'wrapper',\n",
       "  'message': '',\n",
       "  'lineno': 67,\n",
       "  'name': 'conversation_start.chat.completions.create',\n",
       "  'inputs': {'messages': [{'role': 'system',\n",
       "     'content': 'You are a helpful assistant.'},\n",
       "    {'role': 'user',\n",
       "     'content': \"what time is it and what's the weather in San Francisco and Tokyo ?\"}],\n",
       "   'model': 'gpt-35-turbo-0613-16k',\n",
       "   'frequency_penalty': 'NOT_GIVEN',\n",
       "   'function_call': 'auto',\n",
       "   'functions': [{'name': 'GetCurrentTime',\n",
       "     'description': '\\n    Use this for getting the current time in the specified time zone.\\n    \\n    :return: A string representing the current time in the specified time zone.\\n    ',\n",
       "     'parameters': {'properties': {},\n",
       "      'title': 'Get_Current_Time',\n",
       "      'type': 'object'}},\n",
       "    {'name': 'GetWeather',\n",
       "     'description': 'Get the current weather in a given location',\n",
       "     'parameters': {'properties': {'location': {'title': 'Location'},\n",
       "       'unit': {'default': 'fahrenheit', 'title': 'Unit'}},\n",
       "      'required': ['location'],\n",
       "      'title': 'Get_Current_Weather',\n",
       "      'type': 'object'}}],\n",
       "   'logit_bias': 'NOT_GIVEN',\n",
       "   'logprobs': 'NOT_GIVEN',\n",
       "   'max_tokens': 'NOT_GIVEN',\n",
       "   'n': 'NOT_GIVEN',\n",
       "   'presence_penalty': 'NOT_GIVEN',\n",
       "   'response_format': 'NOT_GIVEN',\n",
       "   'seed': 'NOT_GIVEN',\n",
       "   'stop': 'NOT_GIVEN',\n",
       "   'stream': False,\n",
       "   'temperature': 'NOT_GIVEN',\n",
       "   'tool_choice': 'NOT_GIVEN',\n",
       "   'tools': 'NOT_GIVEN',\n",
       "   'top_logprobs': 'NOT_GIVEN',\n",
       "   'top_p': 'NOT_GIVEN',\n",
       "   'user': 'NOT_GIVEN',\n",
       "   'extra_headers': None,\n",
       "   'extra_query': None,\n",
       "   'extra_body': None,\n",
       "   'timeout': 'NOT_GIVEN'},\n",
       "  'outputs': \"ChatCompletion(id='chatcmpl-8bWYye2pzj3U945fevaZ4X85QI2qM', choices=[Choice(finish_reason='function_call', index=0, logprobs=None, message=ChatCompletionMessage(content=None, role='assistant', function_call=FunctionCall(arguments='{}', name='GetCurrentTime'), tool_calls=None), content_filter_results={})], created=1703954000, model='gpt-35-turbo-16k', object='chat.completion', system_fingerprint=None, usage=CompletionUsage(completion_tokens=7, prompt_tokens=117, total_tokens=124), prompt_filter_results=[{'prompt_index': 0, 'content_filter_results': {'hate': {'filtered': False, 'severity': 'safe'}, 'self_harm': {'filtered': False, 'severity': 'safe'}, 'sexual': {'filtered': False, 'severity': 'safe'}, 'violence': {'filtered': False, 'severity': 'safe'}}}])\",\n",
       "  'parent_run_id': 'b46e808f-a898-437f-a45e-12a24dde579b',\n",
       "  'run_id': 'b4392758-d737-4292-afb8-776ae5876bc6',\n",
       "  'timestamp': 1703954000.81724},\n",
       " {'asctime': '2023-12-30 11:33:20',\n",
       "  'msecs': 820.0,\n",
       "  'levelname': 'INFO',\n",
       "  'module': 'helpers',\n",
       "  'funcName': 'wrapper',\n",
       "  'message': '',\n",
       "  'lineno': 67,\n",
       "  'name': 'GetCurrentTime',\n",
       "  'inputs': {},\n",
       "  'outputs': 'The current time is 2023-12-30 11:33:20.820080',\n",
       "  'parent_run_id': 'b46e808f-a898-437f-a45e-12a24dde579b',\n",
       "  'run_id': '83473841-7d38-4348-8967-6dd1916220bd',\n",
       "  'timestamp': 1703954000.820106}]"
      ]
     },
     "execution_count": 29,
     "metadata": {},
     "output_type": "execute_result"
    }
   ],
   "source": [
    "# Let's take a look at the structured log\n",
    "with open(log_file_path, 'r') as file:\n",
    "    logs = [json.loads(line.strip()) for line in file]\n",
    "    logs.sort(key=lambda x: x['timestamp'])\n",
    "logs[:2]"
   ]
  },
  {
   "cell_type": "markdown",
   "id": "53b2155a-c28e-407c-9bf4-5cbf8eb0cecd",
   "metadata": {},
   "source": [
    "**Here I'm going to use pyvis (0.3.1).and visualize it in network.html like this**\n",
    "\n",
    "<img src=\"figures/logging_viz.png\">"
   ]
  },
  {
   "cell_type": "code",
   "execution_count": 30,
   "id": "933fffe7-7ad7-452e-9786-1f993be3b071",
   "metadata": {},
   "outputs": [],
   "source": [
    "import json\n",
    "from pyvis.network import Network\n",
    "import datetime\n",
    "\n",
    "\n",
    "# Replace this with the actual path to your log file\n",
    "log_file_path = 'tracing.log'\n",
    "\n",
    "# Initialize a network graph\n",
    "net = Network(height=\"750px\", width=\"100%\", directed=True)\n",
    "\n",
    "for log_entry in logs:\n",
    "    run_id = log_entry.get(\"run_id\")\n",
    "    # Add the current log entry as a node\n",
    "    net.add_node(run_id, label=log_entry['name'] + \" at \" + str(datetime.datetime.fromtimestamp(log_entry['timestamp'])))\n",
    "\n",
    "\n",
    "for log_entry in logs:\n",
    "    run_id = log_entry.get(\"run_id\")\n",
    "    parent_run_id = log_entry.get(\"parent_run_id\")\n",
    "    if parent_run_id:\n",
    "        net.add_edge(parent_run_id, run_id)\n",
    "\n",
    "# Set some options for better visualization (optional)\n",
    "net.set_options(\"\"\"\n",
    "var options = {\n",
    "  \"nodes\": {\n",
    "    \"shape\": \"dot\",\n",
    "    \"scaling\": {\n",
    "      \"min\": 10,\n",
    "      \"max\": 30\n",
    "    }\n",
    "  },\n",
    "  \"edges\": {\n",
    "    \"color\": {\n",
    "      \"inherit\": true\n",
    "    },\n",
    "    \"smooth\": false\n",
    "  },\n",
    "  \"physics\": {\n",
    "    \"forceAtlas2Based\": {\n",
    "      \"gravitationalConstant\": -100,\n",
    "      \"centralGravity\": 0.01,\n",
    "      \"springLength\": 200,\n",
    "      \"springConstant\": 0.08\n",
    "    },\n",
    "    \"maxVelocity\": 50,\n",
    "    \"minVelocity\": 0.1,\n",
    "    \"solver\": \"forceAtlas2Based\"\n",
    "  }\n",
    "}\n",
    "\"\"\")\n",
    "\n",
    "# Save and show the network\n",
    "net.show('network.html')"
   ]
  },
  {
   "cell_type": "code",
   "execution_count": null,
   "id": "b4a2d542-1558-4977-8c81-6cbb57f5088d",
   "metadata": {},
   "outputs": [],
   "source": []
  }
 ],
 "metadata": {
  "kernelspec": {
   "display_name": "Python 3 (ipykernel)",
   "language": "python",
   "name": "python3"
  },
  "language_info": {
   "codemirror_mode": {
    "name": "ipython",
    "version": 3
   },
   "file_extension": ".py",
   "mimetype": "text/x-python",
   "name": "python",
   "nbconvert_exporter": "python",
   "pygments_lexer": "ipython3",
   "version": "3.11.0"
  }
 },
 "nbformat": 4,
 "nbformat_minor": 5
}
