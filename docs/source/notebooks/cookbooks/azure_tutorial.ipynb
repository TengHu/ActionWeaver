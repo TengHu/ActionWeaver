{
 "cells": [
  {
   "cell_type": "markdown",
   "id": "c179ed82-6be2-42cf-8519-0a590344fcc0",
   "metadata": {},
   "source": [
    "## ActionWeaver + Azure OpenAI Tutorial\n",
    "\n",
    "**ActionWeaver: AI Application Framework**\n",
    "\n",
    "ActionWeaver is an AI application framework that puts function-calling as a first-class feature, supporting both OpenAI API and Azure OpenAI service!\n",
    "\n",
    "\n",
    " "
   ]
  },
  {
   "cell_type": "markdown",
   "id": "2a6418bf-d868-48cf-b469-4941971ceab6",
   "metadata": {},
   "source": [
    "First, let's set up an Azure OpenAI Client and then use ActionWeaver patch to enhance its API\n"
   ]
  },
  {
   "cell_type": "code",
   "execution_count": 5,
   "id": "bc6a2fd0-889b-4006-901e-c8a57834d4ae",
   "metadata": {},
   "outputs": [],
   "source": [
    "import os\n",
    "from openai import AzureOpenAI\n",
    "import actionweaver.llms as llms\n",
    "\n",
    "# Azure OpenAI\n",
    "model=\"gpt-35-turbo-0613-16k\"\n",
    "client = llms.patch(AzureOpenAI(\n",
    "    azure_endpoint = os.getenv(\"AZURE_OPENAI_ENDPOINT\"), \n",
    "    api_key=os.getenv(\"AZURE_OPENAI_KEY\"),  \n",
    "    api_version=\"2023-10-01-preview\"\n",
    "))\n",
    "\n",
    "# If you want to use OpenAI endpoint\n",
    "# from openai import OpenAI\n",
    "# client = llms.patch(OpenAI())"
   ]
  },
  {
   "cell_type": "markdown",
   "id": "78d200d8-ec3b-499b-94af-148d337fc055",
   "metadata": {},
   "source": [
    "Users can add any function as a tool with a simple action decorator. In this example, we want to enable the LLM to request information about time and weather."
   ]
  },
  {
   "cell_type": "code",
   "execution_count": 6,
   "id": "1f450232-feff-440c-8f84-04bcc131a308",
   "metadata": {},
   "outputs": [],
   "source": [
    "from actionweaver import action\n",
    "\n",
    "@action(name=\"GetCurrentTime\")\n",
    "def get_current_time() -> str:\n",
    "    \"\"\"\n",
    "    Use this for getting the current time in the specified time zone.\n",
    "    \n",
    "    :return: A string representing the current time in the specified time zone.\n",
    "    \"\"\"\n",
    "    print (\"Getting current time...\")\n",
    "    import datetime\n",
    "    current_time = datetime.datetime.now()\n",
    "    \n",
    "    return f\"The current time is {current_time}\"\n",
    "\n",
    "\n",
    "@action(name=\"GetWeather\", stop=False)\n",
    "def get_current_weather(location, unit=\"fahrenheit\"):\n",
    "    \"\"\"Get the current weather in a given location\"\"\"\n",
    "    print (\"Getting current weather\")\n",
    "    \n",
    "    import json\n",
    "    if \"tokyo\" in location.lower():\n",
    "        return json.dumps({\"location\": \"Tokyo\", \"temperature\": \"10\", \"unit\": \"celsius\"})\n",
    "    elif \"san francisco\" in location.lower():\n",
    "        return json.dumps({\"location\": \"San Francisco\", \"temperature\": \"72\", \"unit\": \"fahrenheit\"})\n",
    "    elif \"paris\" in location.lower():\n",
    "        return json.dumps({\"location\": \"Paris\", \"temperature\": \"22\", \"unit\": \"celsius\"})\n",
    "    else:\n",
    "        return json.dumps({\"location\": location, \"temperature\": \"unknown\"})\n"
   ]
  },
  {
   "cell_type": "markdown",
   "id": "39420854-95f4-4df7-ac91-a529bb915c60",
   "metadata": {},
   "source": [
    "Invoke the chat completion API, this time including an additional **actions** parameter."
   ]
  },
  {
   "cell_type": "code",
   "execution_count": 7,
   "id": "87b432dc-bab4-438b-b70d-6e5e60370dd7",
   "metadata": {},
   "outputs": [
    {
     "name": "stdout",
     "output_type": "stream",
     "text": [
      "Getting current time...\n",
      "Getting current weather\n",
      "Getting current weather\n"
     ]
    },
    {
     "data": {
      "text/plain": [
       "'The current time is 21:20:56.\\n\\nThe weather in San Francisco is 72°F.\\n\\nThe weather in Paris is 22°C.'"
      ]
     },
     "execution_count": 7,
     "metadata": {},
     "output_type": "execute_result"
    }
   ],
   "source": [
    "messages = [\n",
    "    {\"role\": \"system\", \"content\": \"You are a helpful assistant.\"},\n",
    "    {\"role\": \"user\", \"content\": \"what time is it, and what's the weather in San Francisco and Paris ?\"}\n",
    "  ]\n",
    "\n",
    "\n",
    "response = client.chat.completions.create(\n",
    "  model=model,\n",
    "  messages=messages,\n",
    "  actions = [get_current_weather, get_current_time],\n",
    "  stream=False, \n",
    ")\n",
    "\n",
    "response"
   ]
  },
  {
   "cell_type": "markdown",
   "id": "556b7e94-2346-447b-a4e7-b0b059ae2da2",
   "metadata": {},
   "source": [
    "We can also convert text into structured data, let's define some Pydantic models"
   ]
  },
  {
   "cell_type": "code",
   "execution_count": 12,
   "id": "c3a71181-d905-4f9b-82a9-7855457840fe",
   "metadata": {},
   "outputs": [],
   "source": [
    "# Example inspired by https://jxnl.github.io/instructor/examples/autodataframe/\n",
    "from typing import List, Any\n",
    "from pydantic import BaseModel, Field\n",
    "\n",
    "\n",
    "class Dataframe(BaseModel):\n",
    "    \"\"\"\n",
    "    Class representing a dataframe.\n",
    "    \"\"\"\n",
    "    name: str = Field(..., description=\"The name of the dataframe\")\n",
    "    data: List[List[Any]] = Field(\n",
    "        ...,\n",
    "        description=\"\"\"Correct rows of data aligned to column names, Nones are allowed.\"\"\",\n",
    "    )\n",
    "    columns: List[str] = Field(\n",
    "        ...,\n",
    "        description=\"Column names relevant from source data, should be in snake_case\",\n",
    "    )\n",
    "\n",
    "    def to_pandas(self):\n",
    "        import pandas as pd\n",
    "        return pd.DataFrame(data=self.data, columns=self.columns)\n",
    "\n",
    "\n",
    "    def chat(self, query):\n",
    "        messages = [\n",
    "            {\n",
    "                \"role\": \"system\",\n",
    "                \"content\": f\"You're a helpful agent trying to answer questions based on {str(self)}\",\n",
    "            },\n",
    "            {\n",
    "                \"role\": \"user\",\n",
    "                \"content\": f\"{query}\",\n",
    "            },\n",
    "        ]\n",
    "        return client.chat.completions.create(\n",
    "                  model=model,\n",
    "                  messages=messages,\n",
    "                  temperature=1,\n",
    "                  stream=False,\n",
    "        )\n",
    "\n",
    "class Database(BaseModel):\n",
    "    \"\"\"\n",
    "    A set of dataframes\n",
    "    \"\"\"\n",
    "    tables: List[Dataframe] = Field(..., description=\"List of dataframes\")\n"
   ]
  },
  {
   "cell_type": "markdown",
   "id": "172258eb-7c36-49b9-8ca9-0634903f76dc",
   "metadata": {},
   "source": [
    "Use the **action_from_model** to transform a PyDantic model into an action, followed by using the `invoke` method of the action. Applying `force=True` forces the LLM to execute the action."
   ]
  },
  {
   "cell_type": "code",
   "execution_count": 13,
   "id": "d75aabdf-ae48-4c51-ad62-b653385bbce9",
   "metadata": {},
   "outputs": [],
   "source": [
    "from actionweaver.actions.factories.pydantic_model_to_action import action_from_model\n",
    "\n",
    "\n",
    "data =\"\"\"Mary, 35, from Chicago, is a soccer aficionado. She heads the 'Falcons,' a soccer team with 14 members.\n",
    "\n",
    "David, a 28-year-old swimming enthusiast from Miami, leads the 'Sharks,' a team of 12 swimmers.\n",
    "\n",
    "Emily, 22, in Boston, is devoted to volleyball. She captains the 'Eagles,' which includes 16 volleyball players.\n",
    "\n",
    "Chris, 32, from Seattle, is an avid cyclist and heads the 'Wolves,' a 12-member cycling team.\n",
    "\n",
    "Anna, 27, in Denver, excels in golf and captains the 'Bears,' a team of 9 golfers.\n",
    "\n",
    "In Dallas, there's Leo, 24, who loves hockey. He leads the 'Panthers,' a hockey team of 13.\n",
    "\n",
    "Grace, 29, in Atlanta, is passionate about rowing. She captains the 'Dolphins,' a rowing team of 11 athletes.\n",
    "\n",
    "In Phoenix, Alex, 26, is a skilled archer and heads the 'Hawks,' an archery team with 8 members.\n",
    "\n",
    "Finally, in Portland, we have Zoe, 31, who is a master at badminton. She captains the 'Rabbits,' a badminton team of 10 players.\n",
    "\"\"\"\n",
    "\n",
    "db = action_from_model(Database).invoke(client, model=model, messages=[{\"role\": \"user\", \"content\": data}], force=True)\n"
   ]
  },
  {
   "cell_type": "code",
   "execution_count": 14,
   "id": "ac8eb758-8653-4502-8661-353f9b082843",
   "metadata": {},
   "outputs": [
    {
     "data": {
      "text/html": [
       "<div>\n",
       "<style scoped>\n",
       "    .dataframe tbody tr th:only-of-type {\n",
       "        vertical-align: middle;\n",
       "    }\n",
       "\n",
       "    .dataframe tbody tr th {\n",
       "        vertical-align: top;\n",
       "    }\n",
       "\n",
       "    .dataframe thead th {\n",
       "        text-align: right;\n",
       "    }\n",
       "</style>\n",
       "<table border=\"1\" class=\"dataframe\">\n",
       "  <thead>\n",
       "    <tr style=\"text-align: right;\">\n",
       "      <th></th>\n",
       "      <th>Name</th>\n",
       "      <th>Sport</th>\n",
       "      <th>Members</th>\n",
       "    </tr>\n",
       "  </thead>\n",
       "  <tbody>\n",
       "    <tr>\n",
       "      <th>0</th>\n",
       "      <td>Falcons</td>\n",
       "      <td>Soccer</td>\n",
       "      <td>14</td>\n",
       "    </tr>\n",
       "    <tr>\n",
       "      <th>1</th>\n",
       "      <td>Sharks</td>\n",
       "      <td>Swimming</td>\n",
       "      <td>12</td>\n",
       "    </tr>\n",
       "    <tr>\n",
       "      <th>2</th>\n",
       "      <td>Eagles</td>\n",
       "      <td>Volleyball</td>\n",
       "      <td>16</td>\n",
       "    </tr>\n",
       "    <tr>\n",
       "      <th>3</th>\n",
       "      <td>Wolves</td>\n",
       "      <td>Cycling</td>\n",
       "      <td>12</td>\n",
       "    </tr>\n",
       "    <tr>\n",
       "      <th>4</th>\n",
       "      <td>Bears</td>\n",
       "      <td>Golf</td>\n",
       "      <td>9</td>\n",
       "    </tr>\n",
       "    <tr>\n",
       "      <th>5</th>\n",
       "      <td>Panthers</td>\n",
       "      <td>Hockey</td>\n",
       "      <td>13</td>\n",
       "    </tr>\n",
       "    <tr>\n",
       "      <th>6</th>\n",
       "      <td>Dolphins</td>\n",
       "      <td>Rowing</td>\n",
       "      <td>11</td>\n",
       "    </tr>\n",
       "    <tr>\n",
       "      <th>7</th>\n",
       "      <td>Hawks</td>\n",
       "      <td>Archery</td>\n",
       "      <td>8</td>\n",
       "    </tr>\n",
       "    <tr>\n",
       "      <th>8</th>\n",
       "      <td>Rabbits</td>\n",
       "      <td>Badminton</td>\n",
       "      <td>10</td>\n",
       "    </tr>\n",
       "  </tbody>\n",
       "</table>\n",
       "</div>"
      ],
      "text/plain": [
       "       Name       Sport  Members\n",
       "0   Falcons      Soccer       14\n",
       "1    Sharks    Swimming       12\n",
       "2    Eagles  Volleyball       16\n",
       "3    Wolves     Cycling       12\n",
       "4     Bears        Golf        9\n",
       "5  Panthers      Hockey       13\n",
       "6  Dolphins      Rowing       11\n",
       "7     Hawks     Archery        8\n",
       "8   Rabbits   Badminton       10"
      ]
     },
     "execution_count": 14,
     "metadata": {},
     "output_type": "execute_result"
    }
   ],
   "source": [
    "db.tables[0].to_pandas()"
   ]
  },
  {
   "cell_type": "markdown",
   "id": "cf0f86ac-e2f4-466b-8d62-1532215bbc35",
   "metadata": {},
   "source": [
    "Let's put everything together by building a database agent. This time, we include an additional actions parameter `orch` when calling the chat completion API. This feature will allow us for more precise control over the specific set of tools available to the LLM during each interaction.\n",
    "\n",
    "Example:\n",
    "```python\n",
    "chat.create(\n",
    "    messages = ...\n",
    "    actions=[a1, a2, a3], # First, LLM respond with either a1, a2 or a3, or text without action\n",
    "    # Define the orchestration logic for actions:\n",
    "    orch={\n",
    "        a1: [a2, a3],  # If a1 is invoked, the next response will be either a2, a3 or a text response.\n",
    "        a2: a3,      # If a2 is invoked, the next action will be a3\n",
    "        a3: [a4]     # If a3 is invoked, the next response will be a4 or a text response.\n",
    "        a4: None     # If a4 is invoked, the next response will guarantee to be a text message\n",
    "    }\n",
    ")\n",
    "```\n",
    "\n",
    "For details please take a look at [here].(https://github.com/TengHu/ActionWeaver?tab=readme-ov-file#orchestration-of-actions-experimental )\n"
   ]
  },
  {
   "cell_type": "code",
   "execution_count": 16,
   "id": "ee100daf-da26-45dd-a288-e753a9e518cc",
   "metadata": {},
   "outputs": [],
   "source": [
    "class DBAgent:\n",
    "    def __init__(self):\n",
    "        self.db = Database(tables=[])\n",
    "        self.messages = [{\"role\": \"system\", \"content\": f\"You're a helpful agent. You answer questions in plain English. Tables available: {[table.name for table in self.db.tables]}\"}]\n",
    "\n",
    "    @action(\"ReadDataAndCreateTable\")\n",
    "    def read(self, data: str):\n",
    "        \"\"\" \n",
    "        This method is used to read unstructured data and create tables.\n",
    "    \n",
    "        Args:\n",
    "            data (str): The unstructured data to be processed\n",
    "        \"\"\"\n",
    "        print (f\"[Reading data]: \\n {data} \\n\")\n",
    "        messages=[\n",
    "            {\n",
    "                \"role\": \"system\",\n",
    "                \"content\": \"\"\"Map this data into a dataframe and correctly define the correct columns and rows\"\"\",\n",
    "            },\n",
    "            {\n",
    "                \"role\": \"user\",\n",
    "                \"content\": f\"{data}\",\n",
    "            },\n",
    "        ]\n",
    "        db = action_from_model(Database, stop=True).invoke(client, messages=messages, model=model, temperature=0.1, stream=False, force=True)\n",
    "        self.db.tables.extend(db.tables)\n",
    "        return f\"{[table.name for table in db.tables]} have been created\"\n",
    "\n",
    "\n",
    "    @action(\"AnswerQuestion\")\n",
    "    def answer(self, query: str, tables:List[str]):\n",
    "        \"\"\" \n",
    "        Responds to plain English queries by extracting relevant information from predefined data tables.\n",
    "    \n",
    "        This method is specifically designed to process and answer questions that can be addressed using the data available in the provided tables. The tables are not SQL tables.\n",
    "    \n",
    "        Parameters:\n",
    "        query (str): A plain English question or query that the user wants to be answered. The method processes this query to understand and extract the necessary information from the available tables.\n",
    "        tables (List[str]): A list of table names or identifiers. These tables contain the data that will be used to answer the query.\n",
    "    \n",
    "        Usage:\n",
    "        This method should be invoked when there is a need to answer questions based on the information contained in the specified tables. It is essential that the tables provided have the relevant data to address the query.\n",
    "        \"\"\"\n",
    "        candidates = [table for table in self.db.tables if table.name in tables]\n",
    "        context = [table.to_pandas().to_json() for table in candidates]\n",
    "        \n",
    "        print (f\"[Answering]: {query} using context {context} from tables {tables}\")\n",
    "\n",
    "        messages=[\n",
    "            {\n",
    "                \"role\": \"system\",\n",
    "                \"content\": f\"You're a helpful agent trying to answer questions based on existing tables: \\n {context}\"\n",
    "            },\n",
    "            {\n",
    "                \"role\": \"user\",\n",
    "                \"content\": f\"{query}\",\n",
    "            },\n",
    "        ]\n",
    "\n",
    "        response = client.chat.completions.create(\n",
    "                  model=model,\n",
    "                  temperature=.5,\n",
    "                  messages=messages,\n",
    "                  stream=False,\n",
    "              )\n",
    "        print (response)\n",
    "        return response\n",
    "\n",
    "\n",
    "\n",
    "    def chat(self, query):\n",
    "        self.messages.append({\"role\": \"user\", \"content\": f\"{query}\"})\n",
    "        response =  client.chat.completions.create(\n",
    "                              model=model,\n",
    "                              messages=self.messages,\n",
    "                              temperature=.1,\n",
    "                              actions = [self.read, self.answer, get_current_time],\n",
    "                              orch = {self.read: None, self.answer: None, get_current_time: None}, # function is called at most once\n",
    "                              stream=False\n",
    "                    )\n",
    "        self.messages.append({\"role\": \"assistant\", \"content\": response})\n",
    "        return response\n",
    "\n",
    "agent = DBAgent()"
   ]
  },
  {
   "cell_type": "code",
   "execution_count": 17,
   "id": "9527bf1a-9f3d-4932-8172-1e2d0a1b9ca7",
   "metadata": {},
   "outputs": [
    {
     "name": "stdout",
     "output_type": "stream",
     "text": [
      "[Reading data]: \n",
      " Name, Age, Location, Sport, Team\n",
      "Mary, 35, Chicago, Soccer, Falcons\n",
      "David, 28, Miami, Swimming, Sharks\n",
      "Emily, 22, Boston, Volleyball, Eagles\n",
      "Chris, 32, Seattle, Cycling, Wolves\n",
      "Anna, 27, Denver, Golf, Bears\n",
      "Leo, 24, Dallas, Hockey, Panthers\n",
      "Grace, 29, Atlanta, Rowing, Dolphins\n",
      "Alex, 26, Phoenix, Archery, Hawks\n",
      "Zoe, 31, Portland, Badminton, Rabbits \n",
      "\n"
     ]
    },
    {
     "data": {
      "text/plain": [
       "\"I have created a table called 'Players' with the following information:\\n\\n| Name  | Age | Location | Sport      | Team     |\\n|-------|-----|----------|------------|----------|\\n| Mary  | 35  | Chicago  | Soccer     | Falcons  |\\n| David | 28  | Miami    | Swimming   | Sharks   |\\n| Emily | 22  | Boston   | Volleyball | Eagles   |\\n| Chris | 32  | Seattle  | Cycling    | Wolves   |\\n| Anna  | 27  | Denver   | Golf       | Bears    |\\n| Leo   | 24  | Dallas   | Hockey     | Panthers |\\n| Grace | 29  | Atlanta  | Rowing     | Dolphins |\\n| Alex  | 26  | Phoenix  | Archery    | Hawks    |\\n| Zoe   | 31  | Portland | Badminton  | Rabbits  |\\n\\nLet me know if there's anything specific you would like to know about these teams or players.\""
      ]
     },
     "execution_count": 17,
     "metadata": {},
     "output_type": "execute_result"
    }
   ],
   "source": [
    "data =\"\"\"Mary, 35, from Chicago, is a soccer aficionado. She heads the 'Falcons,' a soccer team with 14 members.\n",
    "\n",
    "David, a 28-year-old swimming enthusiast from Miami, leads the 'Sharks,' a team of 12 swimmers.\n",
    "\n",
    "Emily, 22, in Boston, is devoted to volleyball. She captains the 'Eagles,' which includes 16 volleyball players.\n",
    "\n",
    "Chris, 32, from Seattle, is an avid cyclist and heads the 'Wolves,' a 12-member cycling team.\n",
    "\n",
    "Anna, 27, in Denver, excels in golf and captains the 'Bears,' a team of 9 golfers.\n",
    "\n",
    "In Dallas, there's Leo, 24, who loves hockey. He leads the 'Panthers,' a hockey team of 13.\n",
    "\n",
    "Grace, 29, in Atlanta, is passionate about rowing. She captains the 'Dolphins,' a rowing team of 11 athletes.\n",
    "\n",
    "In Phoenix, Alex, 26, is a skilled archer and heads the 'Hawks,' an archery team with 8 members.\n",
    "\n",
    "Finally, in Portland, we have Zoe, 31, who is a master at badminton. She captains the 'Rabbits,' a badminton team of 10 players.\n",
    "\"\"\"\n",
    "\n",
    "agent.chat(data)"
   ]
  },
  {
   "cell_type": "code",
   "execution_count": 18,
   "id": "a83c3548-2e11-4983-9d61-222a9af4d202",
   "metadata": {},
   "outputs": [
    {
     "data": {
      "text/plain": [
       "[Dataframe(name='Players', data=[['Mary', '35', 'Chicago', 'Soccer', 'Falcons'], ['David', '28', 'Miami', 'Swimming', 'Sharks'], ['Emily', '22', 'Boston', 'Volleyball', 'Eagles'], ['Chris', '32', 'Seattle', 'Cycling', 'Wolves'], ['Anna', '27', 'Denver', 'Golf', 'Bears'], ['Leo', '24', 'Dallas', 'Hockey', 'Panthers'], ['Grace', '29', 'Atlanta', 'Rowing', 'Dolphins'], ['Alex', '26', 'Phoenix', 'Archery', 'Hawks'], ['Zoe', '31', 'Portland', 'Badminton', 'Rabbits']], columns=['Name', 'Age', 'Location', 'Sport', 'Team'])]"
      ]
     },
     "execution_count": 18,
     "metadata": {},
     "output_type": "execute_result"
    }
   ],
   "source": [
    "agent.db.tables"
   ]
  },
  {
   "cell_type": "code",
   "execution_count": 19,
   "id": "8f00eb88-8ab4-4c80-a2fc-37d6e408f26a",
   "metadata": {},
   "outputs": [
    {
     "name": "stdout",
     "output_type": "stream",
     "text": [
      "[Answering]: Who are the people below the age of 30? using context ['{\"Name\":{\"0\":\"Mary\",\"1\":\"David\",\"2\":\"Emily\",\"3\":\"Chris\",\"4\":\"Anna\",\"5\":\"Leo\",\"6\":\"Grace\",\"7\":\"Alex\",\"8\":\"Zoe\"},\"Age\":{\"0\":\"35\",\"1\":\"28\",\"2\":\"22\",\"3\":\"32\",\"4\":\"27\",\"5\":\"24\",\"6\":\"29\",\"7\":\"26\",\"8\":\"31\"},\"Location\":{\"0\":\"Chicago\",\"1\":\"Miami\",\"2\":\"Boston\",\"3\":\"Seattle\",\"4\":\"Denver\",\"5\":\"Dallas\",\"6\":\"Atlanta\",\"7\":\"Phoenix\",\"8\":\"Portland\"},\"Sport\":{\"0\":\"Soccer\",\"1\":\"Swimming\",\"2\":\"Volleyball\",\"3\":\"Cycling\",\"4\":\"Golf\",\"5\":\"Hockey\",\"6\":\"Rowing\",\"7\":\"Archery\",\"8\":\"Badminton\"},\"Team\":{\"0\":\"Falcons\",\"1\":\"Sharks\",\"2\":\"Eagles\",\"3\":\"Wolves\",\"4\":\"Bears\",\"5\":\"Panthers\",\"6\":\"Dolphins\",\"7\":\"Hawks\",\"8\":\"Rabbits\"}}'] from tables ['Players']\n",
      "The people below the age of 30 are: David (28), Emily (22), Anna (27), Leo (24), Alex (26).\n"
     ]
    },
    {
     "data": {
      "text/plain": [
       "\"The people below the age of 30 are:\\n\\n1. David, 28 years old\\n2. Emily, 22 years old\\n3. Anna, 27 years old\\n4. Leo, 24 years old\\n5. Alex, 26 years old\\n\\nThese individuals are part of the respective teams mentioned earlier. Let me know if there's anything else I can assist you with!\""
      ]
     },
     "execution_count": 19,
     "metadata": {},
     "output_type": "execute_result"
    }
   ],
   "source": [
    "agent.chat(\"find out people below age 30\")"
   ]
  },
  {
   "cell_type": "code",
   "execution_count": 20,
   "id": "2a306356-b0af-4d92-a79a-d46bd19a8b23",
   "metadata": {},
   "outputs": [
    {
     "name": "stdout",
     "output_type": "stream",
     "text": [
      "[Reading data]: \n",
      " Name, Age, Location, Sport, Team\n",
      "David, 28, Miami, Swimming, Sharks\n",
      "Emily, 22, Boston, Volleyball, Eagles\n",
      "Anna, 27, Denver, Golf, Bears\n",
      "Leo, 24, Dallas, Hockey, Panthers\n",
      "Alex, 26, Phoenix, Archery, Hawks \n",
      "\n"
     ]
    },
    {
     "data": {
      "text/plain": [
       "\"I have created a new table called 'Players' with the information of the people below the age of 30:\\n\\n| Name  | Age | Location | Sport      | Team     |\\n|-------|-----|----------|------------|----------|\\n| David | 28  | Miami    | Swimming   | Sharks   |\\n| Emily | 22  | Boston   | Volleyball | Eagles   |\\n| Anna  | 27  | Denver   | Golf       | Bears    |\\n| Leo   | 24  | Dallas   | Hockey     | Panthers |\\n| Alex  | 26  | Phoenix  | Archery    | Hawks    |\\n\\nThis table includes the names, ages, locations, sports, and teams of these individuals. Let me know if there's anything else I can assist you with!\""
      ]
     },
     "execution_count": 20,
     "metadata": {},
     "output_type": "execute_result"
    }
   ],
   "source": [
    "agent.chat(\"\"\"create new table from it\"\"\")"
   ]
  },
  {
   "cell_type": "code",
   "execution_count": 22,
   "id": "59356d48-413a-46db-bcda-7d3e158df8ee",
   "metadata": {},
   "outputs": [
    {
     "data": {
      "text/plain": [
       "2"
      ]
     },
     "execution_count": 22,
     "metadata": {},
     "output_type": "execute_result"
    }
   ],
   "source": [
    "len(agent.db.tables)"
   ]
  },
  {
   "cell_type": "code",
   "execution_count": null,
   "id": "ff477ae7-2daf-4e32-9670-faac33ad5712",
   "metadata": {},
   "outputs": [],
   "source": []
  }
 ],
 "metadata": {
  "kernelspec": {
   "display_name": "Python 3 (ipykernel)",
   "language": "python",
   "name": "python3"
  },
  "language_info": {
   "codemirror_mode": {
    "name": "ipython",
    "version": 3
   },
   "file_extension": ".py",
   "mimetype": "text/x-python",
   "name": "python",
   "nbconvert_exporter": "python",
   "pygments_lexer": "ipython3",
   "version": "3.11.0"
  }
 },
 "nbformat": 4,
 "nbformat_minor": 5
}
