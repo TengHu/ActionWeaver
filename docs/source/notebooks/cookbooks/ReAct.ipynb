{
 "cells": [
  {
   "cell_type": "markdown",
   "id": "c32e76a3-28c1-4800-96d4-614022664e75",
   "metadata": {},
   "source": [
    "# ReAct Agent"
   ]
  },
  {
   "cell_type": "code",
   "execution_count": 1,
   "id": "e9304e47-b44a-43b9-9ccc-e804a5d34fe8",
   "metadata": {},
   "outputs": [
    {
     "ename": "ImportError",
     "evalue": "cannot import name 'ActionHandlerMixin' from 'actionweaver' (/Users/tenghu/Code/actiontools/actionweaver/__init__.py)",
     "output_type": "error",
     "traceback": [
      "\u001b[0;31m---------------------------------------------------------------------------\u001b[0m",
      "\u001b[0;31mImportError\u001b[0m                               Traceback (most recent call last)",
      "Cell \u001b[0;32mIn[1], line 10\u001b[0m\n\u001b[1;32m      8\u001b[0m \u001b[38;5;28;01mfrom\u001b[39;00m \u001b[38;5;21;01mactionweaver\u001b[39;00m\u001b[38;5;21;01m.\u001b[39;00m\u001b[38;5;21;01mllms\u001b[39;00m\u001b[38;5;21;01m.\u001b[39;00m\u001b[38;5;21;01mopenai\u001b[39;00m\u001b[38;5;21;01m.\u001b[39;00m\u001b[38;5;21;01mchat\u001b[39;00m \u001b[38;5;28;01mimport\u001b[39;00m OpenAIChatCompletion\n\u001b[1;32m      9\u001b[0m \u001b[38;5;28;01mfrom\u001b[39;00m \u001b[38;5;21;01mactionweaver\u001b[39;00m\u001b[38;5;21;01m.\u001b[39;00m\u001b[38;5;21;01mllms\u001b[39;00m\u001b[38;5;21;01m.\u001b[39;00m\u001b[38;5;21;01mopenai\u001b[39;00m\u001b[38;5;21;01m.\u001b[39;00m\u001b[38;5;21;01mtokens\u001b[39;00m \u001b[38;5;28;01mimport\u001b[39;00m TokenUsageTracker\n\u001b[0;32m---> 10\u001b[0m \u001b[38;5;28;01mfrom\u001b[39;00m \u001b[38;5;21;01mactionweaver\u001b[39;00m \u001b[38;5;28;01mimport\u001b[39;00m action, ActionHandlerMixin, SelectOne, RequireNext\n\u001b[1;32m     12\u001b[0m \u001b[38;5;28;01mfrom\u001b[39;00m \u001b[38;5;21;01mactionweaver\u001b[39;00m\u001b[38;5;21;01m.\u001b[39;00m\u001b[38;5;21;01mmixins\u001b[39;00m\u001b[38;5;21;01m.\u001b[39;00m\u001b[38;5;21;01mexamples\u001b[39;00m \u001b[38;5;28;01mimport\u001b[39;00m LangChainTools, Folium, OpenAIAPI\n\u001b[1;32m     13\u001b[0m openai\u001b[38;5;241m.\u001b[39mapi_key \u001b[38;5;241m=\u001b[39m os\u001b[38;5;241m.\u001b[39mgetenv(\u001b[38;5;124m\"\u001b[39m\u001b[38;5;124mOPENAI_API_KEY\u001b[39m\u001b[38;5;124m\"\u001b[39m)\n",
      "\u001b[0;31mImportError\u001b[0m: cannot import name 'ActionHandlerMixin' from 'actionweaver' (/Users/tenghu/Code/actiontools/actionweaver/__init__.py)"
     ]
    }
   ],
   "source": [
    "import logging\n",
    "import os\n",
    "import openai\n",
    "import itertools\n",
    "\n",
    "from typing import List\n",
    "\n",
    "from actionweaver.llms.openai.chat import OpenAIChatCompletion\n",
    "from actionweaver.llms.openai.tokens import TokenUsageTracker\n",
    "from actionweaver import action, ActionHandlerMixin, SelectOne, RequireNext\n",
    "\n",
    "from actionweaver.mixins.examples import LangChainTools, Folium, OpenAIAPI\n",
    "openai.api_key = os.getenv(\"OPENAI_API_KEY\")"
   ]
  },
  {
   "cell_type": "code",
   "execution_count": null,
   "id": "5a7322da-639c-4917-85fc-c98411fe8970",
   "metadata": {},
   "outputs": [],
   "source": [
    "logging.basicConfig(\n",
    "    filename='react.log',\n",
    "    filemode='a',\n",
    "    format='%(asctime)s.%(msecs)04d %(levelname)s {%(module)s} [%(funcName)s] %(message)s',\n",
    "    level=logging.INFO,\n",
    "    datefmt='%Y-%m-%d %H:%M:%S'\n",
    ")\n",
    "\n",
    "logger = logging.getLogger(__name__)\n",
    "logger.setLevel(logging.DEBUG)\n",
    "\n",
    "\n",
    "logger.info(\"dsf\")"
   ]
  },
  {
   "cell_type": "code",
   "execution_count": 2,
   "id": "a138d45a-5b5d-4791-9d27-2fbfbda84897",
   "metadata": {},
   "outputs": [
    {
     "ename": "NameError",
     "evalue": "name 'ActionHandlerMixin' is not defined",
     "output_type": "error",
     "traceback": [
      "\u001b[0;31m---------------------------------------------------------------------------\u001b[0m",
      "\u001b[0;31mNameError\u001b[0m                                 Traceback (most recent call last)",
      "Cell \u001b[0;32mIn[2], line 1\u001b[0m\n\u001b[0;32m----> 1\u001b[0m \u001b[38;5;28;01mclass\u001b[39;00m \u001b[38;5;21;01mLLMAgent\u001b[39;00m(\u001b[43mActionHandlerMixin\u001b[49m):\n\u001b[1;32m      2\u001b[0m     \u001b[38;5;28;01mdef\u001b[39;00m \u001b[38;5;21m__init__\u001b[39m(\u001b[38;5;28mself\u001b[39m, logger):\n\u001b[1;32m      3\u001b[0m         \u001b[38;5;28mself\u001b[39m\u001b[38;5;241m.\u001b[39mlogger \u001b[38;5;241m=\u001b[39m logger\n",
      "\u001b[0;31mNameError\u001b[0m: name 'ActionHandlerMixin' is not defined"
     ]
    }
   ],
   "source": [
    "class LLMAgent(ActionHandlerMixin):\n",
    "    def __init__(self, logger):\n",
    "        self.logger = logger\n",
    "        self.token_tracker = TokenUsageTracker(budget=None, logger=logger)\n",
    "        self.llm = OpenAIChatCompletion(\"gpt-3.5-turbo\", token_usage_tracker = self.token_tracker, logger=logger)\n",
    "        \n",
    "        self.messages = [{\"role\": \"system\", \"content\": \"You are a resourceful assistant, able to inquire for more information if you cannot provide a confident answer to a question.\"}]\n",
    "        self.buffer = [] \n",
    "    \n",
    "    def __call__(self, text):\n",
    "        self.messages += [{\"role\": \"user\", \"content\":text}]\n",
    "\n",
    "        self.buffer = self.messages[-6:] # We only take last 6 messages for input to llm\n",
    "        len_buffer = len(self.buffer)\n",
    "        \n",
    "        response = self.llm.create(messages=self.buffer, stream=True)\n",
    "\n",
    "        self.messages = self.messages[: len(self.messages) - len_buffer] + self.buffer\n",
    "        return response\n",
    "\n",
    "    \n",
    "class AgentV0(LLMAgent, LangChainTools, Folium, OpenAIAPI):\n",
    "    @action(name=\"Planning\")\n",
    "    def plan(self, steps: List[str]) -> str:\n",
    "        \"\"\"\n",
    "        Invoke this function to create a list of tasks.\n",
    "        \"\"\"\n",
    "        concatenated_steps = \"\"\n",
    "        for index, task in enumerate(steps):\n",
    "            concatenated_steps += f\"{index}: {task}\\n\"\n",
    "        \n",
    "        return concatenated_steps\n",
    "\n",
    "def print_output(output):\n",
    "    if type(output) == itertools._tee:\n",
    "        for chunk in output:\n",
    "            content = chunk[\"choices\"][0].get(\"delta\", {}).get(\"content\")\n",
    "            if content is not None:\n",
    "                print(content, end='')\n",
    "    else:\n",
    "        print (output)\n",
    "\n",
    "\n",
    "agent = AgentV0(logger)"
   ]
  },
  {
   "cell_type": "code",
   "execution_count": 3,
   "id": "dd4225a6-996b-44da-a7a0-80230e99c6a8",
   "metadata": {},
   "outputs": [
    {
     "ename": "NameError",
     "evalue": "name 'print_output' is not defined",
     "output_type": "error",
     "traceback": [
      "\u001b[0;31m---------------------------------------------------------------------------\u001b[0m",
      "\u001b[0;31mNameError\u001b[0m                                 Traceback (most recent call last)",
      "Cell \u001b[0;32mIn[3], line 1\u001b[0m\n\u001b[0;32m----> 1\u001b[0m \u001b[43mprint_output\u001b[49m(agent(\u001b[38;5;124m\"\u001b[39m\u001b[38;5;124mtask: showing top 10 chinese cities based on population.\u001b[39m\u001b[38;5;130;01m\\n\u001b[39;00m\u001b[38;5;124m Create a plan finish the task, each step ONLY use one of tools available to you\u001b[39m\u001b[38;5;124m\"\u001b[39m))\n",
      "\u001b[0;31mNameError\u001b[0m: name 'print_output' is not defined"
     ]
    }
   ],
   "source": [
    "print_output(agent(\"task: showing top 10 chinese cities based on population.\\n Create a plan finish the task, each step ONLY use one of tools available to you\"))"
   ]
  },
  {
   "cell_type": "code",
   "execution_count": 20,
   "id": "d7ea45d5-6646-49b2-871f-d383d59b841e",
   "metadata": {},
   "outputs": [
    {
     "data": {
      "text/plain": [
       "{'GoogleSearch': <actionweaver.actions.action.Action at 0x10bfcf100>,\n",
       " 'ShowMap': <actionweaver.actions.action.Action at 0x10bb1d370>,\n",
       " 'GenerateImage': <actionweaver.actions.action.Action at 0x10bfcfca0>,\n",
       " 'Planning': <actionweaver.actions.action.Action at 0x1220bc9a0>}"
      ]
     },
     "execution_count": 20,
     "metadata": {},
     "output_type": "execute_result"
    }
   ],
   "source": [
    "agent._action_handlers.name_to_action"
   ]
  },
  {
   "cell_type": "code",
   "execution_count": null,
   "id": "6401eea9-4b28-4137-babe-526688505dec",
   "metadata": {},
   "outputs": [],
   "source": []
  }
 ],
 "metadata": {
  "kernelspec": {
   "display_name": "Python 3 (ipykernel)",
   "language": "python",
   "name": "python3"
  },
  "language_info": {
   "codemirror_mode": {
    "name": "ipython",
    "version": 3
   },
   "file_extension": ".py",
   "mimetype": "text/x-python",
   "name": "python",
   "nbconvert_exporter": "python",
   "pygments_lexer": "ipython3",
   "version": "3.11.0"
  }
 },
 "nbformat": 4,
 "nbformat_minor": 5
}
