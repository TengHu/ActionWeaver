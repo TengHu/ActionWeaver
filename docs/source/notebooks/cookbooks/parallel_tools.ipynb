{
 "cells": [
  {
   "cell_type": "markdown",
   "id": "5d447fc7-a904-4a9e-873d-7264644759bd",
   "metadata": {
    "editable": true,
    "slideshow": {
     "slide_type": ""
    },
    "tags": []
   },
   "source": [
    "# Parallel Function Calling\n",
    "\n",
    "Parallel function calls are available in the following models: gpt-4-1106-preview and gpt-3.5-turbo-1106.\n",
    "\n",
    "For the most accurate and detailed information, please visit the [OpenAI documentation directly at OpenAI Platform Guides - Function Calling](https://platform.openai.com/docs/guides/function-calling/parallel-function-calling)."
   ]
  },
  {
   "cell_type": "code",
   "execution_count": 1,
   "id": "f6297385-a0c7-4dff-9595-72721d4a9f9a",
   "metadata": {
    "editable": true,
    "slideshow": {
     "slide_type": ""
    },
    "tags": []
   },
   "outputs": [],
   "source": [
    "import logging\n",
    "import os\n",
    "import openai\n",
    "import itertools\n",
    "from openai import OpenAI\n",
    "from actionweaver.llms import wrap\n",
    "\n",
    "\n",
    "openai.api_key = os.getenv(\"OPENAI_API_KEY\")\n",
    "\n",
    "openai_client = wrap(OpenAI())"
   ]
  },
  {
   "cell_type": "code",
   "execution_count": 2,
   "id": "082399ea-2ba9-4f42-a17d-82de79a65ced",
   "metadata": {},
   "outputs": [],
   "source": [
    "from actionweaver import action\n",
    "\n",
    "@action(name=\"GetWeather\")\n",
    "def get_current_weather(location, unit=\"fahrenheit\"):\n",
    "    \"\"\"Get the current weather in a given location\"\"\"\n",
    "    print (\"Getting current weather\")\n",
    "    \n",
    "    import json\n",
    "    if \"tokyo\" in location.lower():\n",
    "        return json.dumps({\"location\": \"Tokyo\", \"temperature\": \"10\", \"unit\": \"celsius\"})\n",
    "    elif \"san francisco\" in location.lower():\n",
    "        return json.dumps({\"location\": \"San Francisco\", \"temperature\": \"72\", \"unit\": \"fahrenheit\"})\n",
    "    elif \"paris\" in location.lower():\n",
    "        return json.dumps({\"location\": \"Paris\", \"temperature\": \"22\", \"unit\": \"celsius\"})\n",
    "    else:\n",
    "        return json.dumps({\"location\": location, \"temperature\": \"unknown\"})\n",
    "\n",
    "\n",
    "@action(name=\"GetCurrentTime\")\n",
    "def get_current_time() -> str:\n",
    "    \"\"\"\n",
    "    Use this for getting the current time in the specified time zone.\n",
    "    \n",
    "    :return: A string representing the current time in the specified time zone.\n",
    "    \"\"\"\n",
    "    print (\"Getting current time\")\n",
    "    import datetime\n",
    "    current_time = datetime.datetime.now()\n",
    "    \n",
    "    return f\"The current time is {current_time}\"\n"
   ]
  },
  {
   "cell_type": "code",
   "execution_count": 3,
   "id": "e2c60439-71bc-4830-beb5-85446d162329",
   "metadata": {
    "editable": true,
    "slideshow": {
     "slide_type": ""
    },
    "tags": []
   },
   "outputs": [
    {
     "name": "stdout",
     "output_type": "stream",
     "text": [
      "Getting current weather\n",
      "Getting current weather\n",
      "Getting current weather\n",
      "Getting current time\n"
     ]
    }
   ],
   "source": [
    "response = openai_client.create(\n",
    "  model=\"gpt-3.5-turbo-1106\",\n",
    "  messages=[{\"role\": \"user\", \"content\": \"what time is it now and What's the weather like in San Francisco, Tokyo, and Paris?\"}],\n",
    "  actions = [get_current_weather, get_current_time],\n",
    "  stream=False, \n",
    ")\n"
   ]
  },
  {
   "cell_type": "code",
   "execution_count": 4,
   "id": "b93a7364-b820-4a3a-9970-a7a380ea3786",
   "metadata": {
    "editable": true,
    "slideshow": {
     "slide_type": ""
    },
    "tags": []
   },
   "outputs": [
    {
     "name": "stdout",
     "output_type": "stream",
     "text": [
      "The current time is 09:05 AM, and the weather is as follows:\n",
      "- San Francisco: 72°F\n",
      "- Tokyo: 10°C\n",
      "- Paris: 22°C\n"
     ]
    }
   ],
   "source": [
    "print (response.choices[0].message.content)"
   ]
  }
 ],
 "metadata": {
  "kernelspec": {
   "display_name": "Python 3 (ipykernel)",
   "language": "python",
   "name": "python3"
  },
  "language_info": {
   "codemirror_mode": {
    "name": "ipython",
    "version": 3
   },
   "file_extension": ".py",
   "mimetype": "text/x-python",
   "name": "python",
   "nbconvert_exporter": "python",
   "pygments_lexer": "ipython3",
   "version": "3.9.18"
  }
 },
 "nbformat": 4,
 "nbformat_minor": 5
}
