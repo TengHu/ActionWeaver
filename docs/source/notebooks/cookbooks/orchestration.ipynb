{
 "cells": [
  {
   "cell_type": "markdown",
   "id": "354b99ed-60ca-49f6-91aa-f4e3b85d5cbb",
   "metadata": {
    "editable": true,
    "slideshow": {
     "slide_type": ""
    },
    "tags": []
   },
   "source": [
    "# Action Orchestration\n",
    "\n",
    "In this example, we will demonstrate how to use ActionWeaver to orchestrate the design of hierarchies and chains of action.\n",
    "\n",
    "**Keep in mind that orchestration is limited to a single action invoked per API call. If multiple actions are invoked, same set of actions will be available to LLM again**"
   ]
  },
  {
   "cell_type": "code",
   "execution_count": 2,
   "id": "5e7451c8-ddb3-498a-96b4-f166fafd783a",
   "metadata": {},
   "outputs": [],
   "source": [
    "import os\n",
    "import openai\n",
    "from openai import OpenAI\n",
    "\n",
    "openai.api_key = os.getenv(\"OPENAI_API_KEY\")"
   ]
  },
  {
   "cell_type": "markdown",
   "id": "3a46ccb2-033d-404c-8213-1481e0da9196",
   "metadata": {},
   "source": [
    "**Patch OpenAI client**"
   ]
  },
  {
   "cell_type": "code",
   "execution_count": 3,
   "id": "d3f2465e-527f-47f8-a0ae-6246343a09a4",
   "metadata": {
    "editable": true,
    "slideshow": {
     "slide_type": ""
    },
    "tags": []
   },
   "outputs": [],
   "source": [
    "from actionweaver.llms import wrap\n",
    "\n",
    "openai_client = wrap(OpenAI())"
   ]
  },
  {
   "cell_type": "markdown",
   "id": "e2fa587b-0637-4443-9353-33226e611df1",
   "metadata": {},
   "source": [
    "**Define function you want model to invoke**"
   ]
  },
  {
   "cell_type": "code",
   "execution_count": 4,
   "id": "da75c6a8-14ad-43a9-9378-fc166604f5d2",
   "metadata": {},
   "outputs": [],
   "source": [
    "from actionweaver import action\n",
    "from typing import List\n",
    "\n",
    "@action(name=\"FileHandler\")\n",
    "def handle_file(instruction: str) -> str:\n",
    "    \"\"\"\n",
    "    Handles user instructions related to file operations. Put every context in the instruction only!\n",
    "\n",
    "    Args:\n",
    "        instruction (str): The user's instruction about file handling.\n",
    "\n",
    "    Returns:\n",
    "        str: The response to the user's question.\n",
    "    \"\"\"\n",
    "    print (\"Handling file...\")\n",
    "    return instruction\n",
    "    \n",
    "\n",
    "@action(name=\"ListFiles\")\n",
    "def list_all_files_in_repo(repo_path: str ='.') -> List:\n",
    "    \"\"\"\n",
    "    Lists all the files in the given repository.\n",
    "\n",
    "    :param repo_path: Path to the repository. Defaults to the current directory.\n",
    "    :return: List of file paths.\n",
    "    \"\"\"\n",
    "    print (f\"List all files in {repo_path}...\")\n",
    "    \n",
    "    file_list = []\n",
    "    for root, _, files in os.walk(repo_path):\n",
    "        for file in files:\n",
    "            file_list.append(os.path.join(root, file))\n",
    "        break\n",
    "    return file_list\n",
    "\n",
    "@action(name=\"ReadFile\")\n",
    "def read_from_file(file_path: str) -> str:\n",
    "    \"\"\"\n",
    "    Reads the content of a file and returns it as a string.\n",
    "\n",
    "    :param file_path: The path to the file that needs to be read.\n",
    "    :return: A string containing the content of the file.\n",
    "    \"\"\"\n",
    "    print (f\"Read file from {file_path}\")\n",
    "    with open(file_path, 'r') as file:\n",
    "        content = file.read()\n",
    "    return f\"The file content: \\n{content}\"\n"
   ]
  },
  {
   "cell_type": "markdown",
   "id": "0ab4e133-0451-4773-88a5-0d1c917500af",
   "metadata": {},
   "source": [
    "\n",
    "### Build a hierarchy of actions\n",
    "Once FileHandler invoked by LLM, LLM can access actions from ListFiles, ReadFile, or reply with a message.\n",
    "```\n",
    "FileHandler\n",
    "  |\n",
    "  |-- ListFiles\n",
    "  |\n",
    "  |-- ReadFile\n",
    "```\n"
   ]
  },
  {
   "cell_type": "code",
   "execution_count": 12,
   "id": "725aa18a-375f-4f1e-84fb-9155ec43f837",
   "metadata": {
    "editable": true,
    "slideshow": {
     "slide_type": ""
    },
    "tags": []
   },
   "outputs": [
    {
     "name": "stdout",
     "output_type": "stream",
     "text": [
      "Handling file...\n",
      "List all files in ....\n"
     ]
    }
   ],
   "source": [
    "response = openai_client.create(\n",
    "  model=\"gpt-3.5-turbo\",\n",
    "  messages=[{\"role\": \"user\", \"content\": \"list all files\"}],\n",
    "  actions = [handle_file],\n",
    "  orch = {\n",
    "        handle_file.name: [read_from_file, list_all_files_in_repo]\n",
    "  },\n",
    "  stream=False, \n",
    ")"
   ]
  }
 ],
 "metadata": {
  "kernelspec": {
   "display_name": "Python 3 (ipykernel)",
   "language": "python",
   "name": "python3"
  },
  "language_info": {
   "codemirror_mode": {
    "name": "ipython",
    "version": 3
   },
   "file_extension": ".py",
   "mimetype": "text/x-python",
   "name": "python",
   "nbconvert_exporter": "python",
   "pygments_lexer": "ipython3",
   "version": "3.11.0"
  }
 },
 "nbformat": 4,
 "nbformat_minor": 5
}
