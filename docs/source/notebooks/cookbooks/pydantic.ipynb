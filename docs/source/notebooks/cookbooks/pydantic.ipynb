{
 "cells": [
  {
   "cell_type": "markdown",
   "id": "ae85f6cf-31ca-4c83-915f-c6b94fff7c29",
   "metadata": {
    "editable": true,
    "slideshow": {
     "slide_type": ""
    },
    "tags": []
   },
   "source": [
    "# Using ActionWeaver with Pydantic V2\n",
    "This guide is designed to demonstrate use cases using Pydantic along with ActionWeaver."
   ]
  },
  {
   "cell_type": "code",
   "execution_count": 1,
   "id": "d2bf3204-44ec-4012-b5a9-1b9b6c4aa396",
   "metadata": {
    "editable": true,
    "slideshow": {
     "slide_type": ""
    },
    "tags": []
   },
   "outputs": [],
   "source": [
    "%load_ext autoreload\n",
    "%autoreload 2"
   ]
  },
  {
   "cell_type": "code",
   "execution_count": 2,
   "id": "8e16c149-11a2-47ba-9a93-fa67cefc6c2a",
   "metadata": {
    "editable": true,
    "slideshow": {
     "slide_type": ""
    },
    "tags": []
   },
   "outputs": [],
   "source": [
    "import os\n",
    "\n",
    "from typing import List\n",
    "from uuid import UUID, uuid4\n",
    "\n",
    "from actionweaver import action\n",
    "from actionweaver.utils.tokens import TokenUsageTracker\n",
    "from actionweaver.llms import wrap\n",
    "from actionweaver.actions.factories.pydantic_model_to_action import  action_from_model\n",
    "\n",
    "from pydantic import BaseModel, Field, PrivateAttr, validate_call\n",
    "\n",
    "from openai import OpenAI\n",
    "\n",
    "from datetime import datetime"
   ]
  },
  {
   "cell_type": "markdown",
   "id": "9f538ee8-b4a9-4a82-be25-877f108a02d7",
   "metadata": {
    "editable": true,
    "slideshow": {
     "slide_type": ""
    },
    "tags": []
   },
   "source": [
    "Prerequisite: Patch OpenAI client with ActionWeaver"
   ]
  },
  {
   "cell_type": "code",
   "execution_count": 4,
   "id": "7607a476-4e1d-4413-895c-91bff31f2873",
   "metadata": {
    "editable": true,
    "slideshow": {
     "slide_type": ""
    },
    "tags": []
   },
   "outputs": [],
   "source": [
    "from openai import AzureOpenAI\n",
    "\n",
    "MODEL=\"gpt-35-turbo-0613-16k\"\n",
    "client = AzureOpenAI(\n",
    "    azure_endpoint = os.getenv(\"AZURE_OPENAI_ENDPOINT\"), \n",
    "    api_key=os.getenv(\"AZURE_OPENAI_KEY\"),  \n",
    "    api_version=\"2023-10-01-preview\"\n",
    ")\n",
    "\n",
    "\n",
    "\n",
    "client = wrap(client)"
   ]
  },
  {
   "cell_type": "markdown",
   "id": "b15e8206-8df9-4b21-ad95-f764ba05b334",
   "metadata": {},
   "source": [
    "Use Case: Structure parsing using Pydantic V2"
   ]
  },
  {
   "cell_type": "code",
   "execution_count": 5,
   "id": "bccd2ba4-a69c-4316-aee9-5833780fcb2d",
   "metadata": {},
   "outputs": [
    {
     "data": {
      "text/plain": [
       "{'$defs': {'User': {'properties': {'name': {'description': 'Name of the user',\n",
       "     'title': 'Name',\n",
       "     'type': 'string'},\n",
       "    'age': {'description': 'Age of the user',\n",
       "     'exclusiveMinimum': 0,\n",
       "     'title': 'Age',\n",
       "     'type': 'integer'}},\n",
       "   'required': ['name', 'age'],\n",
       "   'title': 'User',\n",
       "   'type': 'object'}},\n",
       " 'properties': {'users': {'items': {'$ref': '#/$defs/User'},\n",
       "   'title': 'Users',\n",
       "   'type': 'array'}},\n",
       " 'required': ['users'],\n",
       " 'title': 'Users',\n",
       " 'type': 'object'}"
      ]
     },
     "execution_count": 5,
     "metadata": {},
     "output_type": "execute_result"
    }
   ],
   "source": [
    "class User(BaseModel):\n",
    "    _uid: UUID = PrivateAttr(default_factory=uuid4)\n",
    "    _created_at: datetime = PrivateAttr(default_factory=datetime.now)\n",
    "    name: str = Field(..., description=\"Name of the user\")\n",
    "    age: int = Field(..., description=\"Age of the user\", gt=0)\n",
    "\n",
    "class Users(BaseModel):\n",
    "    users: List[User]\n",
    "\n",
    "create_users = action_from_model(Users, stop=True)\n",
    "create_users.json_schema()"
   ]
  },
  {
   "cell_type": "code",
   "execution_count": 7,
   "id": "11b26837-35c2-45fa-bad0-a7b92002d9a1",
   "metadata": {},
   "outputs": [],
   "source": [
    "users = create_users.invoke(client, messages=[{\"role\": \"user\", \"content\": \"Niel and Tom are 31 years old, James is 25 years old\"}], model=MODEL, stream=False, force=False)"
   ]
  },
  {
   "cell_type": "code",
   "execution_count": 8,
   "id": "7f63b146-9564-4ec8-80ac-e64c94fdefd4",
   "metadata": {},
   "outputs": [
    {
     "data": {
      "text/plain": [
       "Users(users=[User(name='Niel', age=31), User(name='Tom', age=31), User(name='James', age=25)])"
      ]
     },
     "execution_count": 8,
     "metadata": {},
     "output_type": "execute_result"
    }
   ],
   "source": [
    "users"
   ]
  },
  {
   "cell_type": "markdown",
   "id": "546a42b0-e87e-48eb-ba48-74ef3e01defb",
   "metadata": {},
   "source": [
    "Use Case: You can also use Pydantic models as function parameter.\n",
    "\n",
    "The `@validate_call` decorator allows the arguments passed to a function to be parsed and validated using the function's annotations before the function is called."
   ]
  },
  {
   "cell_type": "code",
   "execution_count": null,
   "id": "a9e0a256-bd74-4444-9f28-d0103c559baa",
   "metadata": {},
   "outputs": [],
   "source": [
    "user_db = []\n",
    "\n",
    "@action(name=\"InsertUsers\", stop=True)\n",
    "@validate_call\n",
    "def insert_users(users: Users) -> str:\n",
    "    \"\"\"Inserts user data into the database and returns a success message.\"\"\"\n",
    "    # Add the provided users to the user database\n",
    "    user_db.extend(users.users)\n",
    "    \n",
    "    return f\"Inserted {len(users.users)} users .\""
   ]
  },
  {
   "cell_type": "code",
   "execution_count": null,
   "id": "00965533-8063-4205-ab95-f31aa6c9e19e",
   "metadata": {
    "editable": true,
    "slideshow": {
     "slide_type": ""
    },
    "tags": []
   },
   "outputs": [],
   "source": [
    "messages = [\n",
    "    {\"role\": \"user\", \"content\": \"Add following users: Niel and Tom are 31 years old, James is 25 years old\"}\n",
    "  ]\n",
    "\n",
    "response = client.create(\n",
    "    model=\"gpt-3.5-turbo\",\n",
    "    messages=messages,\n",
    "    actions = [insert_users],\n",
    "    stream=False, \n",
    "    token_usage_tracker = TokenUsageTracker(500),\n",
    ")\n",
    "\n",
    "response, user_db"
   ]
  }
 ],
 "metadata": {
  "kernelspec": {
   "display_name": "Python 3 (ipykernel)",
   "language": "python",
   "name": "python3"
  },
  "language_info": {
   "codemirror_mode": {
    "name": "ipython",
    "version": 3
   },
   "file_extension": ".py",
   "mimetype": "text/x-python",
   "name": "python",
   "nbconvert_exporter": "python",
   "pygments_lexer": "ipython3",
   "version": "3.9.18"
  }
 },
 "nbformat": 4,
 "nbformat_minor": 5
}
