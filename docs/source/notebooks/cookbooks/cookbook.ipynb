{
 "cells": [
  {
   "cell_type": "markdown",
   "id": "9d339680-9875-4563-bf24-124d5a2cfc37",
   "metadata": {
    "editable": true,
    "slideshow": {
     "slide_type": ""
    },
    "tags": []
   },
   "source": [
    "# Tutorials\n",
    "\n",
    "- [Quickstart](quickstart.ipynb)\n",
    "- [Action Orchestration](orchestration.ipynb)\n",
    "- [Stateful Agent](stateful_agent.ipynb)\n",
    "- [Parallel Function Calling](parallel_tools.ipynb)\n",
    "\n",
    "## Structure Output Parsing\n",
    "- [Structured Parsing and Data Validation with Pydantic](pydantic.ipynb)\n",
    "- [Function Validation with Pydantic and Exception Handler](function_validation_and_exception_handling.ipynb)\n",
    "\n",
    "## Logging and Tracing\n",
    "- [Built Tracable Action with LangSmith Tracing](langsmith.ipynb)\n",
    "- [Structure Logging](logging.ipynb)\n",
    "\n",
    "\n",
    "#  Examples\n",
    "- [Function Calling with Mistralai/Mistral-7B-Instruct-v0.1 through Anyscale Endpoints](anyscale.ipynb)\n",
    "- [Tabular Data Extraction](extract_tabular_data.ipynb)\n",
    "- [Extracting Knowledge Graph from Unstructured Text](knowledge_graph_extraction.ipynb)\n",
    "- [Description-to-Pull-Request Coding Bot](https://github.com/TengHu/AutoCoder)\n"
   ]
  },
  {
   "cell_type": "code",
   "execution_count": null,
   "id": "397818d0-3157-4133-82f9-1e77f18f2d9d",
   "metadata": {
    "editable": true,
    "slideshow": {
     "slide_type": ""
    },
    "tags": []
   },
   "outputs": [],
   "source": []
  }
 ],
 "metadata": {
  "kernelspec": {
   "display_name": "Python 3 (ipykernel)",
   "language": "python",
   "name": "python3"
  },
  "language_info": {
   "codemirror_mode": {
    "name": "ipython",
    "version": 3
   },
   "file_extension": ".py",
   "mimetype": "text/x-python",
   "name": "python",
   "nbconvert_exporter": "python",
   "pygments_lexer": "ipython3",
   "version": "3.9.18"
  }
 },
 "nbformat": 4,
 "nbformat_minor": 5
}
