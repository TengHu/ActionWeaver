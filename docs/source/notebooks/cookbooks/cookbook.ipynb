{
 "cells": [
  {
   "cell_type": "markdown",
   "id": "9d339680-9875-4563-bf24-124d5a2cfc37",
   "metadata": {},
   "source": [
    "# Tutorials\n",
    "\n",
    "- [Quickstart](quickstart.ipynb)\n",
    "- [ActionWeaver + Azure](azure_tutorial.ipynb)\n",
    "- [Structured Extraction](structured_extraction.ipynb)\n",
    "- [Action Orchestration](orchestration.ipynb)\n",
    "- [Stateful Agent](stateful_agent.ipynb)\n",
    "- [Parallel Function Calling](parallel_tools.ipynb)\n",
    "\n",
    "#  Examples\n",
    "\n",
    "- [ReAct/Planning Agent](planning_agent.ipynb)\n",
    "- [Function Calling with Mistralai/Mistral-7B-Instruct-v0.1 through Anyscale Endpoints](anyscale.ipynb)\n"
   ]
  },
  {
   "cell_type": "markdown",
   "id": "e698d7e1-c6e6-426d-af5c-5797c2dd14d0",
   "metadata": {},
   "source": []
  },
  {
   "cell_type": "code",
   "execution_count": null,
   "id": "c59984b6-ffaa-4ccc-afcb-2eef72ff5aa1",
   "metadata": {},
   "outputs": [],
   "source": []
  }
 ],
 "metadata": {
  "kernelspec": {
   "display_name": "Python 3 (ipykernel)",
   "language": "python",
   "name": "python3"
  },
  "language_info": {
   "codemirror_mode": {
    "name": "ipython",
    "version": 3
   },
   "file_extension": ".py",
   "mimetype": "text/x-python",
   "name": "python",
   "nbconvert_exporter": "python",
   "pygments_lexer": "ipython3",
   "version": "3.11.0"
  }
 },
 "nbformat": 4,
 "nbformat_minor": 5
}
