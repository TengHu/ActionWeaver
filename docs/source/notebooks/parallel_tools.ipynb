{
 "cells": [
  {
   "cell_type": "code",
   "execution_count": 14,
   "id": "f6297385-a0c7-4dff-9595-72721d4a9f9a",
   "metadata": {},
   "outputs": [],
   "source": [
    "import logging\n",
    "import os\n",
    "import openai\n",
    "import itertools\n",
    "\n",
    "\n",
    "from actionweaver.llms.openai.tools.chat import OpenAIChatCompletion\n",
    "from actionweaver.llms.openai.tools.tokens import TokenUsageTracker\n",
    "from actionweaver import action\n",
    "\n",
    "openai.api_key = os.getenv(\"OPENAI_API_KEY\")\n",
    "\n",
    "\n",
    " \n",
    "\n",
    "def print_output(output):\n",
    "    from collections.abc import Iterable\n",
    "    if isinstance(output, str):\n",
    "        print (output)\n",
    "    elif isinstance(output, Iterable):\n",
    "        for chunk in output:\n",
    "            content = chunk.choices[0].delta.content\n",
    "            if content is not None:\n",
    "                print(content, end='')\n"
   ]
  },
  {
   "cell_type": "code",
   "execution_count": 15,
   "id": "0a8a394a-4f10-49fc-b453-19c84c81fd36",
   "metadata": {},
   "outputs": [],
   "source": [
    "logging.basicConfig(\n",
    "    filename='parallel_tools.log',\n",
    "    filemode='a',\n",
    "    format='%(asctime)s.%(msecs)04d %(levelname)s {%(module)s} [%(funcName)s] %(message)s',\n",
    "    level=logging.INFO,\n",
    "    datefmt='%Y-%m-%d %H:%M:%S'\n",
    ")\n",
    "\n",
    "logger = logging.getLogger(__name__)\n",
    "logger.setLevel(logging.DEBUG)"
   ]
  },
  {
   "cell_type": "code",
   "execution_count": 16,
   "id": "082399ea-2ba9-4f42-a17d-82de79a65ced",
   "metadata": {},
   "outputs": [],
   "source": [
    "\n",
    "@action(name=\"GetWeather\")\n",
    "def get_current_weather(location, unit=\"fahrenheit\"):\n",
    "    \"\"\"Get the current weather in a given location\"\"\"\n",
    "    print (\"Getting current weather\")\n",
    "    \n",
    "    import json\n",
    "    if \"tokyo\" in location.lower():\n",
    "        return json.dumps({\"location\": \"Tokyo\", \"temperature\": \"10\", \"unit\": \"celsius\"})\n",
    "    elif \"san francisco\" in location.lower():\n",
    "        return json.dumps({\"location\": \"San Francisco\", \"temperature\": \"72\", \"unit\": \"fahrenheit\"})\n",
    "    elif \"paris\" in location.lower():\n",
    "        return json.dumps({\"location\": \"Paris\", \"temperature\": \"22\", \"unit\": \"celsius\"})\n",
    "    else:\n",
    "        return json.dumps({\"location\": location, \"temperature\": \"unknown\"})\n",
    "\n",
    "\n",
    "@action(name=\"GetCurrentTime\")\n",
    "def get_current_time() -> str:\n",
    "    \"\"\"\n",
    "    Use this for getting the current time in the specified time zone.\n",
    "    \n",
    "    :return: A string representing the current time in the specified time zone.\n",
    "    \"\"\"\n",
    "    print (\"Getting current time\")\n",
    "    import datetime\n",
    "    current_time = datetime.datetime.now()\n",
    "    \n",
    "    return f\"The current time is {current_time}\"\n"
   ]
  },
  {
   "cell_type": "code",
   "execution_count": 17,
   "id": "e2c60439-71bc-4830-beb5-85446d162329",
   "metadata": {},
   "outputs": [],
   "source": [
    "chat = OpenAIChatCompletion(\"gpt-3.5-turbo-1106\", logger=logger)"
   ]
  },
  {
   "cell_type": "code",
   "execution_count": 18,
   "id": "b93a7364-b820-4a3a-9970-a7a380ea3786",
   "metadata": {},
   "outputs": [
    {
     "name": "stdout",
     "output_type": "stream",
     "text": [
      "Getting current time\n",
      "Getting current weather\n",
      "Getting current weather\n",
      "Getting current weather\n",
      "The current time is 00:58:42.365429. \n",
      "\n",
      "The weather in:\n",
      "- San Francisco is 72°F\n",
      "- Tokyo is 10°C\n",
      "- Paris is 22°C\n"
     ]
    }
   ],
   "source": [
    "print_output(chat.create([{\"role\": \"user\", \"content\": \"what time is it now and What's the weather like in San Francisco, Tokyo, and Paris?\"}], actions = [get_current_weather, get_current_time], stream=False))\n",
    "\n",
    "\n",
    "\n"
   ]
  },
  {
   "cell_type": "code",
   "execution_count": 11,
   "id": "f5577e14-d159-438f-b4eb-043ec5c5c38a",
   "metadata": {},
   "outputs": [
    {
     "name": "stdout",
     "output_type": "stream",
     "text": [
      "Getting current time\n",
      "The current time is 20:18:11."
     ]
    }
   ],
   "source": [
    "print_output(get_current_time.invoke(chat, [{\"role\": \"user\", \"content\": \"what time is it ?\"}], stream=True))\n"
   ]
  },
  {
   "cell_type": "code",
   "execution_count": 12,
   "id": "02b7a373-48b6-4f32-898d-a2229c436b3b",
   "metadata": {},
   "outputs": [
    {
     "data": {
      "text/plain": [
       "[User(name='Tom', age=31)]"
      ]
     },
     "execution_count": 12,
     "metadata": {},
     "output_type": "execute_result"
    }
   ],
   "source": [
    "from pydantic import BaseModel\n",
    "from actionweaver.actions.factories.pydantic_model_to_action import action_from_model\n",
    "\n",
    "class User(BaseModel):\n",
    "    name: str\n",
    "    age: int\n",
    "\n",
    "action_from_model(User, stop=True).invoke(chat, [{\"role\": \"user\", \"content\": \"Tom is 31 years old\"}])"
   ]
  },
  {
   "cell_type": "code",
   "execution_count": 13,
   "id": "9bb34477-e2ee-4a24-9905-d8114b8a6e80",
   "metadata": {},
   "outputs": [
    {
     "name": "stdout",
     "output_type": "stream",
     "text": [
      "Getting current time\n",
      "Getting current weather\n",
      "The current time is 20:18:18 in your specified time zone.\n",
      "\n",
      "As for the weather in New York, the temperature is currently unknown.\n"
     ]
    }
   ],
   "source": [
    "print_output(chat.create([{\"role\": \"user\", \"content\": \"what time is it now\"}], actions = [get_current_time], orch = {get_current_time: get_current_weather}, stream=False))\n",
    "\n",
    "\n",
    "\n",
    "\n"
   ]
  },
  {
   "cell_type": "code",
   "execution_count": null,
   "id": "7347e0bb-f7c2-434a-ad9f-1b78863449dc",
   "metadata": {},
   "outputs": [],
   "source": []
  },
  {
   "cell_type": "code",
   "execution_count": null,
   "id": "ca8fbf25-69ab-4ce7-a06a-c33d0b50031f",
   "metadata": {},
   "outputs": [],
   "source": []
  }
 ],
 "metadata": {
  "kernelspec": {
   "display_name": "Python 3 (ipykernel)",
   "language": "python",
   "name": "python3"
  },
  "language_info": {
   "codemirror_mode": {
    "name": "ipython",
    "version": 3
   },
   "file_extension": ".py",
   "mimetype": "text/x-python",
   "name": "python",
   "nbconvert_exporter": "python",
   "pygments_lexer": "ipython3",
   "version": "3.11.0"
  }
 },
 "nbformat": 4,
 "nbformat_minor": 5
}
