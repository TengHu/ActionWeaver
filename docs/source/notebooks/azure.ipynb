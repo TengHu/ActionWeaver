{
 "cells": [
  {
   "cell_type": "code",
   "execution_count": 1,
   "id": "bc6a2fd0-889b-4006-901e-c8a57834d4ae",
   "metadata": {},
   "outputs": [],
   "source": [
    "import logging\n",
    "import os\n",
    "import openai\n",
    "import itertools\n",
    "import inspect\n",
    "\n",
    "\n",
    "from actionweaver.llms.azure.chat import ChatCompletion\n",
    "from actionweaver.llms.azure.tokens import TokenUsageTracker\n",
    "from actionweaver import action\n",
    "\n"
   ]
  },
  {
   "cell_type": "code",
   "execution_count": null,
   "id": "f738597f-26e2-4fda-aa85-466bc569c984",
   "metadata": {},
   "outputs": [],
   "source": []
  },
  {
   "cell_type": "code",
   "execution_count": 2,
   "id": "b79ff9a1-050d-4ac6-9dd6-d9fee63f1e76",
   "metadata": {},
   "outputs": [],
   "source": [
    "logging.basicConfig(\n",
    "    filename='agent.log',\n",
    "    filemode='a',\n",
    "    format='%(asctime)s.%(msecs)04d %(levelname)s {%(module)s} [%(funcName)s] %(message)s',\n",
    "    level=logging.INFO,\n",
    "    datefmt='%Y-%m-%d %H:%M:%S'\n",
    ")\n",
    "\n",
    "logger = logging.getLogger(__name__)\n",
    "logger.setLevel(logging.DEBUG)"
   ]
  },
  {
   "cell_type": "code",
   "execution_count": 3,
   "id": "1f450232-feff-440c-8f84-04bcc131a308",
   "metadata": {},
   "outputs": [],
   "source": [
    "@action(name=\"GetCurrentTime\")\n",
    "def get_current_time() -> str:\n",
    "    \"\"\"\n",
    "    Use this for getting the current time in the specified time zone.\n",
    "    \n",
    "    :return: A string representing the current time in the specified time zone.\n",
    "    \"\"\"\n",
    "    import datetime\n",
    "    current_time = datetime.datetime.now()\n",
    "    \n",
    "    return f\"The current time is {current_time}\""
   ]
  },
  {
   "cell_type": "code",
   "execution_count": 4,
   "id": "7cee98d0-1e93-4822-b40f-f77cc39120b1",
   "metadata": {},
   "outputs": [],
   "source": [
    "chat = ChatCompletion(\n",
    "    model=\"gpt-35-turbo-0613-16k\", \n",
    "    azure_endpoint = os.getenv(\"AZURE_OPENAI_ENDPOINT\"), \n",
    "    api_key=os.getenv(\"AZURE_OPENAI_KEY\"),  \n",
    "    api_version=\"2023-10-01-preview\", \n",
    "    token_usage_tracker = TokenUsageTracker(budget=2000, logger=logger), \n",
    "    logger=logger)"
   ]
  },
  {
   "cell_type": "code",
   "execution_count": 5,
   "id": "87b432dc-bab4-438b-b70d-6e5e60370dd7",
   "metadata": {},
   "outputs": [],
   "source": [
    "def print_output(output):\n",
    "    from collections.abc import Iterable\n",
    "    if isinstance(output, str):\n",
    "        print (output)\n",
    "    elif isinstance(output, Iterable):\n",
    "        for chunk in output:\n",
    "            content = chunk.choices[0].delta.content\n",
    "            if content is not None:\n",
    "                print(content, end='')"
   ]
  },
  {
   "cell_type": "code",
   "execution_count": 21,
   "id": "5d19893f-519c-4606-80d9-264e405c73f9",
   "metadata": {},
   "outputs": [
    {
     "name": "stdout",
     "output_type": "stream",
     "text": [
      "I'm sorry, I am an AI language model and I do not have access to real-time information. Please check the time on your device or ask someone nearby for the current time.\n"
     ]
    }
   ],
   "source": [
    "print_output(chat.create([{\"role\": \"user\", \"content\": \"what time is it\"}], actions = [], stream=False))"
   ]
  },
  {
   "cell_type": "code",
   "execution_count": 22,
   "id": "173041dd-4cec-4ba6-8154-82be803dc52b",
   "metadata": {},
   "outputs": [
    {
     "name": "stdout",
     "output_type": "stream",
     "text": [
      "The current time is 19:10 (7:10 PM).\n"
     ]
    }
   ],
   "source": [
    "print_output(chat.create([{\"role\": \"user\", \"content\": \"what time is it\"}], actions = [get_current_time], stream=False))"
   ]
  },
  {
   "cell_type": "code",
   "execution_count": 23,
   "id": "c84e995f-f4f1-43f5-b86e-c244463bd074",
   "metadata": {},
   "outputs": [
    {
     "name": "stdout",
     "output_type": "stream",
     "text": [
      "I'm sorry, I am an AI language model and I do not have access to real-time information. Please check the time on your device or ask someone nearby for the current time."
     ]
    }
   ],
   "source": [
    "print_output(chat.create([{\"role\": \"user\", \"content\": \"what time is it\"}], actions = [], stream=True))"
   ]
  },
  {
   "cell_type": "code",
   "execution_count": 20,
   "id": "7781e3c4-54d4-4120-80a7-f8982574b2f1",
   "metadata": {},
   "outputs": [
    {
     "name": "stdout",
     "output_type": "stream",
     "text": [
      "现在的时间是2023年11月11日19:09:56.316740。"
     ]
    }
   ],
   "source": [
    "print_output(chat.create([{\"role\": \"user\", \"content\": \"what time is it, print in chinese\"}], actions = [get_current_time], stream=True))"
   ]
  },
  {
   "cell_type": "code",
   "execution_count": null,
   "id": "8ffedbf1-8c1f-4a5e-937f-1ba8cc60f3b7",
   "metadata": {},
   "outputs": [],
   "source": []
  },
  {
   "cell_type": "code",
   "execution_count": null,
   "id": "713b4702-faa1-4f00-b8cb-1a07d5e89b9d",
   "metadata": {},
   "outputs": [],
   "source": []
  }
 ],
 "metadata": {
  "kernelspec": {
   "display_name": "Python 3 (ipykernel)",
   "language": "python",
   "name": "python3"
  },
  "language_info": {
   "codemirror_mode": {
    "name": "ipython",
    "version": 3
   },
   "file_extension": ".py",
   "mimetype": "text/x-python",
   "name": "python",
   "nbconvert_exporter": "python",
   "pygments_lexer": "ipython3",
   "version": "3.9.2"
  }
 },
 "nbformat": 4,
 "nbformat_minor": 5
}
