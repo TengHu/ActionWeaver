{
 "cells": [
  {
   "cell_type": "code",
   "execution_count": 14,
   "id": "70c94281-1d38-4e34-bbd0-92ff70227482",
   "metadata": {},
   "outputs": [],
   "source": [
    "import logging\n",
    "import os\n",
    "import openai\n",
    "\n",
    "from typing import List\n",
    "\n",
    "from actionweaver import ActionHandlerMixin, action\n",
    "from actionweaver.cache import preserve_original_signature\n",
    "from actionweaver.llms.openai.chat import OpenAIChatCompletion\n",
    "from actionweaver.llms.openai.tokens import TokenUsageTracker\n",
    "\n",
    "from pydantic import BaseModel\n",
    "\n",
    "openai.api_key = os.getenv(\"OPENAI_API_KEY\")"
   ]
  },
  {
   "cell_type": "code",
   "execution_count": 15,
   "id": "08caafb5-37ca-4c69-a893-58e3313ef9f9",
   "metadata": {},
   "outputs": [],
   "source": [
    "logging.basicConfig(\n",
    "    filename='agent.log',\n",
    "    filemode='a',\n",
    "    format='%(asctime)s.%(msecs)04d %(levelname)s {%(module)s} [%(funcName)s] %(message)s',\n",
    "    level=logging.INFO,\n",
    "    datefmt='%Y-%m-%d %H:%M:%S'\n",
    ")\n",
    "\n",
    "logger = logging.getLogger(__name__)\n",
    "logger.setLevel(logging.DEBUG)"
   ]
  },
  {
   "cell_type": "code",
   "execution_count": null,
   "id": "36926e6c-70ff-453e-a58f-05be18a26087",
   "metadata": {},
   "outputs": [],
   "source": []
  },
  {
   "cell_type": "code",
   "execution_count": 16,
   "id": "079d94a0-19ba-4874-8db3-0b1f28230da8",
   "metadata": {},
   "outputs": [],
   "source": [
    "class LLMAgent(ActionHandlerMixin):\n",
    "    def __init__(self, logger):\n",
    "        self.logger = logger\n",
    "        self.token_tracker = TokenUsageTracker(budget=None, logger=logger)\n",
    "        self.llm = OpenAIChatCompletion(\"gpt-3.5-turbo\", token_usage_tracker = self.token_tracker, logger=logger)\n",
    "        \n",
    "        self.messages = [{\"role\": \"system\", \"content\": \"You are a resourceful assistant, able to inquire for more information if you cannot provide a confident answer to a question.\"}]\n",
    "        self.buffer = [] \n",
    "    \n",
    "    def __call__(self, text):\n",
    "        self.messages += [{\"role\": \"user\", \"content\":text}]\n",
    "\n",
    "        self.buffer = self.messages[-6:] # We only take last 6 messages for input to llm\n",
    "        len_buffer = len(self.buffer)\n",
    "        \n",
    "        response = self.llm.create(messages=self.buffer, scope='global')\n",
    "\n",
    "        self.messages = self.messages[: len(self.messages) - len_buffer] + self.buffer\n",
    "        return response\n",
    "\n",
    "    \n",
    "class AgentV0(LLMAgent):\n",
    "    @action(name=\"GetCurrentTime\", scope=\"global\")\n",
    "    def get_current_time(self) -> str:\n",
    "        \"\"\"\n",
    "        Use this for getting the current time in the specified time zone.\n",
    "        \n",
    "        :return: A string representing the current time in the specified time zone.\n",
    "        \"\"\"\n",
    "        import datetime\n",
    "        current_time = datetime.datetime.now()\n",
    "        \n",
    "        return f\"The current time is {current_time}\"\n",
    "\n",
    "\n",
    "    @action(name=\"Sleep\", scope=\"global\")\n",
    "    def sleep(self, seconds: int) -> str:\n",
    "        \"\"\"\n",
    "        Introduces a sleep delay of the specified seconds and returns a message.\n",
    "    \n",
    "        Args:\n",
    "            seconds (int): The duration to sleep in seconds.\n",
    "    \n",
    "        Returns:\n",
    "            str: A message indicating the completion of the sleep.\n",
    "        \"\"\"\n",
    "        import time\n",
    "        time.sleep(seconds)\n",
    "        return f\"Now I wake up after sleep {seconds} seconds.\"\n",
    "\n",
    "\n",
    "    @action(name=\"Ask\", scope=\"global\")\n",
    "    def ask(self, question: str) -> str:\n",
    "        \"\"\"\n",
    "        Invoke this if you want to ask question, or there is anything need clarification.\n",
    "    \n",
    "        Args:\n",
    "            question (str): The question to ask the user.\n",
    "        \"\"\"\n",
    "        ans = input(f\"Question: {question}\\n\")\n",
    "        return ans\n",
    "\n",
    "\n",
    "\n",
    "agent = AgentV0(logger)"
   ]
  },
  {
   "cell_type": "code",
   "execution_count": 4,
   "id": "c9138451-e0b5-44bd-b768-2c9f25bbcedb",
   "metadata": {},
   "outputs": [
    {
     "data": {
      "text/plain": [
       "'The current time is 19:04.'"
      ]
     },
     "execution_count": 4,
     "metadata": {},
     "output_type": "execute_result"
    }
   ],
   "source": [
    "agent(\"what time is it\")"
   ]
  },
  {
   "cell_type": "code",
   "execution_count": null,
   "id": "842e1792-3210-4be8-85c9-f6c669dfe127",
   "metadata": {},
   "outputs": [],
   "source": []
  },
  {
   "cell_type": "code",
   "execution_count": 17,
   "id": "76c3a82d-d8da-4a74-9e2d-c263bceb107e",
   "metadata": {},
   "outputs": [],
   "source": [
    "class FileUtility(LLMAgent):\n",
    "    @action(name=\"FileHandler\", scope=\"global\")\n",
    "    def handle_file(self, instruction: str) -> str:\n",
    "        \"\"\"\n",
    "        Handles user instructions related to file operations. Put every context in the instruction only!\n",
    "    \n",
    "        Args:\n",
    "            instruction (str): The user's instruction about file handling.\n",
    "    \n",
    "        Returns:\n",
    "            str: The response to the user's question.\n",
    "        \"\"\"\n",
    "        return self.llm.create(messages=[{'role': 'user', 'content': instruction}], scope='file')\n",
    "        \n",
    "\n",
    "    @action(name=\"ListFiles\", scope=\"file\")\n",
    "    def list_all_files_in_repo(self, repo_path: str ='.') -> List:\n",
    "        \"\"\"\n",
    "        Lists all the files in the given repository.\n",
    "    \n",
    "        :param repo_path: Path to the repository. Defaults to the current directory.\n",
    "        :return: List of file paths.\n",
    "        \"\"\"\n",
    "\n",
    "        logger.info(f\"list_all_files_in_repo: {repo_path}\")\n",
    "        \n",
    "        file_list = []\n",
    "        for root, _, files in os.walk(repo_path):\n",
    "            for file in files:\n",
    "                file_list.append(os.path.join(root, file))\n",
    "            break\n",
    "        return file_list\n",
    "\n",
    "    @action(name=\"ReadFile\", scope=\"file\")\n",
    "    def read_from_file(self, file_path: str) -> str:\n",
    "        \"\"\"\n",
    "        Reads the content of a file and returns it as a string.\n",
    "    \n",
    "        :param file_path: The path to the file that needs to be read.\n",
    "        :return: A string containing the content of the file.\n",
    "        \"\"\"\n",
    "        logger.info(f\"read_from_file: {file_path}\")\n",
    "        \n",
    "        with open(file_path, 'r') as file:\n",
    "            content = file.read()\n",
    "        return f\"The file content: \\n{content}\"\n",
    "\n",
    "    @action(name=\"WriteFile\", scope=\"file\")\n",
    "    def write_to_file(self, file_path: str, content: str) -> str:\n",
    "        \"\"\"\n",
    "        Writes the given content to a file.\n",
    "        \n",
    "        :param file_path: The path to the file where the content should be written.\n",
    "        :param content: The content to be written to the file.\n",
    "        \"\"\"\n",
    "        try:\n",
    "            with open(file_path, 'a') as file:\n",
    "                file.write(content)\n",
    "            return \"Content successfully appended to the file.\"\n",
    "        except Exception as e:\n",
    "            return f\"An error occurred while appending to the file: {str(e)}\"\n",
    "        \n",
    "\n",
    "\n",
    "class AgentV1(AgentV0, FileUtility):\n",
    "    pass"
   ]
  },
  {
   "cell_type": "code",
   "execution_count": null,
   "id": "74993086-26fb-415e-b37e-d5cb1914b2d5",
   "metadata": {},
   "outputs": [],
   "source": []
  },
  {
   "cell_type": "code",
   "execution_count": 6,
   "id": "3067a2ae-c4ba-4406-983f-35ea2a5c42c1",
   "metadata": {},
   "outputs": [],
   "source": [
    "agent = AgentV1(logger)"
   ]
  },
  {
   "cell_type": "code",
   "execution_count": 35,
   "id": "fee44c81-5bcb-478d-a1a4-614cd1cb928e",
   "metadata": {},
   "outputs": [
    {
     "name": "stdin",
     "output_type": "stream",
     "text": [
      "Question: Can you please provide your name?\n",
      " Niel\n"
     ]
    },
    {
     "data": {
      "text/plain": [
       "'Thank you for providing your name. I have written it to a file called \"info.txt\" in the current directory. Is there anything else I can assist you with?'"
      ]
     },
     "execution_count": 35,
     "metadata": {},
     "output_type": "execute_result"
    }
   ],
   "source": [
    "agent(\"ask me question about my info, then write to a file called info.txt in current dir\")"
   ]
  },
  {
   "cell_type": "code",
   "execution_count": null,
   "id": "4684d88c-dbcf-4001-b2f2-3b9430500b93",
   "metadata": {},
   "outputs": [],
   "source": []
  },
  {
   "cell_type": "code",
   "execution_count": 18,
   "id": "9dde9d68-8eb6-442e-b803-8044591882be",
   "metadata": {},
   "outputs": [],
   "source": [
    "class LangChainTools(LLMAgent):\n",
    "    @action(name=\"GoogleSearch\", scope=\"global\")\n",
    "    def google_search(self, query: str) -> str:\n",
    "        \"\"\"\n",
    "        Perform a Google search using the provided query. \n",
    "        \n",
    "        This action requires `langchain` and `google-api-python-client` installed, and GOOGLE_API_KEY, GOOGLE_CSE_ID environment variables.\n",
    "        See https://python.langchain.com/docs/integrations/tools/google_search.\n",
    "\n",
    "        :param query: The search query to be used for the Google search.\n",
    "        :return: The search results as a string.\n",
    "        \"\"\"\n",
    "        from langchain.utilities import GoogleSearchAPIWrapper\n",
    "\n",
    "        search = GoogleSearchAPIWrapper()\n",
    "        return search.run(query)\n",
    "    \n",
    "class AgentV2(AgentV1, LangChainTools, FileUtility):\n",
    "    pass"
   ]
  },
  {
   "cell_type": "code",
   "execution_count": 8,
   "id": "73b0d68a-e0cf-4bde-9f54-54fe0081d9d6",
   "metadata": {},
   "outputs": [],
   "source": [
    "agent = AgentV2(logger)"
   ]
  },
  {
   "cell_type": "code",
   "execution_count": 9,
   "id": "45ed9d0a-da75-4f63-8e5e-70e8bf793761",
   "metadata": {},
   "outputs": [
    {
     "data": {
      "text/plain": [
       "'The coordinates of the capital of Nigeria, Abuja, are approximately 9.072264° N latitude and 7.491302° E longitude.'"
      ]
     },
     "execution_count": 9,
     "metadata": {},
     "output_type": "execute_result"
    }
   ],
   "source": [
    "agent(\"\"\"what is the coordinate of capitol of Nigeria\"\"\")"
   ]
  },
  {
   "cell_type": "code",
   "execution_count": 19,
   "id": "35c76467-e5d0-40db-a06c-4edc62e36656",
   "metadata": {},
   "outputs": [],
   "source": [
    "class Place(BaseModel):\n",
    "    lat: float\n",
    "    lng: float\n",
    "    description: str\n",
    "\n",
    "class Folium(ActionHandlerMixin):\n",
    "    @action(name=\"ShowMap\", scope=\"global\")\n",
    "    def show_map(self, places: List[Place]) -> str:\n",
    "        \"\"\"\n",
    "        Display a map with the provided latitude and longitude coordinates.\n",
    "        \n",
    "        This action requires proper integration with map services and may require API keys or authentication.\n",
    "        Ensure that relevant documentation and dependencies are properly set up.\n",
    "\n",
    "        This method requires `folium` installed\n",
    "        \"\"\"\n",
    "        import folium\n",
    "\n",
    "        # Calculate the center of all places\n",
    "        avg_lat = sum(place['lat'] for place in places) / len(places)\n",
    "        avg_lng = sum(place['lng'] for place in places) / len(places)\n",
    "    \n",
    "        # Create a folium Map centered at the average latitude and longitude\n",
    "        m = folium.Map(location=[avg_lat, avg_lng])\n",
    "    \n",
    "        # Add markers for each place\n",
    "        for place in places:\n",
    "            folium.Marker([place['lat'], place['lng']], tooltip=place['description']).add_to(m)\n",
    "    \n",
    "        # Display the map\n",
    "        display(m)\n",
    "        return \"Map has been displayed\"\n",
    "\n",
    "\n",
    "class AgentV3(AgentV2, Folium, LangChainTools):\n",
    "    pass\n",
    "\n",
    "agent = AgentV3(logger)"
   ]
  },
  {
   "cell_type": "code",
   "execution_count": 21,
   "id": "1aaddb84-a6c1-4dcf-922d-a8269d273ff7",
   "metadata": {},
   "outputs": [
    {
     "data": {
      "text/html": [
       "<div style=\"width:100%;\"><div style=\"position:relative;width:100%;height:0;padding-bottom:60%;\"><span style=\"color:#565656\">Make this Notebook Trusted to load map: File -> Trust Notebook</span><iframe srcdoc=\"&lt;!DOCTYPE html&gt;\n",
       "&lt;html&gt;\n",
       "&lt;head&gt;\n",
       "    \n",
       "    &lt;meta http-equiv=&quot;content-type&quot; content=&quot;text/html; charset=UTF-8&quot; /&gt;\n",
       "    \n",
       "        &lt;script&gt;\n",
       "            L_NO_TOUCH = false;\n",
       "            L_DISABLE_3D = false;\n",
       "        &lt;/script&gt;\n",
       "    \n",
       "    &lt;style&gt;html, body {width: 100%;height: 100%;margin: 0;padding: 0;}&lt;/style&gt;\n",
       "    &lt;style&gt;#map {position:absolute;top:0;bottom:0;right:0;left:0;}&lt;/style&gt;\n",
       "    &lt;script src=&quot;https://cdn.jsdelivr.net/npm/leaflet@1.9.3/dist/leaflet.js&quot;&gt;&lt;/script&gt;\n",
       "    &lt;script src=&quot;https://code.jquery.com/jquery-1.12.4.min.js&quot;&gt;&lt;/script&gt;\n",
       "    &lt;script src=&quot;https://cdn.jsdelivr.net/npm/bootstrap@5.2.2/dist/js/bootstrap.bundle.min.js&quot;&gt;&lt;/script&gt;\n",
       "    &lt;script src=&quot;https://cdnjs.cloudflare.com/ajax/libs/Leaflet.awesome-markers/2.0.2/leaflet.awesome-markers.js&quot;&gt;&lt;/script&gt;\n",
       "    &lt;link rel=&quot;stylesheet&quot; href=&quot;https://cdn.jsdelivr.net/npm/leaflet@1.9.3/dist/leaflet.css&quot;/&gt;\n",
       "    &lt;link rel=&quot;stylesheet&quot; href=&quot;https://cdn.jsdelivr.net/npm/bootstrap@5.2.2/dist/css/bootstrap.min.css&quot;/&gt;\n",
       "    &lt;link rel=&quot;stylesheet&quot; href=&quot;https://netdna.bootstrapcdn.com/bootstrap/3.0.0/css/bootstrap.min.css&quot;/&gt;\n",
       "    &lt;link rel=&quot;stylesheet&quot; href=&quot;https://cdn.jsdelivr.net/npm/@fortawesome/fontawesome-free@6.2.0/css/all.min.css&quot;/&gt;\n",
       "    &lt;link rel=&quot;stylesheet&quot; href=&quot;https://cdnjs.cloudflare.com/ajax/libs/Leaflet.awesome-markers/2.0.2/leaflet.awesome-markers.css&quot;/&gt;\n",
       "    &lt;link rel=&quot;stylesheet&quot; href=&quot;https://cdn.jsdelivr.net/gh/python-visualization/folium/folium/templates/leaflet.awesome.rotate.min.css&quot;/&gt;\n",
       "    \n",
       "            &lt;meta name=&quot;viewport&quot; content=&quot;width=device-width,\n",
       "                initial-scale=1.0, maximum-scale=1.0, user-scalable=no&quot; /&gt;\n",
       "            &lt;style&gt;\n",
       "                #map_dc9b351288a0cc6d15a884a85fd4b865 {\n",
       "                    position: relative;\n",
       "                    width: 100.0%;\n",
       "                    height: 100.0%;\n",
       "                    left: 0.0%;\n",
       "                    top: 0.0%;\n",
       "                }\n",
       "                .leaflet-container { font-size: 1rem; }\n",
       "            &lt;/style&gt;\n",
       "        \n",
       "&lt;/head&gt;\n",
       "&lt;body&gt;\n",
       "    \n",
       "    \n",
       "            &lt;div class=&quot;folium-map&quot; id=&quot;map_dc9b351288a0cc6d15a884a85fd4b865&quot; &gt;&lt;/div&gt;\n",
       "        \n",
       "&lt;/body&gt;\n",
       "&lt;script&gt;\n",
       "    \n",
       "    \n",
       "            var map_dc9b351288a0cc6d15a884a85fd4b865 = L.map(\n",
       "                &quot;map_dc9b351288a0cc6d15a884a85fd4b865&quot;,\n",
       "                {\n",
       "                    center: [40.70256666666667, -73.942],\n",
       "                    crs: L.CRS.EPSG3857,\n",
       "                    zoom: 10,\n",
       "                    zoomControl: true,\n",
       "                    preferCanvas: false,\n",
       "                }\n",
       "            );\n",
       "\n",
       "            \n",
       "\n",
       "        \n",
       "    \n",
       "            var tile_layer_a32bd461df048498d7fd2d10e647c185 = L.tileLayer(\n",
       "                &quot;https://{s}.tile.openstreetmap.org/{z}/{x}/{y}.png&quot;,\n",
       "                {&quot;attribution&quot;: &quot;Data by \\u0026copy; \\u003ca target=\\&quot;_blank\\&quot; href=\\&quot;http://openstreetmap.org\\&quot;\\u003eOpenStreetMap\\u003c/a\\u003e, under \\u003ca target=\\&quot;_blank\\&quot; href=\\&quot;http://www.openstreetmap.org/copyright\\&quot;\\u003eODbL\\u003c/a\\u003e.&quot;, &quot;detectRetina&quot;: false, &quot;maxNativeZoom&quot;: 18, &quot;maxZoom&quot;: 18, &quot;minZoom&quot;: 0, &quot;noWrap&quot;: false, &quot;opacity&quot;: 1, &quot;subdomains&quot;: &quot;abc&quot;, &quot;tms&quot;: false}\n",
       "            ).addTo(map_dc9b351288a0cc6d15a884a85fd4b865);\n",
       "        \n",
       "    \n",
       "            var marker_0759fab180086f64d5f23e758ac4dac4 = L.marker(\n",
       "                [40.6413, -73.7781],\n",
       "                {}\n",
       "            ).addTo(map_dc9b351288a0cc6d15a884a85fd4b865);\n",
       "        \n",
       "    \n",
       "            marker_0759fab180086f64d5f23e758ac4dac4.bindTooltip(\n",
       "                `&lt;div&gt;\n",
       "                     John F. Kennedy International Airport (JFK)\n",
       "                 &lt;/div&gt;`,\n",
       "                {&quot;sticky&quot;: true}\n",
       "            );\n",
       "        \n",
       "    \n",
       "            var marker_c9151641f0f96ad915c70757e4bb9a51 = L.marker(\n",
       "                [40.6895, -74.1745],\n",
       "                {}\n",
       "            ).addTo(map_dc9b351288a0cc6d15a884a85fd4b865);\n",
       "        \n",
       "    \n",
       "            marker_c9151641f0f96ad915c70757e4bb9a51.bindTooltip(\n",
       "                `&lt;div&gt;\n",
       "                     Newark Liberty International Airport (EWR)\n",
       "                 &lt;/div&gt;`,\n",
       "                {&quot;sticky&quot;: true}\n",
       "            );\n",
       "        \n",
       "    \n",
       "            var marker_c11ee1bdb808b295b4e3dae30e4ee306 = L.marker(\n",
       "                [40.7769, -73.8734],\n",
       "                {}\n",
       "            ).addTo(map_dc9b351288a0cc6d15a884a85fd4b865);\n",
       "        \n",
       "    \n",
       "            marker_c11ee1bdb808b295b4e3dae30e4ee306.bindTooltip(\n",
       "                `&lt;div&gt;\n",
       "                     LaGuardia Airport (LGA)\n",
       "                 &lt;/div&gt;`,\n",
       "                {&quot;sticky&quot;: true}\n",
       "            );\n",
       "        \n",
       "&lt;/script&gt;\n",
       "&lt;/html&gt;\" style=\"position:absolute;width:100%;height:100%;left:0;top:0;border:none !important;\" allowfullscreen webkitallowfullscreen mozallowfullscreen></iframe></div></div>"
      ],
      "text/plain": [
       "<folium.folium.Map at 0x1226b3670>"
      ]
     },
     "metadata": {},
     "output_type": "display_data"
    },
    {
     "data": {
      "text/plain": [
       "'There are three major airports in New York City:\\n\\n1. John F. Kennedy International Airport (JFK)\\n2. Newark Liberty International Airport (EWR)\\n3. LaGuardia Airport (LGA)\\n\\nHere is a map showing the locations of these airports:\\n\\n- John F. Kennedy International Airport (JFK) is located in Queens.\\n- Newark Liberty International Airport (EWR) is located in Newark, New Jersey, but serves the New York City area.\\n- LaGuardia Airport (LGA) is located in Queens.\\n\\nPlease note that the map is for illustrative purposes only and may not represent the exact locations of the airports.'"
      ]
     },
     "execution_count": 21,
     "metadata": {},
     "output_type": "execute_result"
    }
   ],
   "source": [
    "agent(\"\"\"how many airports in NYC, show them on map\"\"\")"
   ]
  },
  {
   "cell_type": "code",
   "execution_count": 117,
   "id": "b18f49ba-b70b-42cc-b4c3-c0e16ac432d4",
   "metadata": {},
   "outputs": [],
   "source": [
    "class OpenAI(LLMAgent):\n",
    "    @action(name=\"GenerateImage\", scope=\"global\")\n",
    "    def generate_image(self, prompt: str) -> str:\n",
    "        \"\"\"\n",
    "        Generates an image based on a given prompt.\n",
    "    \n",
    "        Args:\n",
    "            prompt (str): A descriptive text input that guides the content of the generated image (e.g., \"lion running on Mars\").\n",
    "    \n",
    "        Returns:\n",
    "            str: A message indicating that the image has been created, along with the URL of the generated image.\n",
    "        \"\"\"\n",
    "        from IPython.display import Image, display\n",
    "        response = openai.Image.create(\n",
    "          prompt=prompt,\n",
    "          n=1,\n",
    "          size=\"1024x1024\"\n",
    "        )\n",
    "\n",
    "        \n",
    "        url = response.data[0].url\n",
    "        display(Image(url=url))\n",
    "        return f\"The image has been created\"\n",
    "\n",
    "\n",
    "agent = OpenAI(logger)"
   ]
  },
  {
   "cell_type": "code",
   "execution_count": 118,
   "id": "d154a338-4577-40ff-a150-37817bcf7ac4",
   "metadata": {},
   "outputs": [
    {
     "data": {
      "text/html": [
       "<img src=\"https://oaidalleapiprodscus.blob.core.windows.net/private/org-17yHecK4hysytbO8OMGSed6z/user-KtCgghoridreEgLA7MSbsri9/img-wCqBW9RfrM2BDPAWk6yHWBRr.png?st=2023-08-23T14%3A04%3A54Z&se=2023-08-23T16%3A04%3A54Z&sp=r&sv=2021-08-06&sr=b&rscd=inline&rsct=image/png&skoid=6aaadede-4fb3-4698-a8f6-684d7786b067&sktid=a48cca56-e6da-484e-a814-9c849652bcb3&skt=2023-08-22T17%3A38%3A24Z&ske=2023-08-23T17%3A38%3A24Z&sks=b&skv=2021-08-06&sig=gEdlxpDfA/9PAGOFHi4oiBzZQO4wm1A4Fl5h%2BcmRFvg%3D\"/>"
      ],
      "text/plain": [
       "<IPython.core.display.Image object>"
      ]
     },
     "metadata": {},
     "output_type": "display_data"
    },
    {
     "data": {
      "text/plain": [
       "'Here is the image of New York City on Mars:\\n\\n![New York City on Mars](<insert generated image URL here>)'"
      ]
     },
     "execution_count": 118,
     "metadata": {},
     "output_type": "execute_result"
    }
   ],
   "source": [
    "agent(\"generate a image of nyc on mars\")"
   ]
  },
  {
   "cell_type": "code",
   "execution_count": null,
   "id": "83d44180-8c5e-424e-a4f4-eba06e3d1ec9",
   "metadata": {},
   "outputs": [],
   "source": []
  },
  {
   "cell_type": "code",
   "execution_count": null,
   "id": "4748899c-46a5-4442-8968-2de027ed5310",
   "metadata": {
    "scrolled": true
   },
   "outputs": [],
   "source": []
  },
  {
   "cell_type": "code",
   "execution_count": 107,
   "id": "39f96b45-fbb5-4e06-8a93-96d9ea041a1b",
   "metadata": {},
   "outputs": [],
   "source": []
  },
  {
   "cell_type": "code",
   "execution_count": null,
   "id": "ed270515-e46f-4b13-a82f-78ae4e1e513a",
   "metadata": {},
   "outputs": [],
   "source": []
  }
 ],
 "metadata": {
  "kernelspec": {
   "display_name": "Python 3 (ipykernel)",
   "language": "python",
   "name": "python3"
  },
  "language_info": {
   "codemirror_mode": {
    "name": "ipython",
    "version": 3
   },
   "file_extension": ".py",
   "mimetype": "text/x-python",
   "name": "python",
   "nbconvert_exporter": "python",
   "pygments_lexer": "ipython3",
   "version": "3.9.2"
  }
 },
 "nbformat": 4,
 "nbformat_minor": 5
}
