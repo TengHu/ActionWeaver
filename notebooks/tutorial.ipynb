{
 "cells": [
  {
   "cell_type": "code",
   "execution_count": 16,
   "id": "70c94281-1d38-4e34-bbd0-92ff70227482",
   "metadata": {},
   "outputs": [],
   "source": [
    "import logging\n",
    "import os\n",
    "import openai\n",
    "\n",
    "from typing import List\n",
    "\n",
    "from actionweaver import ActionHandlerMixin, action\n",
    "from actionweaver.cache import preserve_original_signature\n",
    "from actionweaver.llms.openai.chat import OpenAIChatCompletion\n",
    "from actionweaver.llms.openai.tokens import TokenUsageTracker\n",
    "\n",
    "from pydantic import BaseModel\n",
    "\n",
    "openai.api_key = os.getenv(\"OPENAI_API_KEY\")"
   ]
  },
  {
   "cell_type": "code",
   "execution_count": 2,
   "id": "08caafb5-37ca-4c69-a893-58e3313ef9f9",
   "metadata": {},
   "outputs": [],
   "source": [
    "logging.basicConfig(\n",
    "    filename='agent.log',\n",
    "    filemode='a',\n",
    "    format='%(asctime)s.%(msecs)04d %(levelname)s {%(module)s} [%(funcName)s] %(message)s',\n",
    "    level=logging.INFO,\n",
    "    datefmt='%Y-%m-%d %H:%M:%S'\n",
    ")\n",
    "\n",
    "logger = logging.getLogger(__name__)\n",
    "logger.setLevel(logging.DEBUG)"
   ]
  },
  {
   "cell_type": "code",
   "execution_count": 4,
   "id": "079d94a0-19ba-4874-8db3-0b1f28230da8",
   "metadata": {},
   "outputs": [],
   "source": [
    "class LLMAgent(ActionHandlerMixin):\n",
    "    def __init__(self, logger):\n",
    "        self.logger = logger\n",
    "        self.token_tracker = TokenUsageTracker(budget=2000, logger=logger)\n",
    "        self.llm = OpenAIChatCompletion(\"gpt-3.5-turbo-0613\", token_usage_tracker = self.token_tracker, logger=logger)\n",
    "        self.messages = [{\"role\": \"system\", \"content\": \"You're a helpful assistant.\"}]\n",
    "\n",
    "\n",
    "\n",
    "class AgentV0(LLMAgent):\n",
    "    def __call__(self, text):\n",
    "        self.messages += [{\"role\": \"user\", \"content\":text}]\n",
    "        response = self.llm.create(messages=self.messages, scope='global')\n",
    "        return response\n",
    "\n",
    "    @action(name=\"GetCurrentTime\", scope=\"global\")\n",
    "    def get_current_time(self) -> str:\n",
    "        \"\"\"\n",
    "        Use this for getting the current time in the specified time zone.\n",
    "        \n",
    "        :return: A string representing the current time in the specified time zone.\n",
    "        \"\"\"\n",
    "        import datetime\n",
    "        current_time = datetime.datetime.now()\n",
    "        \n",
    "        return f\"The current time is {current_time}\"\n",
    "\n",
    "    import time\n",
    "\n",
    "    @action(name=\"Sleep\", scope=\"global\")\n",
    "    def sleep(self, seconds: int) -> str:\n",
    "        \"\"\"\n",
    "        Introduces a sleep delay of the specified seconds and returns a message.\n",
    "    \n",
    "        Args:\n",
    "            seconds (int): The duration to sleep in seconds.\n",
    "    \n",
    "        Returns:\n",
    "            str: A message indicating the completion of the sleep.\n",
    "        \"\"\"\n",
    "        import time\n",
    "        time.sleep(seconds)\n",
    "        return f\"Now I wake up after sleep {seconds} seconds.\"\n",
    "\n",
    "\n",
    "agent = AgentV0(logger)"
   ]
  },
  {
   "cell_type": "code",
   "execution_count": 29,
   "id": "c9138451-e0b5-44bd-b768-2c9f25bbcedb",
   "metadata": {},
   "outputs": [
    {
     "data": {
      "text/plain": [
       "'Yes, I have slept for 1 second.'"
      ]
     },
     "execution_count": 29,
     "metadata": {},
     "output_type": "execute_result"
    }
   ],
   "source": [
    "agent(\"have you slept\")"
   ]
  },
  {
   "cell_type": "code",
   "execution_count": 15,
   "id": "842e1792-3210-4be8-85c9-f6c669dfe127",
   "metadata": {},
   "outputs": [
    {
     "data": {
      "text/plain": [
       "'I slept for 60 seconds, which is equivalent to 1 minute.'"
      ]
     },
     "execution_count": 15,
     "metadata": {},
     "output_type": "execute_result"
    }
   ],
   "source": [
    "agent(\"how long have you slept\")"
   ]
  },
  {
   "cell_type": "code",
   "execution_count": 11,
   "id": "76c3a82d-d8da-4a74-9e2d-c263bceb107e",
   "metadata": {},
   "outputs": [],
   "source": [
    "class FileUtility(LLMAgent):\n",
    "    @action(name=\"FileHandler\", scope=\"global\")\n",
    "    def handle_file(self, instruction: str) -> str:\n",
    "        \"\"\"\n",
    "        Handles user queries related to file operations.\n",
    "    \n",
    "        Args:\n",
    "            instruction (str): The user's instruction about file handling.\n",
    "    \n",
    "        Returns:\n",
    "            str: The response to the user's question.\n",
    "        \"\"\"\n",
    "        return self.llm.create(messages=[{'role': 'user', 'content': instruction}], scope='file')\n",
    "        \n",
    "\n",
    "    @action(name=\"ListFiles\", scope=\"file\")\n",
    "    def list_all_files_in_repo(self, repo_path: str ='.') -> List:\n",
    "        \"\"\"\n",
    "        Lists all the files in the given repository.\n",
    "    \n",
    "        :param repo_path: Path to the repository. Defaults to the current directory.\n",
    "        :return: List of file paths.\n",
    "        \"\"\"\n",
    "\n",
    "        logger.info(f\"list_all_files_in_repo: {repo_path}\")\n",
    "        \n",
    "        file_list = []\n",
    "        for root, _, files in os.walk(repo_path):\n",
    "            for file in files:\n",
    "                file_list.append(os.path.join(root, file))\n",
    "            break\n",
    "        return file_list\n",
    "\n",
    "    @action(name=\"ReadFile\", scope=\"file\")\n",
    "    def read_from_file(self, file_path: str) -> str:\n",
    "        \"\"\"\n",
    "        Reads the content of a file and returns it as a string.\n",
    "    \n",
    "        :param file_path: The path to the file that needs to be read.\n",
    "        :return: A string containing the content of the file.\n",
    "        \"\"\"\n",
    "        logger.info(f\"read_from_file: {file_path}\")\n",
    "        \n",
    "        with open(file_path, 'r') as file:\n",
    "            content = file.read()\n",
    "        return f\"The file content: \\n{content}\"\n",
    "\n",
    "    @action(name=\"WriteFile\", scope=\"file\")\n",
    "    def write_to_file(self, file_path: str, content: str) -> str:\n",
    "        \"\"\"\n",
    "        Writes the given content to a file.\n",
    "        \n",
    "        :param file_path: The path to the file where the content should be written.\n",
    "        :param content: The content to be written to the file.\n",
    "        \"\"\"\n",
    "        try:\n",
    "            with open(file_path, 'a') as file:\n",
    "                file.write(content)\n",
    "            return \"Content successfully appended to the file.\"\n",
    "        except Exception as e:\n",
    "            return f\"An error occurred while appending to the file: {str(e)}\"\n",
    "        \n",
    "\n",
    "\n",
    "class AgentV1(AgentV0, FileUtility):\n",
    "    def __init__(self, *args, **kwargs):\n",
    "        super().__init__(*args, **kwargs)\n"
   ]
  },
  {
   "cell_type": "code",
   "execution_count": 13,
   "id": "3067a2ae-c4ba-4406-983f-35ea2a5c42c1",
   "metadata": {},
   "outputs": [],
   "source": [
    "agent = AgentV1(logger)"
   ]
  },
  {
   "cell_type": "code",
   "execution_count": 10,
   "id": "fee44c81-5bcb-478d-a1a4-614cd1cb928e",
   "metadata": {},
   "outputs": [
    {
     "data": {
      "text/plain": [
       "\"You're welcome! If you have any more questions, feel free to ask.\""
      ]
     },
     "execution_count": 10,
     "metadata": {},
     "output_type": "execute_result"
    }
   ],
   "source": [
    "agent(\"thanks\")"
   ]
  },
  {
   "cell_type": "code",
   "execution_count": null,
   "id": "4684d88c-dbcf-4001-b2f2-3b9430500b93",
   "metadata": {},
   "outputs": [],
   "source": []
  },
  {
   "cell_type": "code",
   "execution_count": 14,
   "id": "9dde9d68-8eb6-442e-b803-8044591882be",
   "metadata": {},
   "outputs": [],
   "source": [
    "class LangChainTools(LLMAgent):\n",
    "    @action(name=\"GoogleSearch\", scope=\"global\")\n",
    "    def google_search(self, query: str) -> str:\n",
    "        \"\"\"\n",
    "        Perform a Google search using the provided query. \n",
    "        \n",
    "        This action requires `langchain` and `google-api-python-client` installed, and GOOGLE_API_KEY, GOOGLE_CSE_ID environment variables.\n",
    "        See https://python.langchain.com/docs/integrations/tools/google_search.\n",
    "\n",
    "        :param query: The search query to be used for the Google search.\n",
    "        :return: The search results as a string.\n",
    "        \"\"\"\n",
    "        from langchain.utilities import GoogleSearchAPIWrapper\n",
    "\n",
    "        search = GoogleSearchAPIWrapper()\n",
    "        return search.run(query)\n",
    "    \n",
    "class AgentV2(AgentV1, LangChainTools, FileUtility):\n",
    "    def __init__(self, *args, **kwargs):\n",
    "        super().__init__(*args, **kwargs)\n"
   ]
  },
  {
   "cell_type": "code",
   "execution_count": 68,
   "id": "73b0d68a-e0cf-4bde-9f54-54fe0081d9d6",
   "metadata": {},
   "outputs": [],
   "source": [
    "agent = AgentV2(logger)"
   ]
  },
  {
   "cell_type": "code",
   "execution_count": 71,
   "id": "45ed9d0a-da75-4f63-8e5e-70e8bf793761",
   "metadata": {},
   "outputs": [
    {
     "data": {
      "text/plain": [
       "'The capital of Nigeria is Abuja. The coordinates for Abuja are approximately 9.0579° N latitude and 7.4951° E longitude.'"
      ]
     },
     "execution_count": 71,
     "metadata": {},
     "output_type": "execute_result"
    }
   ],
   "source": [
    "agent(\"\"\"what is the coordinate of capitol of Nigeria\"\"\")"
   ]
  },
  {
   "cell_type": "code",
   "execution_count": 35,
   "id": "35c76467-e5d0-40db-a06c-4edc62e36656",
   "metadata": {},
   "outputs": [],
   "source": [
    "class Place(BaseModel):\n",
    "    lat: float\n",
    "    lng: float\n",
    "    description: str\n",
    "\n",
    "class Folium(ActionHandlerMixin):\n",
    "    @action(name=\"ShowMap\", scope=\"global\")\n",
    "    def show_map(self, places: List[Place]) -> str:\n",
    "        \"\"\"\n",
    "        Display a map with the provided latitude and longitude coordinates.\n",
    "        \n",
    "        This action requires proper integration with map services and may require API keys or authentication.\n",
    "        Ensure that relevant documentation and dependencies are properly set up.\n",
    "\n",
    "        This method requires `folium` installed\n",
    "        \"\"\"\n",
    "        import folium\n",
    "\n",
    "        # Calculate the center of all places\n",
    "        avg_lat = sum(place['lat'] for place in places) / len(places)\n",
    "        avg_lng = sum(place['lng'] for place in places) / len(places)\n",
    "    \n",
    "        # Create a folium Map centered at the average latitude and longitude\n",
    "        m = folium.Map(location=[avg_lat, avg_lng])\n",
    "    \n",
    "        # Add markers for each place\n",
    "        for place in places:\n",
    "            folium.Marker([place['lat'], place['lng']], tooltip=place['description']).add_to(m)\n",
    "    \n",
    "        # Display the map\n",
    "        display(m)\n",
    "        return \"Map has been displayed\"\n",
    "\n",
    "\n",
    "class AgentV2(AgentV0, Folium, LangChainTools):\n",
    "    def __init__(self, *args, **kwargs):\n",
    "        super().__init__(*args, **kwargs)\n",
    "\n",
    "agent = AgentV2(logger)"
   ]
  },
  {
   "cell_type": "code",
   "execution_count": 39,
   "id": "1aaddb84-a6c1-4dcf-922d-a8269d273ff7",
   "metadata": {},
   "outputs": [
    {
     "data": {
      "text/html": [
       "<div style=\"width:100%;\"><div style=\"position:relative;width:100%;height:0;padding-bottom:60%;\"><span style=\"color:#565656\">Make this Notebook Trusted to load map: File -> Trust Notebook</span><iframe srcdoc=\"&lt;!DOCTYPE html&gt;\n",
       "&lt;html&gt;\n",
       "&lt;head&gt;\n",
       "    \n",
       "    &lt;meta http-equiv=&quot;content-type&quot; content=&quot;text/html; charset=UTF-8&quot; /&gt;\n",
       "    \n",
       "        &lt;script&gt;\n",
       "            L_NO_TOUCH = false;\n",
       "            L_DISABLE_3D = false;\n",
       "        &lt;/script&gt;\n",
       "    \n",
       "    &lt;style&gt;html, body {width: 100%;height: 100%;margin: 0;padding: 0;}&lt;/style&gt;\n",
       "    &lt;style&gt;#map {position:absolute;top:0;bottom:0;right:0;left:0;}&lt;/style&gt;\n",
       "    &lt;script src=&quot;https://cdn.jsdelivr.net/npm/leaflet@1.9.3/dist/leaflet.js&quot;&gt;&lt;/script&gt;\n",
       "    &lt;script src=&quot;https://code.jquery.com/jquery-1.12.4.min.js&quot;&gt;&lt;/script&gt;\n",
       "    &lt;script src=&quot;https://cdn.jsdelivr.net/npm/bootstrap@5.2.2/dist/js/bootstrap.bundle.min.js&quot;&gt;&lt;/script&gt;\n",
       "    &lt;script src=&quot;https://cdnjs.cloudflare.com/ajax/libs/Leaflet.awesome-markers/2.0.2/leaflet.awesome-markers.js&quot;&gt;&lt;/script&gt;\n",
       "    &lt;link rel=&quot;stylesheet&quot; href=&quot;https://cdn.jsdelivr.net/npm/leaflet@1.9.3/dist/leaflet.css&quot;/&gt;\n",
       "    &lt;link rel=&quot;stylesheet&quot; href=&quot;https://cdn.jsdelivr.net/npm/bootstrap@5.2.2/dist/css/bootstrap.min.css&quot;/&gt;\n",
       "    &lt;link rel=&quot;stylesheet&quot; href=&quot;https://netdna.bootstrapcdn.com/bootstrap/3.0.0/css/bootstrap.min.css&quot;/&gt;\n",
       "    &lt;link rel=&quot;stylesheet&quot; href=&quot;https://cdn.jsdelivr.net/npm/@fortawesome/fontawesome-free@6.2.0/css/all.min.css&quot;/&gt;\n",
       "    &lt;link rel=&quot;stylesheet&quot; href=&quot;https://cdnjs.cloudflare.com/ajax/libs/Leaflet.awesome-markers/2.0.2/leaflet.awesome-markers.css&quot;/&gt;\n",
       "    &lt;link rel=&quot;stylesheet&quot; href=&quot;https://cdn.jsdelivr.net/gh/python-visualization/folium/folium/templates/leaflet.awesome.rotate.min.css&quot;/&gt;\n",
       "    \n",
       "            &lt;meta name=&quot;viewport&quot; content=&quot;width=device-width,\n",
       "                initial-scale=1.0, maximum-scale=1.0, user-scalable=no&quot; /&gt;\n",
       "            &lt;style&gt;\n",
       "                #map_993e37c3ad81843301b87965fb3d349b {\n",
       "                    position: relative;\n",
       "                    width: 100.0%;\n",
       "                    height: 100.0%;\n",
       "                    left: 0.0%;\n",
       "                    top: 0.0%;\n",
       "                }\n",
       "                .leaflet-container { font-size: 1rem; }\n",
       "            &lt;/style&gt;\n",
       "        \n",
       "&lt;/head&gt;\n",
       "&lt;body&gt;\n",
       "    \n",
       "    \n",
       "            &lt;div class=&quot;folium-map&quot; id=&quot;map_993e37c3ad81843301b87965fb3d349b&quot; &gt;&lt;/div&gt;\n",
       "        \n",
       "&lt;/body&gt;\n",
       "&lt;script&gt;\n",
       "    \n",
       "    \n",
       "            var map_993e37c3ad81843301b87965fb3d349b = L.map(\n",
       "                &quot;map_993e37c3ad81843301b87965fb3d349b&quot;,\n",
       "                {\n",
       "                    center: [37.451992, -122.179107],\n",
       "                    crs: L.CRS.EPSG3857,\n",
       "                    zoom: 10,\n",
       "                    zoomControl: true,\n",
       "                    preferCanvas: false,\n",
       "                }\n",
       "            );\n",
       "\n",
       "            \n",
       "\n",
       "        \n",
       "    \n",
       "            var tile_layer_131477e383269c4e2e37bff3d31c468d = L.tileLayer(\n",
       "                &quot;https://{s}.tile.openstreetmap.org/{z}/{x}/{y}.png&quot;,\n",
       "                {&quot;attribution&quot;: &quot;Data by \\u0026copy; \\u003ca target=\\&quot;_blank\\&quot; href=\\&quot;http://openstreetmap.org\\&quot;\\u003eOpenStreetMap\\u003c/a\\u003e, under \\u003ca target=\\&quot;_blank\\&quot; href=\\&quot;http://www.openstreetmap.org/copyright\\&quot;\\u003eODbL\\u003c/a\\u003e.&quot;, &quot;detectRetina&quot;: false, &quot;maxNativeZoom&quot;: 18, &quot;maxZoom&quot;: 18, &quot;minZoom&quot;: 0, &quot;noWrap&quot;: false, &quot;opacity&quot;: 1, &quot;subdomains&quot;: &quot;abc&quot;, &quot;tms&quot;: false}\n",
       "            ).addTo(map_993e37c3ad81843301b87965fb3d349b);\n",
       "        \n",
       "    \n",
       "            var marker_9c0c844a9fdf6565f8e9c8fbf5cb6cf8 = L.marker(\n",
       "                [37.451992, -122.179107],\n",
       "                {}\n",
       "            ).addTo(map_993e37c3ad81843301b87965fb3d349b);\n",
       "        \n",
       "    \n",
       "            marker_9c0c844a9fdf6565f8e9c8fbf5cb6cf8.bindTooltip(\n",
       "                `&lt;div&gt;\n",
       "                     Unusual Ventures Headquarters\n",
       "                 &lt;/div&gt;`,\n",
       "                {&quot;sticky&quot;: true}\n",
       "            );\n",
       "        \n",
       "&lt;/script&gt;\n",
       "&lt;/html&gt;\" style=\"position:absolute;width:100%;height:100%;left:0;top:0;border:none !important;\" allowfullscreen webkitallowfullscreen mozallowfullscreen></iframe></div></div>"
      ],
      "text/plain": [
       "<folium.folium.Map at 0x10f153a60>"
      ]
     },
     "metadata": {},
     "output_type": "display_data"
    },
    {
     "ename": "TokenUsageTrackerException",
     "evalue": "Token budget exceeded. Budget: 2000, Usage: {'prompt_tokens': 2103, 'completion_tokens': 125, 'total_tokens': 2228}",
     "output_type": "error",
     "traceback": [
      "\u001b[0;31m---------------------------------------------------------------------------\u001b[0m",
      "\u001b[0;31mTokenUsageTrackerException\u001b[0m                Traceback (most recent call last)",
      "Cell \u001b[0;32mIn[39], line 1\u001b[0m\n\u001b[0;32m----> 1\u001b[0m \u001b[43magent\u001b[49m\u001b[43m(\u001b[49m\u001b[38;5;124;43m\"\u001b[39;49m\u001b[38;5;124;43mshow me its Headquarter on the map\u001b[39;49m\u001b[38;5;124;43m\"\u001b[39;49m\u001b[43m)\u001b[49m\n",
      "Cell \u001b[0;32mIn[4], line 14\u001b[0m, in \u001b[0;36mAgentV0.__call__\u001b[0;34m(self, text)\u001b[0m\n\u001b[1;32m     12\u001b[0m \u001b[38;5;28;01mdef\u001b[39;00m \u001b[38;5;21m__call__\u001b[39m(\u001b[38;5;28mself\u001b[39m, text):\n\u001b[1;32m     13\u001b[0m     \u001b[38;5;28mself\u001b[39m\u001b[38;5;241m.\u001b[39mmessages \u001b[38;5;241m+\u001b[39m\u001b[38;5;241m=\u001b[39m [{\u001b[38;5;124m\"\u001b[39m\u001b[38;5;124mrole\u001b[39m\u001b[38;5;124m\"\u001b[39m: \u001b[38;5;124m\"\u001b[39m\u001b[38;5;124muser\u001b[39m\u001b[38;5;124m\"\u001b[39m, \u001b[38;5;124m\"\u001b[39m\u001b[38;5;124mcontent\u001b[39m\u001b[38;5;124m\"\u001b[39m:text}]\n\u001b[0;32m---> 14\u001b[0m     response \u001b[38;5;241m=\u001b[39m \u001b[38;5;28;43mself\u001b[39;49m\u001b[38;5;241;43m.\u001b[39;49m\u001b[43mllm\u001b[49m\u001b[38;5;241;43m.\u001b[39;49m\u001b[43mcreate\u001b[49m\u001b[43m(\u001b[49m\u001b[43mmessages\u001b[49m\u001b[38;5;241;43m=\u001b[39;49m\u001b[38;5;28;43mself\u001b[39;49m\u001b[38;5;241;43m.\u001b[39;49m\u001b[43mmessages\u001b[49m\u001b[43m,\u001b[49m\u001b[43m \u001b[49m\u001b[43mscope\u001b[49m\u001b[38;5;241;43m=\u001b[39;49m\u001b[38;5;124;43m'\u001b[39;49m\u001b[38;5;124;43mglobal\u001b[39;49m\u001b[38;5;124;43m'\u001b[39;49m\u001b[43m)\u001b[49m\n\u001b[1;32m     15\u001b[0m     \u001b[38;5;28;01mreturn\u001b[39;00m response\n",
      "File \u001b[0;32m~/Code/actiontools/actionweaver/llms/openai/chat.py:66\u001b[0m, in \u001b[0;36mOpenAIChatCompletion.create\u001b[0;34m(self, messages, scope, *args, **kwargs)\u001b[0m\n\u001b[1;32m     61\u001b[0m \u001b[38;5;28;01melse\u001b[39;00m:\n\u001b[1;32m     62\u001b[0m     api_response \u001b[38;5;241m=\u001b[39m openai\u001b[38;5;241m.\u001b[39mChatCompletion\u001b[38;5;241m.\u001b[39mcreate(\n\u001b[1;32m     63\u001b[0m         model\u001b[38;5;241m=\u001b[39m\u001b[38;5;28mself\u001b[39m\u001b[38;5;241m.\u001b[39mmodel, messages\u001b[38;5;241m=\u001b[39mmessages, \u001b[38;5;241m*\u001b[39margs, \u001b[38;5;241m*\u001b[39m\u001b[38;5;241m*\u001b[39mkwargs\n\u001b[1;32m     64\u001b[0m     )\n\u001b[0;32m---> 66\u001b[0m \u001b[38;5;28;43mself\u001b[39;49m\u001b[38;5;241;43m.\u001b[39;49m\u001b[43mtoken_usage_tracker\u001b[49m\u001b[38;5;241;43m.\u001b[39;49m\u001b[43mtrack_usage\u001b[49m\u001b[43m(\u001b[49m\u001b[43mapi_response\u001b[49m\u001b[38;5;241;43m.\u001b[39;49m\u001b[43musage\u001b[49m\u001b[43m)\u001b[49m\n\u001b[1;32m     68\u001b[0m \u001b[38;5;28mself\u001b[39m\u001b[38;5;241m.\u001b[39mlogger\u001b[38;5;241m.\u001b[39mdebug(\n\u001b[1;32m     69\u001b[0m     \u001b[38;5;124mf\u001b[39m\u001b[38;5;124m\"\u001b[39m\u001b[38;5;124m[OpenAIChatCompletion \u001b[39m\u001b[38;5;132;01m{\u001b[39;00m\u001b[38;5;28mself\u001b[39m\u001b[38;5;241m.\u001b[39mmodel\u001b[38;5;132;01m}\u001b[39;00m\u001b[38;5;124m] Received response from OpenAI api : \u001b[39m\u001b[38;5;132;01m{\u001b[39;00mapi_response\u001b[38;5;132;01m}\u001b[39;00m\u001b[38;5;124m\"\u001b[39m\n\u001b[1;32m     70\u001b[0m )\n\u001b[1;32m     72\u001b[0m message \u001b[38;5;241m=\u001b[39m api_response\u001b[38;5;241m.\u001b[39mchoices[\u001b[38;5;241m0\u001b[39m][\u001b[38;5;124m\"\u001b[39m\u001b[38;5;124mmessage\u001b[39m\u001b[38;5;124m\"\u001b[39m]\n",
      "File \u001b[0;32m~/Code/actiontools/actionweaver/llms/openai/tokens.py:31\u001b[0m, in \u001b[0;36mTokenUsageTracker.track_usage\u001b[0;34m(self, usage)\u001b[0m\n\u001b[1;32m     27\u001b[0m \u001b[38;5;28;01mif\u001b[39;00m \u001b[38;5;28mself\u001b[39m\u001b[38;5;241m.\u001b[39mbudget \u001b[38;5;129;01mis\u001b[39;00m \u001b[38;5;129;01mnot\u001b[39;00m \u001b[38;5;28;01mNone\u001b[39;00m \u001b[38;5;129;01mand\u001b[39;00m \u001b[38;5;28mself\u001b[39m\u001b[38;5;241m.\u001b[39mtracker[\u001b[38;5;124m\"\u001b[39m\u001b[38;5;124mtotal_tokens\u001b[39m\u001b[38;5;124m\"\u001b[39m] \u001b[38;5;241m>\u001b[39m \u001b[38;5;28mself\u001b[39m\u001b[38;5;241m.\u001b[39mbudget:\n\u001b[1;32m     28\u001b[0m     \u001b[38;5;28mself\u001b[39m\u001b[38;5;241m.\u001b[39mlogger\u001b[38;5;241m.\u001b[39merror(\n\u001b[1;32m     29\u001b[0m         \u001b[38;5;124mf\u001b[39m\u001b[38;5;124m\"\u001b[39m\u001b[38;5;124mToken budget exceeded. Usage: \u001b[39m\u001b[38;5;132;01m{\u001b[39;00m\u001b[38;5;28mdict\u001b[39m(\u001b[38;5;28mself\u001b[39m\u001b[38;5;241m.\u001b[39mtracker)\u001b[38;5;132;01m}\u001b[39;00m\u001b[38;5;124m, Budget: \u001b[39m\u001b[38;5;132;01m{\u001b[39;00m\u001b[38;5;28mself\u001b[39m\u001b[38;5;241m.\u001b[39mbudget\u001b[38;5;132;01m}\u001b[39;00m\u001b[38;5;124m\"\u001b[39m\n\u001b[1;32m     30\u001b[0m     )\n\u001b[0;32m---> 31\u001b[0m     \u001b[38;5;28;01mraise\u001b[39;00m TokenUsageTrackerException(\n\u001b[1;32m     32\u001b[0m         \u001b[38;5;124mf\u001b[39m\u001b[38;5;124m\"\u001b[39m\u001b[38;5;124mToken budget exceeded. Budget: \u001b[39m\u001b[38;5;132;01m{\u001b[39;00m\u001b[38;5;28mself\u001b[39m\u001b[38;5;241m.\u001b[39mbudget\u001b[38;5;132;01m}\u001b[39;00m\u001b[38;5;124m, Usage: \u001b[39m\u001b[38;5;132;01m{\u001b[39;00m\u001b[38;5;28mdict\u001b[39m(\u001b[38;5;28mself\u001b[39m\u001b[38;5;241m.\u001b[39mtracker)\u001b[38;5;132;01m}\u001b[39;00m\u001b[38;5;124m\"\u001b[39m\n\u001b[1;32m     33\u001b[0m     )\n\u001b[1;32m     35\u001b[0m \u001b[38;5;28;01mreturn\u001b[39;00m \u001b[38;5;28mself\u001b[39m\u001b[38;5;241m.\u001b[39mtracker\n",
      "\u001b[0;31mTokenUsageTrackerException\u001b[0m: Token budget exceeded. Budget: 2000, Usage: {'prompt_tokens': 2103, 'completion_tokens': 125, 'total_tokens': 2228}"
     ]
    }
   ],
   "source": [
    "agent(\"show me its Headquarter on the map\")"
   ]
  },
  {
   "cell_type": "code",
   "execution_count": null,
   "id": "340b3072-2fca-4c56-8d3b-ec6798c37d35",
   "metadata": {},
   "outputs": [],
   "source": []
  },
  {
   "cell_type": "code",
   "execution_count": null,
   "id": "b18f49ba-b70b-42cc-b4c3-c0e16ac432d4",
   "metadata": {},
   "outputs": [],
   "source": []
  },
  {
   "cell_type": "code",
   "execution_count": null,
   "id": "4748899c-46a5-4442-8968-2de027ed5310",
   "metadata": {},
   "outputs": [],
   "source": []
  },
  {
   "cell_type": "code",
   "execution_count": 107,
   "id": "39f96b45-fbb5-4e06-8a93-96d9ea041a1b",
   "metadata": {},
   "outputs": [],
   "source": []
  },
  {
   "cell_type": "code",
   "execution_count": null,
   "id": "ed270515-e46f-4b13-a82f-78ae4e1e513a",
   "metadata": {},
   "outputs": [],
   "source": []
  }
 ],
 "metadata": {
  "kernelspec": {
   "display_name": "Python 3 (ipykernel)",
   "language": "python",
   "name": "python3"
  },
  "language_info": {
   "codemirror_mode": {
    "name": "ipython",
    "version": 3
   },
   "file_extension": ".py",
   "mimetype": "text/x-python",
   "name": "python",
   "nbconvert_exporter": "python",
   "pygments_lexer": "ipython3",
   "version": "3.9.2"
  }
 },
 "nbformat": 4,
 "nbformat_minor": 5
}
